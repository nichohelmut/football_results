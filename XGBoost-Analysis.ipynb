{
 "cells": [
  {
   "cell_type": "code",
   "execution_count": 1,
   "metadata": {},
   "outputs": [
    {
     "name": "stdout",
     "output_type": "stream",
     "text": [
      "Populating the interactive namespace from numpy and matplotlib\n"
     ]
    }
   ],
   "source": [
    "%pylab inline\n",
    "import xgboost as xgb\n",
    "import pandas as pd\n",
    "import seaborn as sns\n",
    "import numpy as np\n",
    "import matplotlib.pyplot as plt\n",
    "import matplotlib.style as style\n",
    "from sklearn.linear_model import LogisticRegression\n",
    "import clustering as cl\n",
    "from sklearn.feature_selection import SelectFromModel\n",
    "from sklearn.metrics import accuracy_score\n",
    "from sklearn.model_selection import KFold\n",
    "import warnings\n",
    "warnings.filterwarnings('ignore')"
   ]
  },
  {
   "cell_type": "code",
   "execution_count": 2,
   "metadata": {},
   "outputs": [],
   "source": [
    "sns.set(style='whitegrid', rc={'figure.figsize':(11.7,8.27)})\n",
    "sns.set_context('talk', rc={ 'lines.linewidth': 6}, font_scale=1.5)"
   ]
  },
  {
   "cell_type": "code",
   "execution_count": 3,
   "metadata": {},
   "outputs": [],
   "source": [
    "X_with_columns = pd.read_pickle(\"pickle_files/X.pkl\")\n",
    "Z_with_columns = pd.read_pickle(\"pickle_files/Z.pkl\")\n",
    "\n",
    "columns_to_drop = []\n",
    "\n",
    "X_with_columns.drop(columns_to_drop, axis = 1, inplace=True)\n",
    "Z_with_columns.drop(columns_to_drop, axis = 1, inplace=True)\n",
    "\n",
    "X = np.array(X_with_columns)\n",
    "Y = np.array(pd.read_pickle(\"pickle_files/Y.pkl\"))\n",
    "Z = np.array(Z_with_columns)\n",
    "df_next_games = pd.read_pickle(\"pickle_files/next_games.pkl\")"
   ]
  },
  {
   "cell_type": "code",
   "execution_count": 4,
   "metadata": {
    "scrolled": true
   },
   "outputs": [
    {
     "data": {
      "text/plain": [
       "4"
      ]
     },
     "execution_count": 4,
     "metadata": {},
     "output_type": "execute_result"
    }
   ],
   "source": [
    "kf = KFold(n_splits=4, random_state=0, shuffle=True)\n",
    "kf.get_n_splits(X)"
   ]
  },
  {
   "cell_type": "code",
   "execution_count": 5,
   "metadata": {},
   "outputs": [
    {
     "name": "stdout",
     "output_type": "stream",
     "text": [
      "TRAIN: [   0    3    6 ... 1395 1397 1398] TEST: [   1    2    4    5    8    9   14   18   19   27   29   31   34   39\n",
      "   40   44   45   47   49   52   53   54   55   56   58   61   75   80\n",
      "   85   92  108  124  140  141  142  148  152  156  159  161  182  184\n",
      "  186  192  194  195  198  202  204  211  215  224  227  231  233  240\n",
      "  241  247  251  253  254  260  268  269  270  276  278  279  283  295\n",
      "  298  299  300  302  303  308  310  312  315  317  319  320  322  326\n",
      "  330  333  338  342  353  361  362  363  364  376  393  399  406  408\n",
      "  416  418  422  425  427  434  436  438  440  443  445  452  458  459\n",
      "  461  464  465  466  474  479  481  482  483  486  487  489  491  494\n",
      "  500  501  505  506  511  513  517  526  533  535  539  540  546  548\n",
      "  553  554  557  563  565  567  568  569  572  575  579  580  581  583\n",
      "  589  590  597  601  610  619  632  634  641  642  648  654  656  661\n",
      "  662  679  682  692  693  695  708  712  716  717  722  724  733  737\n",
      "  740  744  751  757  759  760  762  764  768  773  776  785  787  788\n",
      "  789  790  793  795  823  826  829  840  846  863  869  870  871  880\n",
      "  881  884  893  895  896  897  898  899  900  901  902  904  905  907\n",
      "  915  916  921  934  935  936  939  942  943  948  955  958  959  960\n",
      "  963  968  974  975  981  982  985  988  991  995  997  998 1002 1005\n",
      " 1013 1017 1018 1019 1024 1025 1031 1039 1044 1048 1051 1056 1059 1062\n",
      " 1063 1064 1072 1084 1096 1100 1105 1110 1114 1115 1118 1121 1124 1133\n",
      " 1146 1148 1149 1151 1159 1164 1165 1168 1174 1179 1184 1190 1194 1200\n",
      " 1202 1203 1212 1213 1214 1225 1227 1231 1232 1241 1244 1248 1254 1261\n",
      " 1262 1266 1269 1275 1276 1277 1278 1280 1282 1283 1284 1291 1294 1295\n",
      " 1299 1303 1318 1327 1328 1329 1331 1332 1334 1337 1339 1341 1342 1344\n",
      " 1345 1346 1347 1359 1361 1365 1367 1370 1371 1374 1389 1392 1396 1399]\n",
      "TRAIN: [   0    1    2 ... 1396 1398 1399] TEST: [   6   10   13   15   16   20   30   37   38   50   60   62   64   65\n",
      "   70   77   79   81   82   83   88   95   97  101  103  105  110  113\n",
      "  117  118  122  127  131  143  144  145  150  154  158  162  165  175\n",
      "  181  183  187  188  190  191  193  196  200  206  214  222  228  230\n",
      "  235  236  239  242  249  252  255  259  261  262  263  264  265  266\n",
      "  267  271  272  294  311  316  318  328  331  349  351  352  356  358\n",
      "  359  366  367  371  381  382  384  386  390  395  397  402  403  405\n",
      "  411  412  413  420  426  431  432  435  442  446  453  457  467  471\n",
      "  472  473  477  478  484  485  492  495  503  512  520  521  523  528\n",
      "  529  530  531  536  541  542  545  549  552  566  571  574  578  587\n",
      "  588  592  608  609  613  615  618  621  625  629  638  644  646  649\n",
      "  651  652  655  657  665  666  667  669  670  672  674  678  686  687\n",
      "  688  689  703  704  711  713  721  725  726  728  729  731  742  743\n",
      "  746  748  752  758  761  769  771  772  775  781  783  794  798  799\n",
      "  801  805  808  810  811  817  818  820  822  824  828  830  831  838\n",
      "  839  847  857  858  862  864  866  874  877  879  887  891  892  906\n",
      "  911  912  913  914  918  920  922  924  927  933  937  938  944  950\n",
      "  953  957  965  966  970  971  977  980  983  986  987  999 1001 1003\n",
      " 1010 1012 1014 1021 1023 1027 1029 1032 1034 1036 1038 1041 1047 1049\n",
      " 1054 1055 1069 1070 1076 1078 1079 1080 1081 1090 1091 1095 1098 1109\n",
      " 1120 1123 1125 1128 1129 1131 1137 1140 1154 1178 1180 1181 1183 1187\n",
      " 1188 1191 1192 1195 1197 1209 1217 1218 1219 1220 1222 1223 1226 1228\n",
      " 1229 1230 1236 1238 1246 1249 1253 1256 1258 1264 1265 1267 1268 1274\n",
      " 1281 1290 1292 1293 1298 1301 1302 1311 1317 1323 1325 1326 1335 1340\n",
      " 1353 1355 1356 1357 1358 1364 1368 1369 1381 1382 1385 1388 1394 1397]\n",
      "TRAIN: [   1    2    4 ... 1396 1397 1399] TEST: [   0    3    7   12   17   21   22   26   35   42   46   48   51   63\n",
      "   66   68   71   74   76   78   89   90   96  100  102  104  107  109\n",
      "  112  114  116  119  120  125  126  132  133  134  135  137  138  155\n",
      "  157  167  170  171  172  173  177  178  179  185  205  208  210  213\n",
      "  217  218  219  220  223  225  226  229  237  238  243  245  246  248\n",
      "  250  258  282  284  285  288  289  292  293  301  304  306  309  313\n",
      "  321  325  327  332  334  337  339  344  345  346  347  350  354  355\n",
      "  360  365  369  372  374  375  378  379  380  385  389  391  392  394\n",
      "  396  401  404  409  410  414  415  417  419  421  424  428  439  441\n",
      "  447  451  454  456  460  462  475  476  490  493  496  497  499  502\n",
      "  507  515  516  518  519  522  524  527  532  538  558  561  564  570\n",
      "  576  577  582  585  593  596  602  603  604  605  614  616  620  622\n",
      "  624  626  627  630  635  636  640  643  650  658  660  664  668  671\n",
      "  676  677  680  681  683  685  690  691  694  698  699  700  702  706\n",
      "  707  709  718  720  723  736  738  741  745  747  753  754  766  780\n",
      "  784  792  796  813  814  815  825  827  833  834  836  837  841  842\n",
      "  844  848  851  852  853  854  856  861  867  875  878  883  923  926\n",
      "  930  940  946  961  962  969  979  984  989  990  992  993  994  996\n",
      " 1000 1008 1009 1011 1015 1026 1030 1042 1045 1046 1050 1052 1057 1058\n",
      " 1061 1073 1074 1075 1083 1086 1087 1089 1092 1093 1099 1101 1102 1103\n",
      " 1108 1116 1122 1126 1127 1130 1132 1136 1139 1142 1144 1147 1150 1156\n",
      " 1158 1160 1161 1163 1170 1173 1175 1177 1182 1185 1186 1189 1193 1196\n",
      " 1205 1211 1215 1233 1234 1235 1237 1239 1240 1243 1252 1255 1260 1263\n",
      " 1279 1288 1296 1304 1307 1309 1310 1313 1314 1319 1320 1321 1322 1324\n",
      " 1343 1349 1352 1372 1373 1375 1377 1378 1380 1384 1386 1391 1393 1398]\n",
      "TRAIN: [   0    1    2 ... 1397 1398 1399] TEST: [  11   23   24   25   28   32   33   36   41   43   57   59   67   69\n",
      "   72   73   84   86   87   91   93   94   98   99  106  111  115  121\n",
      "  123  128  129  130  136  139  146  147  149  151  153  160  163  164\n",
      "  166  168  169  174  176  180  189  197  199  201  203  207  209  212\n",
      "  216  221  232  234  244  256  257  273  274  275  277  280  281  286\n",
      "  287  290  291  296  297  305  307  314  323  324  329  335  336  340\n",
      "  341  343  348  357  368  370  373  377  383  387  388  398  400  407\n",
      "  423  429  430  433  437  444  448  449  450  455  463  468  469  470\n",
      "  480  488  498  504  508  509  510  514  525  534  537  543  544  547\n",
      "  550  551  555  556  559  560  562  573  584  586  591  594  595  598\n",
      "  599  600  606  607  611  612  617  623  628  631  633  637  639  645\n",
      "  647  653  659  663  673  675  684  696  697  701  705  710  714  715\n",
      "  719  727  730  732  734  735  739  749  750  755  756  763  765  767\n",
      "  770  774  777  778  779  782  786  791  797  800  802  803  804  806\n",
      "  807  809  812  816  819  821  832  835  843  845  849  850  855  859\n",
      "  860  865  868  872  873  876  882  885  886  888  889  890  894  903\n",
      "  908  909  910  917  919  925  928  929  931  932  941  945  947  949\n",
      "  951  952  954  956  964  967  972  973  976  978 1004 1006 1007 1016\n",
      " 1020 1022 1028 1033 1035 1037 1040 1043 1053 1060 1065 1066 1067 1068\n",
      " 1071 1077 1082 1085 1088 1094 1097 1104 1106 1107 1111 1112 1113 1117\n",
      " 1119 1134 1135 1138 1141 1143 1145 1152 1153 1155 1157 1162 1166 1167\n",
      " 1169 1171 1172 1176 1198 1199 1201 1204 1206 1207 1208 1210 1216 1221\n",
      " 1224 1242 1245 1247 1250 1251 1257 1259 1270 1271 1272 1273 1285 1286\n",
      " 1287 1289 1297 1300 1305 1306 1308 1312 1315 1316 1330 1333 1336 1338\n",
      " 1348 1350 1351 1354 1360 1362 1363 1366 1376 1379 1383 1387 1390 1395]\n"
     ]
    }
   ],
   "source": [
    "for train_index, test_index in kf.split(X):\n",
    "    print(\"TRAIN:\", train_index, \"TEST:\", test_index)\n",
    "    X_train, X_test = X[train_index], X[test_index]\n",
    "    y_train, y_test = Y[train_index], Y[test_index]"
   ]
  },
  {
   "cell_type": "markdown",
   "metadata": {},
   "source": [
    "## XGBoost"
   ]
  },
  {
   "cell_type": "code",
   "execution_count": 6,
   "metadata": {},
   "outputs": [],
   "source": [
    "XGB_model = xgb.XGBClassifier(silent=False, \n",
    "                      scale_pos_weight=1,\n",
    "                      learning_rate=0.005,  \n",
    "                      colsample_bytree = 0.5,\n",
    "                      subsample = 0.8,\n",
    "                      objective='multi:softprob', \n",
    "                      n_estimators=1000, \n",
    "                      reg_alpha = 0.2,\n",
    "                      max_depth=5, \n",
    "                      gamma=5,\n",
    "                      seed=82)"
   ]
  },
  {
   "cell_type": "code",
   "execution_count": 7,
   "metadata": {},
   "outputs": [],
   "source": [
    "XGB_model.fit(X_train, y_train)\n",
    "y_pred = XGB_model.predict(X_test)\n",
    "y_pred_train = XGB_model.predict(X_train)\n",
    "accuracy = accuracy_score(y_test, y_pred)\n",
    "accuracy_train = accuracy_score(y_train, y_pred_train)"
   ]
  },
  {
   "cell_type": "markdown",
   "metadata": {},
   "source": [
    "## LogisticRegression"
   ]
  },
  {
   "cell_type": "code",
   "execution_count": 8,
   "metadata": {},
   "outputs": [],
   "source": [
    "LR = LogisticRegression(random_state = 42)\n",
    "LR.fit(X_train, y_train)\n",
    "LR_y_pred = LR.predict(X_test)\n",
    "LR_y_pred_train = LR.predict(X_train)\n",
    "LR_accuracy = accuracy_score(y_test, LR_y_pred)\n",
    "LR_accuracy_train = accuracy_score(y_train, LR_y_pred_train)\n"
   ]
  },
  {
   "cell_type": "markdown",
   "metadata": {},
   "source": [
    "## Comparassion"
   ]
  },
  {
   "cell_type": "code",
   "execution_count": 9,
   "metadata": {
    "scrolled": false
   },
   "outputs": [
    {
     "name": "stdout",
     "output_type": "stream",
     "text": [
      "XGB train Accuracy: 70.57%\n",
      "XGB Accuracy: 63.14%\n",
      "LR train Accuracy: 69.71%\n",
      "LR Accuracy: 65.14%\n"
     ]
    }
   ],
   "source": [
    "print(\"XGB train Accuracy: %.2f%%\" % (accuracy_train * 100.0))\n",
    "print(\"XGB Accuracy: %.2f%%\" % (accuracy * 100.0))\n",
    "print(\"LR train Accuracy: %.2f%%\" % (LR_accuracy_train * 100.0))\n",
    "print(\"LR Accuracy: %.2f%%\" % (LR_accuracy * 100.0))"
   ]
  },
  {
   "cell_type": "code",
   "execution_count": 10,
   "metadata": {},
   "outputs": [
    {
     "name": "stdout",
     "output_type": "stream",
     "text": [
      "Feature Importance=0.000, n=45, Accuracy: 65.43%\n",
      "Feature Importance=0.011, n=44, Accuracy: 65.43%\n",
      "Feature Importance=0.016, n=43, Accuracy: 64.86%\n",
      "Feature Importance=0.016, n=42, Accuracy: 65.71%\n",
      "Feature Importance=0.016, n=41, Accuracy: 64.86%\n",
      "Feature Importance=0.016, n=40, Accuracy: 64.86%\n",
      "Feature Importance=0.017, n=39, Accuracy: 66.00%\n",
      "Feature Importance=0.017, n=38, Accuracy: 65.43%\n",
      "Feature Importance=0.017, n=37, Accuracy: 65.71%\n",
      "Feature Importance=0.017, n=36, Accuracy: 65.43%\n",
      "Feature Importance=0.018, n=35, Accuracy: 66.00%\n",
      "Feature Importance=0.018, n=34, Accuracy: 65.14%\n",
      "Feature Importance=0.018, n=33, Accuracy: 66.86%\n",
      "Feature Importance=0.019, n=32, Accuracy: 66.29%\n",
      "Feature Importance=0.019, n=31, Accuracy: 66.00%\n",
      "Feature Importance=0.019, n=30, Accuracy: 67.71%\n",
      "Feature Importance=0.019, n=29, Accuracy: 66.57%\n",
      "Feature Importance=0.019, n=28, Accuracy: 67.43%\n",
      "Feature Importance=0.019, n=27, Accuracy: 66.00%\n",
      "Feature Importance=0.019, n=26, Accuracy: 65.71%\n",
      "Feature Importance=0.020, n=25, Accuracy: 67.14%\n",
      "Feature Importance=0.021, n=24, Accuracy: 66.57%\n",
      "Feature Importance=0.021, n=23, Accuracy: 66.57%\n",
      "Feature Importance=0.021, n=22, Accuracy: 66.00%\n",
      "Feature Importance=0.021, n=21, Accuracy: 64.86%\n",
      "Feature Importance=0.022, n=20, Accuracy: 65.14%\n",
      "Feature Importance=0.022, n=19, Accuracy: 66.57%\n",
      "Feature Importance=0.022, n=18, Accuracy: 65.71%\n",
      "Feature Importance=0.022, n=17, Accuracy: 65.43%\n",
      "Feature Importance=0.022, n=16, Accuracy: 65.43%\n",
      "Feature Importance=0.022, n=15, Accuracy: 65.43%\n",
      "Feature Importance=0.023, n=14, Accuracy: 66.86%\n",
      "Feature Importance=0.023, n=13, Accuracy: 66.00%\n",
      "Feature Importance=0.023, n=12, Accuracy: 64.00%\n",
      "Feature Importance=0.025, n=11, Accuracy: 66.29%\n",
      "Feature Importance=0.027, n=10, Accuracy: 67.14%\n",
      "Feature Importance=0.028, n=9, Accuracy: 67.14%\n",
      "Feature Importance=0.029, n=8, Accuracy: 66.00%\n",
      "Feature Importance=0.029, n=7, Accuracy: 64.29%\n",
      "Feature Importance=0.031, n=6, Accuracy: 61.71%\n",
      "Feature Importance=0.033, n=5, Accuracy: 61.14%\n",
      "Feature Importance=0.034, n=4, Accuracy: 61.43%\n",
      "Feature Importance=0.037, n=3, Accuracy: 63.14%\n",
      "Feature Importance=0.044, n=2, Accuracy: 63.71%\n",
      "Feature Importance=0.046, n=1, Accuracy: 57.71%\n"
     ]
    }
   ],
   "source": [
    "feature_importances = sort(XGB_model.feature_importances_)\n",
    "for feature_importance in feature_importances:\n",
    "    # select features using threshold\n",
    "    selection = SelectFromModel(XGB_model, threshold=feature_importance, prefit=True)\n",
    "    select_X_train = selection.transform(X_train)\n",
    "    # train model\n",
    "    selection_model = xgb.XGBClassifier()\n",
    "    selection_model.fit(select_X_train, y_train)\n",
    "    # eval model\n",
    "    select_X_test = selection.transform(X_test)\n",
    "    y_pred = selection_model.predict(select_X_test)\n",
    "    predictions = [round(value) for value in y_pred]\n",
    "    accuracy = accuracy_score(y_test, predictions)\n",
    "    print(\"Feature Importance=%.3f, n=%d, Accuracy: %.2f%%\" % (feature_importance, select_X_train.shape[1], accuracy*100.0))"
   ]
  },
  {
   "cell_type": "code",
   "execution_count": 11,
   "metadata": {},
   "outputs": [],
   "source": [
    "features_names = list(X_with_columns.columns)"
   ]
  },
  {
   "cell_type": "code",
   "execution_count": 12,
   "metadata": {},
   "outputs": [
    {
     "name": "stdout",
     "output_type": "stream",
     "text": [
      "Feature Importance: AVGFTHG                             4.64%\n",
      "Feature Importance: AVGFTAG                             4.4%\n",
      "Feature Importance: away_ppg                            3.68%\n",
      "Feature Importance: home_ppg                            3.42%\n",
      "Feature Importance: odds_ft_away_team_win               3.33%\n",
      "Feature Importance: odds_ft_home_team_win               3.14%\n",
      "Feature Importance: A_AVGFTAG_1                         2.92%\n",
      "Feature Importance: awt_3                               2.86%\n",
      "Feature Importance: H_AVGFTHG_1                         2.79%\n",
      "Feature Importance: ht_3                                2.69%\n",
      "Feature Importance: H_result_1                          2.51%\n",
      "Feature Importance: A_ATGDIFF_2                         2.32%\n",
      "Feature Importance: H_result_2                          2.29%\n",
      "Feature Importance: A_ATGDIFF_1                         2.26%\n",
      "Feature Importance: A_result_1                          2.25%\n",
      "Feature Importance: H_HTGDIFF_1                         2.25%\n",
      "Feature Importance: Pre-Match PPG (Away)                2.24%\n",
      "Feature Importance: awt_1                               2.22%\n",
      "Feature Importance: ht_2                                2.19%\n",
      "Feature Importance: awt_4                               2.18%\n",
      "Feature Importance: odds_ft_over35                      2.14%\n",
      "Feature Importance: H_HTGDIFF_2                         2.13%\n",
      "Feature Importance: ht_0                                2.09%\n",
      "Feature Importance: A_result_2                          2.07%\n",
      "Feature Importance: Pre-Match PPG (Home)                2.01%\n",
      "Feature Importance: average_goals_per_match_pre_match   1.94%\n",
      "Feature Importance: awt_2                               1.92%\n",
      "Feature Importance: odds_ft_draw                        1.89%\n",
      "Feature Importance: over_05_HT_FHG_percentage_pre_match 1.88%\n",
      "Feature Importance: awt_0                               1.88%\n",
      "Feature Importance: over_25_percentage_pre_match        1.87%\n",
      "Feature Importance: over_35_percentage_pre_match        1.86%\n",
      "Feature Importance: ht_4                                1.85%\n",
      "Feature Importance: odds_btts_no                        1.79%\n",
      "Feature Importance: btts_percentage_pre_match           1.78%\n",
      "Feature Importance: over_45_percentage_pre_match        1.73%\n",
      "Feature Importance: over_15_percentage_pre_match        1.71%\n",
      "Feature Importance: odds_ft_over25                      1.71%\n",
      "Feature Importance: average_corners_per_match_pre_match 1.7%\n",
      "Feature Importance: odds_btts_yes                       1.65%\n",
      "Feature Importance: average_cards_per_match_pre_match   1.63%\n",
      "Feature Importance: ht_1                                1.57%\n",
      "Feature Importance: over_15_HT_FHG_percentage_pre_match 1.56%\n",
      "Feature Importance: odds_ft_over45                      1.08%\n",
      "Feature Importance: odds_ft_over15                      0.0%\n"
     ]
    }
   ],
   "source": [
    "importance = np.round(XGB_model.feature_importances_,4)\n",
    "dictionary = dict(zip(features_names, importance))\n",
    "sorted_dictionary=sorted(dictionary.items(), key=lambda x:x[1], reverse=True)\n",
    "names=[]\n",
    "values=[]\n",
    "for i in range(0, len(importance)):\n",
    "    print('Feature Importance: {:35} {}%'.format(\n",
    "        sorted_dictionary[i][0], np.round(sorted_dictionary[i][1]*100,4))\n",
    "         )\n",
    "    names.append(sorted_dictionary[i][0])\n",
    "    values.append(np.round(sorted_dictionary[i][1]*100,4))"
   ]
  },
  {
   "cell_type": "code",
   "execution_count": 13,
   "metadata": {},
   "outputs": [
    {
     "data": {
      "text/plain": [
       "['average_cards_per_match_pre_match',\n",
       " 'ht_1',\n",
       " 'over_15_HT_FHG_percentage_pre_match',\n",
       " 'odds_ft_over45',\n",
       " 'odds_ft_over15']"
      ]
     },
     "execution_count": 13,
     "metadata": {},
     "output_type": "execute_result"
    }
   ],
   "source": [
    "cum_values = np.cumsum(values)\n",
    "values_over_95 = (cum_values > 95).sum()\n",
    "columns_over_95 = names[-values_over_95:]\n",
    "columns_over_95"
   ]
  },
  {
   "cell_type": "code",
   "execution_count": 14,
   "metadata": {},
   "outputs": [
    {
     "data": {
      "image/png": "[encoded data removed]",
      "text/plain": [
       "<Figure size 842.4x595.44 with 1 Axes>"
      ]
     },
     "metadata": {},
     "output_type": "display_data"
    }
   ],
   "source": [
    "import seaborn as sns; sns.set()\n",
    "import matplotlib.pyplot as plt\n",
    "bottom, top = ylim()\n",
    "bottom = 0\n",
    "plt.plot(names,cum_values, '--bo', color='r')\n",
    "# set importance at 95%\n",
    "plt.axhline(95,color='black')\n",
    "plt.xticks(rotation=90);\n",
    "plt.xlabel('Feature'); \n",
    "plt.ylabel('Percentage'); \n",
    "plt.title('Cumulative Feature Importance');"
   ]
  },
  {
   "cell_type": "markdown",
   "metadata": {},
   "source": [
    "## Predict Result for Next Games"
   ]
  },
  {
   "cell_type": "code",
   "execution_count": 15,
   "metadata": {},
   "outputs": [],
   "source": [
    "z_pred = XGB_model.predict(Z)"
   ]
  },
  {
   "cell_type": "code",
   "execution_count": 16,
   "metadata": {},
   "outputs": [],
   "source": [
    "xgb_df_next_games = df_next_games.copy()"
   ]
  },
  {
   "cell_type": "code",
   "execution_count": 17,
   "metadata": {},
   "outputs": [],
   "source": [
    "xgb_df_next_games['predicted_result'] = z_pred"
   ]
  },
  {
   "cell_type": "code",
   "execution_count": 18,
   "metadata": {},
   "outputs": [
    {
     "data": {
      "text/html": [
       "<div>\n",
       "<style scoped>\n",
       "    .dataframe tbody tr th:only-of-type {\n",
       "        vertical-align: middle;\n",
       "    }\n",
       "\n",
       "    .dataframe tbody tr th {\n",
       "        vertical-align: top;\n",
       "    }\n",
       "\n",
       "    .dataframe thead th {\n",
       "        text-align: right;\n",
       "    }\n",
       "</style>\n",
       "<table border=\"1\" class=\"dataframe\">\n",
       "  <thead>\n",
       "    <tr style=\"text-align: right;\">\n",
       "      <th></th>\n",
       "      <th>home_team_name</th>\n",
       "      <th>away_team_name</th>\n",
       "      <th>predicted_result</th>\n",
       "    </tr>\n",
       "  </thead>\n",
       "  <tbody>\n",
       "    <tr>\n",
       "      <td>1417</td>\n",
       "      <td>Augsburg</td>\n",
       "      <td>Freiburg</td>\n",
       "      <td>3.0</td>\n",
       "    </tr>\n",
       "    <tr>\n",
       "      <td>1418</td>\n",
       "      <td>Fortuna Düsseldorf</td>\n",
       "      <td>Borussia M'gladbach</td>\n",
       "      <td>1.0</td>\n",
       "    </tr>\n",
       "    <tr>\n",
       "      <td>1419</td>\n",
       "      <td>Köln</td>\n",
       "      <td>Bayern München</td>\n",
       "      <td>1.0</td>\n",
       "    </tr>\n",
       "    <tr>\n",
       "      <td>1420</td>\n",
       "      <td>Mainz 05</td>\n",
       "      <td>Schalke 04</td>\n",
       "      <td>1.0</td>\n",
       "    </tr>\n",
       "    <tr>\n",
       "      <td>1421</td>\n",
       "      <td>Bayern München</td>\n",
       "      <td>Paderborn</td>\n",
       "      <td>3.0</td>\n",
       "    </tr>\n",
       "    <tr>\n",
       "      <td>1422</td>\n",
       "      <td>Hertha BSC</td>\n",
       "      <td>Köln</td>\n",
       "      <td>1.0</td>\n",
       "    </tr>\n",
       "    <tr>\n",
       "      <td>1423</td>\n",
       "      <td>Borussia M'gladbach</td>\n",
       "      <td>Hoffenheim</td>\n",
       "      <td>2.0</td>\n",
       "    </tr>\n",
       "    <tr>\n",
       "      <td>1424</td>\n",
       "      <td>Werder Bremen</td>\n",
       "      <td>Borussia Dortmund</td>\n",
       "      <td>1.0</td>\n",
       "    </tr>\n",
       "    <tr>\n",
       "      <td>1425</td>\n",
       "      <td>Freiburg</td>\n",
       "      <td>Fortuna Düsseldorf</td>\n",
       "      <td>3.0</td>\n",
       "    </tr>\n",
       "    <tr>\n",
       "      <td>1426</td>\n",
       "      <td>Schalke 04</td>\n",
       "      <td>RB Leipzig</td>\n",
       "      <td>1.0</td>\n",
       "    </tr>\n",
       "    <tr>\n",
       "      <td>1427</td>\n",
       "      <td>Bayer Leverkusen</td>\n",
       "      <td>Augsburg</td>\n",
       "      <td>3.0</td>\n",
       "    </tr>\n",
       "    <tr>\n",
       "      <td>1428</td>\n",
       "      <td>Wolfsburg</td>\n",
       "      <td>Mainz 05</td>\n",
       "      <td>3.0</td>\n",
       "    </tr>\n",
       "    <tr>\n",
       "      <td>1429</td>\n",
       "      <td>Eintracht Frankfurt</td>\n",
       "      <td>Union Berlin</td>\n",
       "      <td>3.0</td>\n",
       "    </tr>\n",
       "    <tr>\n",
       "      <td>1430</td>\n",
       "      <td>Fortuna Düsseldorf</td>\n",
       "      <td>Hertha BSC</td>\n",
       "      <td>1.0</td>\n",
       "    </tr>\n",
       "    <tr>\n",
       "      <td>1431</td>\n",
       "      <td>Augsburg</td>\n",
       "      <td>Borussia M'gladbach</td>\n",
       "      <td>1.0</td>\n",
       "    </tr>\n",
       "    <tr>\n",
       "      <td>1432</td>\n",
       "      <td>Borussia Dortmund</td>\n",
       "      <td>Freiburg</td>\n",
       "      <td>3.0</td>\n",
       "    </tr>\n",
       "    <tr>\n",
       "      <td>1433</td>\n",
       "      <td>Hoffenheim</td>\n",
       "      <td>Bayern München</td>\n",
       "      <td>1.0</td>\n",
       "    </tr>\n",
       "    <tr>\n",
       "      <td>1434</td>\n",
       "      <td>Mainz 05</td>\n",
       "      <td>Paderborn</td>\n",
       "      <td>3.0</td>\n",
       "    </tr>\n",
       "    <tr>\n",
       "      <td>1435</td>\n",
       "      <td>Köln</td>\n",
       "      <td>Schalke 04</td>\n",
       "      <td>3.0</td>\n",
       "    </tr>\n",
       "    <tr>\n",
       "      <td>1436</td>\n",
       "      <td>Union Berlin</td>\n",
       "      <td>Wolfsburg</td>\n",
       "      <td>1.0</td>\n",
       "    </tr>\n",
       "  </tbody>\n",
       "</table>\n",
       "</div>"
      ],
      "text/plain": [
       "           home_team_name       away_team_name  predicted_result\n",
       "1417             Augsburg             Freiburg               3.0\n",
       "1418   Fortuna Düsseldorf  Borussia M'gladbach               1.0\n",
       "1419                 Köln       Bayern München               1.0\n",
       "1420             Mainz 05           Schalke 04               1.0\n",
       "1421       Bayern München            Paderborn               3.0\n",
       "1422           Hertha BSC                 Köln               1.0\n",
       "1423  Borussia M'gladbach           Hoffenheim               2.0\n",
       "1424        Werder Bremen    Borussia Dortmund               1.0\n",
       "1425             Freiburg   Fortuna Düsseldorf               3.0\n",
       "1426           Schalke 04           RB Leipzig               1.0\n",
       "1427     Bayer Leverkusen             Augsburg               3.0\n",
       "1428            Wolfsburg             Mainz 05               3.0\n",
       "1429  Eintracht Frankfurt         Union Berlin               3.0\n",
       "1430   Fortuna Düsseldorf           Hertha BSC               1.0\n",
       "1431             Augsburg  Borussia M'gladbach               1.0\n",
       "1432    Borussia Dortmund             Freiburg               3.0\n",
       "1433           Hoffenheim       Bayern München               1.0\n",
       "1434             Mainz 05            Paderborn               3.0\n",
       "1435                 Köln           Schalke 04               3.0\n",
       "1436         Union Berlin            Wolfsburg               1.0"
      ]
     },
     "execution_count": 18,
     "metadata": {},
     "output_type": "execute_result"
    }
   ],
   "source": [
    "xgb_df_next_games"
   ]
  },
  {
   "cell_type": "code",
   "execution_count": 19,
   "metadata": {},
   "outputs": [],
   "source": [
    "lr_z_pred = LR.predict(Z)"
   ]
  },
  {
   "cell_type": "code",
   "execution_count": 20,
   "metadata": {},
   "outputs": [],
   "source": [
    "lr_df_next_games = df_next_games.copy()"
   ]
  },
  {
   "cell_type": "code",
   "execution_count": 21,
   "metadata": {},
   "outputs": [],
   "source": [
    "lr_df_next_games['predicted_result'] = lr_z_pred"
   ]
  },
  {
   "cell_type": "code",
   "execution_count": 22,
   "metadata": {},
   "outputs": [
    {
     "data": {
      "text/html": [
       "<div>\n",
       "<style scoped>\n",
       "    .dataframe tbody tr th:only-of-type {\n",
       "        vertical-align: middle;\n",
       "    }\n",
       "\n",
       "    .dataframe tbody tr th {\n",
       "        vertical-align: top;\n",
       "    }\n",
       "\n",
       "    .dataframe thead th {\n",
       "        text-align: right;\n",
       "    }\n",
       "</style>\n",
       "<table border=\"1\" class=\"dataframe\">\n",
       "  <thead>\n",
       "    <tr style=\"text-align: right;\">\n",
       "      <th></th>\n",
       "      <th>home_team_name</th>\n",
       "      <th>away_team_name</th>\n",
       "      <th>predicted_result</th>\n",
       "    </tr>\n",
       "  </thead>\n",
       "  <tbody>\n",
       "    <tr>\n",
       "      <td>1417</td>\n",
       "      <td>Augsburg</td>\n",
       "      <td>Freiburg</td>\n",
       "      <td>3.0</td>\n",
       "    </tr>\n",
       "    <tr>\n",
       "      <td>1418</td>\n",
       "      <td>Fortuna Düsseldorf</td>\n",
       "      <td>Borussia M'gladbach</td>\n",
       "      <td>1.0</td>\n",
       "    </tr>\n",
       "    <tr>\n",
       "      <td>1419</td>\n",
       "      <td>Köln</td>\n",
       "      <td>Bayern München</td>\n",
       "      <td>1.0</td>\n",
       "    </tr>\n",
       "    <tr>\n",
       "      <td>1420</td>\n",
       "      <td>Mainz 05</td>\n",
       "      <td>Schalke 04</td>\n",
       "      <td>3.0</td>\n",
       "    </tr>\n",
       "    <tr>\n",
       "      <td>1421</td>\n",
       "      <td>Bayern München</td>\n",
       "      <td>Paderborn</td>\n",
       "      <td>3.0</td>\n",
       "    </tr>\n",
       "    <tr>\n",
       "      <td>1422</td>\n",
       "      <td>Hertha BSC</td>\n",
       "      <td>Köln</td>\n",
       "      <td>1.0</td>\n",
       "    </tr>\n",
       "    <tr>\n",
       "      <td>1423</td>\n",
       "      <td>Borussia M'gladbach</td>\n",
       "      <td>Hoffenheim</td>\n",
       "      <td>1.0</td>\n",
       "    </tr>\n",
       "    <tr>\n",
       "      <td>1424</td>\n",
       "      <td>Werder Bremen</td>\n",
       "      <td>Borussia Dortmund</td>\n",
       "      <td>1.0</td>\n",
       "    </tr>\n",
       "    <tr>\n",
       "      <td>1425</td>\n",
       "      <td>Freiburg</td>\n",
       "      <td>Fortuna Düsseldorf</td>\n",
       "      <td>1.0</td>\n",
       "    </tr>\n",
       "    <tr>\n",
       "      <td>1426</td>\n",
       "      <td>Schalke 04</td>\n",
       "      <td>RB Leipzig</td>\n",
       "      <td>1.0</td>\n",
       "    </tr>\n",
       "    <tr>\n",
       "      <td>1427</td>\n",
       "      <td>Bayer Leverkusen</td>\n",
       "      <td>Augsburg</td>\n",
       "      <td>3.0</td>\n",
       "    </tr>\n",
       "    <tr>\n",
       "      <td>1428</td>\n",
       "      <td>Wolfsburg</td>\n",
       "      <td>Mainz 05</td>\n",
       "      <td>3.0</td>\n",
       "    </tr>\n",
       "    <tr>\n",
       "      <td>1429</td>\n",
       "      <td>Eintracht Frankfurt</td>\n",
       "      <td>Union Berlin</td>\n",
       "      <td>3.0</td>\n",
       "    </tr>\n",
       "    <tr>\n",
       "      <td>1430</td>\n",
       "      <td>Fortuna Düsseldorf</td>\n",
       "      <td>Hertha BSC</td>\n",
       "      <td>1.0</td>\n",
       "    </tr>\n",
       "    <tr>\n",
       "      <td>1431</td>\n",
       "      <td>Augsburg</td>\n",
       "      <td>Borussia M'gladbach</td>\n",
       "      <td>1.0</td>\n",
       "    </tr>\n",
       "    <tr>\n",
       "      <td>1432</td>\n",
       "      <td>Borussia Dortmund</td>\n",
       "      <td>Freiburg</td>\n",
       "      <td>3.0</td>\n",
       "    </tr>\n",
       "    <tr>\n",
       "      <td>1433</td>\n",
       "      <td>Hoffenheim</td>\n",
       "      <td>Bayern München</td>\n",
       "      <td>1.0</td>\n",
       "    </tr>\n",
       "    <tr>\n",
       "      <td>1434</td>\n",
       "      <td>Mainz 05</td>\n",
       "      <td>Paderborn</td>\n",
       "      <td>3.0</td>\n",
       "    </tr>\n",
       "    <tr>\n",
       "      <td>1435</td>\n",
       "      <td>Köln</td>\n",
       "      <td>Schalke 04</td>\n",
       "      <td>3.0</td>\n",
       "    </tr>\n",
       "    <tr>\n",
       "      <td>1436</td>\n",
       "      <td>Union Berlin</td>\n",
       "      <td>Wolfsburg</td>\n",
       "      <td>3.0</td>\n",
       "    </tr>\n",
       "  </tbody>\n",
       "</table>\n",
       "</div>"
      ],
      "text/plain": [
       "           home_team_name       away_team_name  predicted_result\n",
       "1417             Augsburg             Freiburg               3.0\n",
       "1418   Fortuna Düsseldorf  Borussia M'gladbach               1.0\n",
       "1419                 Köln       Bayern München               1.0\n",
       "1420             Mainz 05           Schalke 04               3.0\n",
       "1421       Bayern München            Paderborn               3.0\n",
       "1422           Hertha BSC                 Köln               1.0\n",
       "1423  Borussia M'gladbach           Hoffenheim               1.0\n",
       "1424        Werder Bremen    Borussia Dortmund               1.0\n",
       "1425             Freiburg   Fortuna Düsseldorf               1.0\n",
       "1426           Schalke 04           RB Leipzig               1.0\n",
       "1427     Bayer Leverkusen             Augsburg               3.0\n",
       "1428            Wolfsburg             Mainz 05               3.0\n",
       "1429  Eintracht Frankfurt         Union Berlin               3.0\n",
       "1430   Fortuna Düsseldorf           Hertha BSC               1.0\n",
       "1431             Augsburg  Borussia M'gladbach               1.0\n",
       "1432    Borussia Dortmund             Freiburg               3.0\n",
       "1433           Hoffenheim       Bayern München               1.0\n",
       "1434             Mainz 05            Paderborn               3.0\n",
       "1435                 Köln           Schalke 04               3.0\n",
       "1436         Union Berlin            Wolfsburg               3.0"
      ]
     },
     "execution_count": 22,
     "metadata": {},
     "output_type": "execute_result"
    }
   ],
   "source": [
    "lr_df_next_games"
   ]
  },
  {
   "cell_type": "code",
   "execution_count": null,
   "metadata": {},
   "outputs": [],
   "source": []
  }
 ],
 "metadata": {
  "kernelspec": {
   "display_name": "Python 3",
   "language": "python",
   "name": "python3"
  },
  "language_info": {
   "codemirror_mode": {
    "name": "ipython",
    "version": 3
   },
   "file_extension": ".py",
   "mimetype": "text/x-python",
   "name": "python",
   "nbconvert_exporter": "python",
   "pygments_lexer": "ipython3",
   "version": "3.7.4"
  }
 },
 "nbformat": 4,
 "nbformat_minor": 2
}
