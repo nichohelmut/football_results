{
 "cells": [
  {
   "cell_type": "code",
   "execution_count": 28,
   "metadata": {
    "scrolled": true
   },
   "outputs": [
    {
     "name": "stdout",
     "output_type": "stream",
     "text": [
      "Populating the interactive namespace from numpy and matplotlib\n"
     ]
    }
   ],
   "source": [
    "%pylab inline\n",
    "import xgboost as xgb\n",
    "import pandas as pd\n",
    "import seaborn as sns\n",
    "import numpy as np\n",
    "import matplotlib.pyplot as plt\n",
    "import matplotlib.style as style\n",
    "from sklearn.linear_model import LogisticRegression\n",
    "import clustering as cl\n",
    "from sklearn.feature_selection import SelectFromModel\n",
    "from sklearn.metrics import accuracy_score\n",
    "from sklearn.model_selection import KFold\n",
    "import warnings\n",
    "warnings.filterwarnings('ignore')"
   ]
  },
  {
   "cell_type": "code",
   "execution_count": 29,
   "metadata": {},
   "outputs": [],
   "source": [
    "sns.set(style='whitegrid', rc={'figure.figsize':(11.7,8.27)})\n",
    "sns.set_context('talk', rc={ 'lines.linewidth': 6}, font_scale=1.5)"
   ]
  },
  {
   "cell_type": "code",
   "execution_count": 30,
   "metadata": {},
   "outputs": [],
   "source": [
    "X_with_columns = pd.read_pickle(\"pickle_files/X.pkl\")\n",
    "Z_with_columns = pd.read_pickle(\"pickle_files/Z.pkl\")\n",
    "\n",
    "columns_to_drop = []\n",
    "\n",
    "X_with_columns.drop(columns_to_drop, axis = 1, inplace=True)\n",
    "Z_with_columns.drop(columns_to_drop, axis = 1, inplace=True)\n",
    "\n",
    "X = np.array(X_with_columns)\n",
    "Y = np.array(pd.read_pickle(\"pickle_files/Y.pkl\"))\n",
    "Z = np.array(Z_with_columns)\n",
    "df_next_games = pd.read_pickle(\"pickle_files/next_games.pkl\")"
   ]
  },
  {
   "cell_type": "code",
   "execution_count": 31,
   "metadata": {},
   "outputs": [
    {
     "data": {
      "text/plain": [
       "(1431, 46)"
      ]
     },
     "execution_count": 31,
     "metadata": {},
     "output_type": "execute_result"
    }
   ],
   "source": [
    "X.shape"
   ]
  },
  {
   "cell_type": "code",
   "execution_count": 32,
   "metadata": {
    "scrolled": true
   },
   "outputs": [
    {
     "data": {
      "text/plain": [
       "(1431,)"
      ]
     },
     "execution_count": 32,
     "metadata": {},
     "output_type": "execute_result"
    }
   ],
   "source": [
    "Y.shape"
   ]
  },
  {
   "cell_type": "code",
   "execution_count": 33,
   "metadata": {},
   "outputs": [
    {
     "data": {
      "text/plain": [
       "3.0    654\n",
       "1.0    432\n",
       "2.0    345\n",
       "dtype: int64"
      ]
     },
     "execution_count": 33,
     "metadata": {},
     "output_type": "execute_result"
    }
   ],
   "source": [
    "pd.Series(Y).value_counts()"
   ]
  },
  {
   "cell_type": "code",
   "execution_count": 34,
   "metadata": {
    "scrolled": true
   },
   "outputs": [
    {
     "data": {
      "text/plain": [
       "4"
      ]
     },
     "execution_count": 34,
     "metadata": {},
     "output_type": "execute_result"
    }
   ],
   "source": [
    "kf = KFold(n_splits=4, random_state=0, shuffle=True)\n",
    "kf.get_n_splits(X)"
   ]
  },
  {
   "cell_type": "code",
   "execution_count": 35,
   "metadata": {},
   "outputs": [
    {
     "name": "stdout",
     "output_type": "stream",
     "text": [
      "TRAIN: [   0    3    6 ... 1427 1428 1429] TEST: [   1    2    4    5    8    9   14   18   19   27   29   31   34   39\n",
      "   40   44   45   47   49   52   53   54   55   56   58   61   75   77\n",
      "   80   85   92  108  124  140  141  142  148  152  156  159  161  175\n",
      "  182  184  186  192  194  198  202  204  211  215  224  227  231  233\n",
      "  240  241  247  251  253  254  260  268  270  278  279  295  298  299\n",
      "  300  302  303  308  310  312  315  317  319  322  326  330  333  342\n",
      "  353  361  362  376  390  393  399  406  408  411  422  425  427  432\n",
      "  436  438  440  445  446  452  458  459  461  465  466  467  471  472\n",
      "  473  477  479  487  489  491  494  500  506  511  513  517  520  526\n",
      "  530  535  536  539  540  542  548  549  553  557  563  565  568  574\n",
      "  579  580  581  587  589  597  608  609  610  613  615  618  619  634\n",
      "  638  642  648  649  651  655  656  657  665  666  672  674  682  703\n",
      "  704  711  712  716  717  726  731  733  737  740  742  748  759  764\n",
      "  771  781  783  785  787  788  790  792  794  798  801  817  818  824\n",
      "  828  829  831  840  853  862  864  871  874  881  893  896  898  899\n",
      "  902  906  913  914  915  918  922  924  930  933  934  942  943  944\n",
      "  946  950  953  955  966  968  970  971  974  977  987  988  991  995\n",
      "  996  999 1002 1011 1012 1013 1015 1019 1030 1031 1034 1036 1044 1045\n",
      " 1048 1051 1055 1058 1059 1062 1063 1069 1072 1073 1074 1079 1083 1084\n",
      " 1086 1087 1090 1092 1095 1096 1097 1100 1102 1105 1121 1125 1127 1130\n",
      " 1139 1142 1146 1147 1149 1158 1168 1173 1174 1187 1189 1190 1193 1199\n",
      " 1212 1215 1219 1220 1224 1226 1229 1232 1239 1240 1248 1249 1253 1257\n",
      " 1258 1266 1273 1275 1281 1282 1283 1286 1290 1294 1295 1297 1305 1308\n",
      " 1310 1311 1319 1320 1322 1323 1327 1331 1339 1344 1346 1349 1357 1358\n",
      " 1361 1362 1364 1367 1369 1373 1375 1376 1377 1378 1390 1392 1395 1396\n",
      " 1399 1400 1403 1413 1420 1421 1423 1430]\n",
      "TRAIN: [   0    1    2 ... 1426 1429 1430] TEST: [   6   10   13   15   16   20   30   37   38   60   62   64   65   70\n",
      "   79   81   82   83   88   95   97  101  103  105  110  113  117  118\n",
      "  122  127  131  143  144  145  150  154  158  165  181  183  187  188\n",
      "  190  191  193  195  196  200  206  214  222  228  230  235  236  239\n",
      "  242  249  252  255  259  261  262  263  264  265  266  267  269  271\n",
      "  272  276  283  294  311  316  318  320  328  331  338  349  351  352\n",
      "  356  358  359  363  364  366  367  371  381  382  384  386  395  397\n",
      "  402  403  405  412  413  416  417  418  420  426  431  434  435  442\n",
      "  443  453  457  464  474  478  481  482  483  484  485  486  492  495\n",
      "  501  503  505  512  521  523  528  529  531  533  541  545  546  552\n",
      "  554  566  567  569  571  572  575  578  583  588  590  592  601  620\n",
      "  621  625  629  632  641  644  646  652  654  661  662  667  669  670\n",
      "  678  679  686  687  688  689  692  693  695  708  713  721  722  724\n",
      "  728  729  743  744  746  751  752  757  758  760  761  762  768  769\n",
      "  773  776  784  789  799  805  808  810  811  822  823  826  838  839\n",
      "  841  844  846  847  857  858  861  863  866  867  870  875  877  879\n",
      "  880  883  887  895  897  904  907  912  920  921  927  935  936  937\n",
      "  938  939  940  948  957  959  960  961  962  975  981  983  984  985\n",
      "  986  989  993  994 1001 1003 1018 1021 1023 1024 1025 1039 1042 1047\n",
      " 1050 1052 1061 1075 1078 1088 1089 1093 1101 1103 1110 1115 1120 1123\n",
      " 1129 1131 1135 1136 1140 1145 1148 1150 1154 1156 1164 1165 1177 1178\n",
      " 1179 1184 1186 1192 1195 1200 1203 1205 1217 1223 1228 1233 1234 1238\n",
      " 1241 1242 1244 1245 1246 1254 1255 1256 1259 1260 1264 1265 1268 1271\n",
      " 1276 1284 1292 1302 1306 1317 1321 1324 1326 1330 1336 1341 1348 1350\n",
      " 1353 1354 1355 1356 1359 1365 1371 1372 1380 1386 1387 1388 1389 1398\n",
      " 1401 1402 1405 1414 1416 1419 1427 1428]\n",
      "TRAIN: [   1    2    4 ... 1427 1428 1430] TEST: [   0    3    7   12   17   21   22   26   35   42   46   48   50   51\n",
      "   63   66   68   71   74   76   78   89   90   96  100  102  104  107\n",
      "  109  112  114  116  119  120  125  126  132  133  134  135  137  138\n",
      "  155  157  162  167  170  171  172  173  177  178  179  185  205  208\n",
      "  210  213  217  218  219  220  223  225  226  229  237  238  243  245\n",
      "  246  248  250  258  282  284  285  288  289  292  293  301  304  306\n",
      "  309  313  321  325  327  332  334  337  339  344  345  346  347  350\n",
      "  354  355  360  365  369  372  374  375  378  379  380  385  389  391\n",
      "  392  394  396  401  404  409  410  414  415  419  421  424  428  439\n",
      "  441  447  451  454  456  460  462  475  476  490  493  496  497  499\n",
      "  502  507  515  516  518  519  522  524  527  532  538  558  561  564\n",
      "  570  576  577  582  585  593  596  602  603  604  605  614  616  622\n",
      "  624  626  627  630  635  636  640  643  650  658  660  664  668  671\n",
      "  676  677  680  681  683  685  690  691  694  698  699  700  702  706\n",
      "  707  709  718  720  723  725  736  738  741  745  747  753  754  766\n",
      "  772  775  780  793  795  796  813  814  815  820  825  827  830  833\n",
      "  834  836  837  842  848  851  852  854  856  869  878  884  891  892\n",
      "  900  901  905  911  916  923  926  958  963  965  969  979  980  982\n",
      "  990  992  997  998 1000 1005 1008 1009 1010 1014 1017 1026 1027 1029\n",
      " 1032 1038 1041 1046 1049 1054 1056 1057 1064 1070 1076 1081 1091 1098\n",
      " 1099 1108 1109 1114 1116 1118 1124 1126 1128 1132 1133 1137 1151 1157\n",
      " 1159 1161 1163 1166 1169 1175 1180 1181 1185 1188 1196 1197 1202 1209\n",
      " 1210 1211 1213 1214 1218 1222 1227 1230 1231 1235 1237 1243 1247 1261\n",
      " 1262 1263 1267 1270 1279 1288 1291 1296 1303 1304 1307 1309 1318 1332\n",
      " 1334 1338 1340 1342 1343 1347 1351 1352 1374 1384 1404 1406 1408 1409\n",
      " 1411 1412 1415 1417 1422 1424 1425 1429]\n",
      "TRAIN: [   0    1    2 ... 1428 1429 1430] TEST: [  11   23   24   25   28   32   33   36   41   43   57   59   67   69\n",
      "   72   73   84   86   87   91   93   94   98   99  106  111  115  121\n",
      "  123  128  129  130  136  139  146  147  149  151  153  160  163  164\n",
      "  166  168  169  174  176  180  189  197  199  201  203  207  209  212\n",
      "  216  221  232  234  244  256  257  273  274  275  277  280  281  286\n",
      "  287  290  291  296  297  305  307  314  323  324  329  335  336  340\n",
      "  341  343  348  357  368  370  373  377  383  387  388  398  400  407\n",
      "  423  429  430  433  437  444  448  449  450  455  463  468  469  470\n",
      "  480  488  498  504  508  509  510  514  525  534  537  543  544  547\n",
      "  550  551  555  556  559  560  562  573  584  586  591  594  595  598\n",
      "  599  600  606  607  611  612  617  623  628  631  633  637  639  645\n",
      "  647  653  659  663  673  675  684  696  697  701  705  710  714  715\n",
      "  719  727  730  732  734  735  739  749  750  755  756  763  765  767\n",
      "  770  774  777  778  779  782  786  791  797  800  802  803  804  806\n",
      "  807  809  812  816  819  821  832  835  843  845  849  850  855  859\n",
      "  860  865  868  872  873  876  882  885  886  888  889  890  894  903\n",
      "  908  909  910  917  919  925  928  929  931  932  941  945  947  949\n",
      "  951  952  954  956  964  967  972  973  976  978 1004 1006 1007 1016\n",
      " 1020 1022 1028 1033 1035 1037 1040 1043 1053 1060 1065 1066 1067 1068\n",
      " 1071 1077 1080 1082 1085 1094 1104 1106 1107 1111 1112 1113 1117 1119\n",
      " 1122 1134 1138 1141 1143 1144 1152 1153 1155 1160 1162 1167 1170 1171\n",
      " 1172 1176 1182 1183 1191 1194 1198 1201 1204 1206 1207 1208 1216 1221\n",
      " 1225 1236 1250 1251 1252 1269 1272 1274 1277 1278 1280 1285 1287 1289\n",
      " 1293 1298 1299 1300 1301 1312 1313 1314 1315 1316 1325 1328 1329 1333\n",
      " 1335 1337 1345 1360 1363 1366 1368 1370 1379 1381 1382 1383 1385 1391\n",
      " 1393 1394 1397 1407 1410 1418 1426]\n"
     ]
    }
   ],
   "source": [
    "for train_index, test_index in kf.split(X):\n",
    "    print(\"TRAIN:\", train_index, \"TEST:\", test_index)\n",
    "    X_train, X_test = X[train_index], X[test_index]\n",
    "    y_train, y_test = Y[train_index], Y[test_index]"
   ]
  },
  {
   "cell_type": "markdown",
   "metadata": {},
   "source": [
    "## XGBoost"
   ]
  },
  {
   "cell_type": "code",
   "execution_count": 36,
   "metadata": {},
   "outputs": [],
   "source": [
    "XGB_model = xgb.XGBClassifier(silent=False, \n",
    "                      scale_pos_weight=1,\n",
    "                      learning_rate=0.005,  \n",
    "                      colsample_bytree = 0.5,\n",
    "                      subsample = 0.8,\n",
    "                      objective='multi:softprob', \n",
    "                      n_estimators=1000, \n",
    "                      reg_alpha = 0.2,\n",
    "                      max_depth=5, \n",
    "                      gamma=5,\n",
    "                      seed=82)"
   ]
  },
  {
   "cell_type": "code",
   "execution_count": 37,
   "metadata": {},
   "outputs": [],
   "source": [
    "XGB_model.fit(X_train, y_train)\n",
    "y_pred = XGB_model.predict(X_test)\n",
    "y_pred_train = XGB_model.predict(X_train)\n",
    "accuracy = accuracy_score(y_test, y_pred)\n",
    "accuracy_train = accuracy_score(y_train, y_pred_train)"
   ]
  },
  {
   "cell_type": "code",
   "execution_count": 38,
   "metadata": {},
   "outputs": [
    {
     "data": {
      "text/plain": [
       "(357,)"
      ]
     },
     "execution_count": 38,
     "metadata": {},
     "output_type": "execute_result"
    }
   ],
   "source": [
    "y_pred.shape"
   ]
  },
  {
   "cell_type": "code",
   "execution_count": 39,
   "metadata": {},
   "outputs": [
    {
     "data": {
      "text/plain": [
       "3.0    238\n",
       "1.0    106\n",
       "2.0     13\n",
       "dtype: int64"
      ]
     },
     "execution_count": 39,
     "metadata": {},
     "output_type": "execute_result"
    }
   ],
   "source": [
    "pd.Series(y_pred).value_counts()"
   ]
  },
  {
   "cell_type": "markdown",
   "metadata": {},
   "source": [
    "## LogisticRegression"
   ]
  },
  {
   "cell_type": "code",
   "execution_count": 40,
   "metadata": {},
   "outputs": [],
   "source": [
    "LR = LogisticRegression(random_state = 42)\n",
    "LR.fit(X_train, y_train)\n",
    "LR_y_pred = LR.predict(X_test)\n",
    "LR_y_pred_train = LR.predict(X_train)\n",
    "LR_accuracy = accuracy_score(y_test, LR_y_pred)\n",
    "LR_accuracy_train = accuracy_score(y_train, LR_y_pred_train)"
   ]
  },
  {
   "cell_type": "code",
   "execution_count": 41,
   "metadata": {},
   "outputs": [
    {
     "data": {
      "text/plain": [
       "3.0    222\n",
       "1.0    114\n",
       "2.0     21\n",
       "dtype: int64"
      ]
     },
     "execution_count": 41,
     "metadata": {},
     "output_type": "execute_result"
    }
   ],
   "source": [
    "pd.Series(LR_y_pred).value_counts()"
   ]
  },
  {
   "cell_type": "markdown",
   "metadata": {},
   "source": [
    "## Comparassion"
   ]
  },
  {
   "cell_type": "code",
   "execution_count": 42,
   "metadata": {
    "scrolled": false
   },
   "outputs": [
    {
     "name": "stdout",
     "output_type": "stream",
     "text": [
      "XGB train Accuracy: 70.76%\n",
      "XGB Accuracy: 62.75%\n",
      "LR train Accuracy: 70.95%\n",
      "LR Accuracy: 69.19%\n"
     ]
    }
   ],
   "source": [
    "print(\"XGB train Accuracy: %.2f%%\" % (accuracy_train * 100.0))\n",
    "print(\"XGB Accuracy: %.2f%%\" % (accuracy * 100.0))\n",
    "print(\"LR train Accuracy: %.2f%%\" % (LR_accuracy_train * 100.0))\n",
    "print(\"LR Accuracy: %.2f%%\" % (LR_accuracy * 100.0))"
   ]
  },
  {
   "cell_type": "code",
   "execution_count": 43,
   "metadata": {},
   "outputs": [],
   "source": [
    "features_names = list(X_with_columns.columns)"
   ]
  },
  {
   "cell_type": "code",
   "execution_count": 44,
   "metadata": {},
   "outputs": [
    {
     "name": "stdout",
     "output_type": "stream",
     "text": [
      "Feature Importance: AVGHTGDIFF                          4.4%\n",
      "Feature Importance: AVGATGDIFF                          4.34%\n",
      "Feature Importance: home_ppg                            3.62%\n",
      "Feature Importance: away_ppg                            3.5%\n",
      "Feature Importance: odds_ft_away_team_win               3.36%\n",
      "Feature Importance: awt_3                               3.24%\n",
      "Feature Importance: odds_ft_home_team_win               2.8%\n",
      "Feature Importance: A_AVGATGDIFF_1                      2.74%\n",
      "Feature Importance: H_AVGHTGDIFF_1                      2.72%\n",
      "Feature Importance: awt_4                               2.69%\n",
      "Feature Importance: ht_3                                2.67%\n",
      "Feature Importance: attendance                          2.66%\n",
      "Feature Importance: ht_4                                2.44%\n",
      "Feature Importance: A_result_1                          2.35%\n",
      "Feature Importance: A_ATGDIFF_1                         2.31%\n",
      "Feature Importance: H_HTGDIFF_1                         2.27%\n",
      "Feature Importance: H_result_1                          2.2%\n",
      "Feature Importance: awt_1                               2.16%\n",
      "Feature Importance: ht_2                                2.15%\n",
      "Feature Importance: H_result_2                          2.15%\n",
      "Feature Importance: awt_0                               2.13%\n",
      "Feature Importance: H_HTGDIFF_2                         2.09%\n",
      "Feature Importance: ht_0                                2.06%\n",
      "Feature Importance: Pre-Match PPG (Home)                2.05%\n",
      "Feature Importance: over_05_HT_FHG_percentage_pre_match 2.0%\n",
      "Feature Importance: Pre-Match PPG (Away)                1.95%\n",
      "Feature Importance: A_ATGDIFF_2                         1.95%\n",
      "Feature Importance: over_35_percentage_pre_match        1.94%\n",
      "Feature Importance: A_result_2                          1.94%\n",
      "Feature Importance: awt_2                               1.81%\n",
      "Feature Importance: average_cards_per_match_pre_match   1.79%\n",
      "Feature Importance: average_goals_per_match_pre_match   1.73%\n",
      "Feature Importance: odds_ft_draw                        1.73%\n",
      "Feature Importance: over_15_percentage_pre_match        1.65%\n",
      "Feature Importance: average_corners_per_match_pre_match 1.64%\n",
      "Feature Importance: over_45_percentage_pre_match        1.61%\n",
      "Feature Importance: btts_percentage_pre_match           1.59%\n",
      "Feature Importance: odds_ft_over25                      1.56%\n",
      "Feature Importance: odds_btts_yes                       1.56%\n",
      "Feature Importance: ht_1                                1.56%\n",
      "Feature Importance: over_15_HT_FHG_percentage_pre_match 1.52%\n",
      "Feature Importance: odds_ft_over35                      1.43%\n",
      "Feature Importance: over_25_percentage_pre_match        1.36%\n",
      "Feature Importance: odds_btts_no                        1.32%\n",
      "Feature Importance: odds_ft_over15                      1.23%\n",
      "Feature Importance: odds_ft_over45                      0.0%\n"
     ]
    }
   ],
   "source": [
    "importance = np.round(XGB_model.feature_importances_,4)\n",
    "dictionary = dict(zip(features_names, importance))\n",
    "sorted_dictionary=sorted(dictionary.items(), key=lambda x:x[1], reverse=True)\n",
    "names=[]\n",
    "values=[]\n",
    "for i in range(0, len(importance)):\n",
    "    print('Feature Importance: {:35} {}%'.format(\n",
    "        sorted_dictionary[i][0], np.round(sorted_dictionary[i][1]*100,4))\n",
    "         )\n",
    "    names.append(sorted_dictionary[i][0])\n",
    "    values.append(np.round(sorted_dictionary[i][1]*100,4))"
   ]
  },
  {
   "cell_type": "code",
   "execution_count": 45,
   "metadata": {},
   "outputs": [
    {
     "data": {
      "text/plain": [
       "['odds_ft_over35',\n",
       " 'over_25_percentage_pre_match',\n",
       " 'odds_btts_no',\n",
       " 'odds_ft_over15',\n",
       " 'odds_ft_over45']"
      ]
     },
     "execution_count": 45,
     "metadata": {},
     "output_type": "execute_result"
    }
   ],
   "source": [
    "cum_values = np.cumsum(values)\n",
    "values_over_95 = (cum_values > 95).sum()\n",
    "columns_over_95 = names[-values_over_95:]\n",
    "columns_over_95"
   ]
  },
  {
   "cell_type": "code",
   "execution_count": 46,
   "metadata": {},
   "outputs": [
    {
     "data": {
      "image/png": "[encoded data removed]",
      "text/plain": [
       "<Figure size 842.4x595.44 with 1 Axes>"
      ]
     },
     "metadata": {},
     "output_type": "display_data"
    }
   ],
   "source": [
    "import seaborn as sns; sns.set()\n",
    "import matplotlib.pyplot as plt\n",
    "bottom, top = ylim()\n",
    "bottom = 0\n",
    "plt.plot(names,cum_values, '--bo', color='r')\n",
    "# set importance at 95%\n",
    "plt.axhline(95,color='black')\n",
    "plt.xticks(rotation=90);\n",
    "plt.xlabel('Feature'); \n",
    "plt.ylabel('Percentage'); \n",
    "plt.title('Cumulative Feature Importance');"
   ]
  },
  {
   "cell_type": "markdown",
   "metadata": {},
   "source": [
    "## Predict Result for Next Games"
   ]
  },
  {
   "cell_type": "code",
   "execution_count": 47,
   "metadata": {},
   "outputs": [],
   "source": [
    "z_pred = XGB_model.predict(Z)"
   ]
  },
  {
   "cell_type": "code",
   "execution_count": 48,
   "metadata": {},
   "outputs": [],
   "source": [
    "xgb_df_next_games = df_next_games.copy()"
   ]
  },
  {
   "cell_type": "code",
   "execution_count": 49,
   "metadata": {},
   "outputs": [],
   "source": [
    "xgb_df_next_games['predicted_result'] = z_pred"
   ]
  },
  {
   "cell_type": "code",
   "execution_count": 50,
   "metadata": {},
   "outputs": [
    {
     "data": {
      "text/html": [
       "<div>\n",
       "<style scoped>\n",
       "    .dataframe tbody tr th:only-of-type {\n",
       "        vertical-align: middle;\n",
       "    }\n",
       "\n",
       "    .dataframe tbody tr th {\n",
       "        vertical-align: top;\n",
       "    }\n",
       "\n",
       "    .dataframe thead th {\n",
       "        text-align: right;\n",
       "    }\n",
       "</style>\n",
       "<table border=\"1\" class=\"dataframe\">\n",
       "  <thead>\n",
       "    <tr style=\"text-align: right;\">\n",
       "      <th></th>\n",
       "      <th>home_team_name</th>\n",
       "      <th>away_team_name</th>\n",
       "      <th>predicted_result</th>\n",
       "    </tr>\n",
       "  </thead>\n",
       "  <tbody>\n",
       "    <tr>\n",
       "      <td>1448</td>\n",
       "      <td>Borussia Dortmund</td>\n",
       "      <td>Schalke 04</td>\n",
       "      <td>3.0</td>\n",
       "    </tr>\n",
       "    <tr>\n",
       "      <td>1449</td>\n",
       "      <td>RB Leipzig</td>\n",
       "      <td>Freiburg</td>\n",
       "      <td>3.0</td>\n",
       "    </tr>\n",
       "    <tr>\n",
       "      <td>1450</td>\n",
       "      <td>Hoffenheim</td>\n",
       "      <td>Hertha BSC</td>\n",
       "      <td>1.0</td>\n",
       "    </tr>\n",
       "    <tr>\n",
       "      <td>1451</td>\n",
       "      <td>Augsburg</td>\n",
       "      <td>Wolfsburg</td>\n",
       "      <td>1.0</td>\n",
       "    </tr>\n",
       "    <tr>\n",
       "      <td>1452</td>\n",
       "      <td>Fortuna Düsseldorf</td>\n",
       "      <td>Paderborn</td>\n",
       "      <td>3.0</td>\n",
       "    </tr>\n",
       "    <tr>\n",
       "      <td>1453</td>\n",
       "      <td>Eintracht Frankfurt</td>\n",
       "      <td>Borussia M'gladbach</td>\n",
       "      <td>2.0</td>\n",
       "    </tr>\n",
       "    <tr>\n",
       "      <td>1454</td>\n",
       "      <td>Köln</td>\n",
       "      <td>Mainz 05</td>\n",
       "      <td>3.0</td>\n",
       "    </tr>\n",
       "    <tr>\n",
       "      <td>1455</td>\n",
       "      <td>Union Berlin</td>\n",
       "      <td>Bayern München</td>\n",
       "      <td>1.0</td>\n",
       "    </tr>\n",
       "    <tr>\n",
       "      <td>1456</td>\n",
       "      <td>Werder Bremen</td>\n",
       "      <td>Bayer Leverkusen</td>\n",
       "      <td>1.0</td>\n",
       "    </tr>\n",
       "  </tbody>\n",
       "</table>\n",
       "</div>"
      ],
      "text/plain": [
       "           home_team_name       away_team_name  predicted_result\n",
       "1448    Borussia Dortmund           Schalke 04               3.0\n",
       "1449           RB Leipzig             Freiburg               3.0\n",
       "1450           Hoffenheim           Hertha BSC               1.0\n",
       "1451             Augsburg            Wolfsburg               1.0\n",
       "1452   Fortuna Düsseldorf            Paderborn               3.0\n",
       "1453  Eintracht Frankfurt  Borussia M'gladbach               2.0\n",
       "1454                 Köln             Mainz 05               3.0\n",
       "1455         Union Berlin       Bayern München               1.0\n",
       "1456        Werder Bremen     Bayer Leverkusen               1.0"
      ]
     },
     "execution_count": 50,
     "metadata": {},
     "output_type": "execute_result"
    }
   ],
   "source": [
    "xgb_df_next_games"
   ]
  },
  {
   "cell_type": "code",
   "execution_count": 51,
   "metadata": {},
   "outputs": [],
   "source": [
    "lr_z_pred = LR.predict(Z)"
   ]
  },
  {
   "cell_type": "code",
   "execution_count": 52,
   "metadata": {},
   "outputs": [],
   "source": [
    "lr_df_next_games = df_next_games.copy()"
   ]
  },
  {
   "cell_type": "code",
   "execution_count": 53,
   "metadata": {},
   "outputs": [],
   "source": [
    "lr_df_next_games['predicted_result'] = lr_z_pred"
   ]
  },
  {
   "cell_type": "code",
   "execution_count": 54,
   "metadata": {},
   "outputs": [
    {
     "data": {
      "text/html": [
       "<div>\n",
       "<style scoped>\n",
       "    .dataframe tbody tr th:only-of-type {\n",
       "        vertical-align: middle;\n",
       "    }\n",
       "\n",
       "    .dataframe tbody tr th {\n",
       "        vertical-align: top;\n",
       "    }\n",
       "\n",
       "    .dataframe thead th {\n",
       "        text-align: right;\n",
       "    }\n",
       "</style>\n",
       "<table border=\"1\" class=\"dataframe\">\n",
       "  <thead>\n",
       "    <tr style=\"text-align: right;\">\n",
       "      <th></th>\n",
       "      <th>home_team_name</th>\n",
       "      <th>away_team_name</th>\n",
       "      <th>predicted_result</th>\n",
       "    </tr>\n",
       "  </thead>\n",
       "  <tbody>\n",
       "    <tr>\n",
       "      <td>1448</td>\n",
       "      <td>Borussia Dortmund</td>\n",
       "      <td>Schalke 04</td>\n",
       "      <td>3.0</td>\n",
       "    </tr>\n",
       "    <tr>\n",
       "      <td>1449</td>\n",
       "      <td>RB Leipzig</td>\n",
       "      <td>Freiburg</td>\n",
       "      <td>3.0</td>\n",
       "    </tr>\n",
       "    <tr>\n",
       "      <td>1450</td>\n",
       "      <td>Hoffenheim</td>\n",
       "      <td>Hertha BSC</td>\n",
       "      <td>2.0</td>\n",
       "    </tr>\n",
       "    <tr>\n",
       "      <td>1451</td>\n",
       "      <td>Augsburg</td>\n",
       "      <td>Wolfsburg</td>\n",
       "      <td>2.0</td>\n",
       "    </tr>\n",
       "    <tr>\n",
       "      <td>1452</td>\n",
       "      <td>Fortuna Düsseldorf</td>\n",
       "      <td>Paderborn</td>\n",
       "      <td>2.0</td>\n",
       "    </tr>\n",
       "    <tr>\n",
       "      <td>1453</td>\n",
       "      <td>Eintracht Frankfurt</td>\n",
       "      <td>Borussia M'gladbach</td>\n",
       "      <td>3.0</td>\n",
       "    </tr>\n",
       "    <tr>\n",
       "      <td>1454</td>\n",
       "      <td>Köln</td>\n",
       "      <td>Mainz 05</td>\n",
       "      <td>3.0</td>\n",
       "    </tr>\n",
       "    <tr>\n",
       "      <td>1455</td>\n",
       "      <td>Union Berlin</td>\n",
       "      <td>Bayern München</td>\n",
       "      <td>2.0</td>\n",
       "    </tr>\n",
       "    <tr>\n",
       "      <td>1456</td>\n",
       "      <td>Werder Bremen</td>\n",
       "      <td>Bayer Leverkusen</td>\n",
       "      <td>1.0</td>\n",
       "    </tr>\n",
       "  </tbody>\n",
       "</table>\n",
       "</div>"
      ],
      "text/plain": [
       "           home_team_name       away_team_name  predicted_result\n",
       "1448    Borussia Dortmund           Schalke 04               3.0\n",
       "1449           RB Leipzig             Freiburg               3.0\n",
       "1450           Hoffenheim           Hertha BSC               2.0\n",
       "1451             Augsburg            Wolfsburg               2.0\n",
       "1452   Fortuna Düsseldorf            Paderborn               2.0\n",
       "1453  Eintracht Frankfurt  Borussia M'gladbach               3.0\n",
       "1454                 Köln             Mainz 05               3.0\n",
       "1455         Union Berlin       Bayern München               2.0\n",
       "1456        Werder Bremen     Bayer Leverkusen               1.0"
      ]
     },
     "execution_count": 54,
     "metadata": {},
     "output_type": "execute_result"
    }
   ],
   "source": [
    "lr_df_next_games"
   ]
  },
  {
   "cell_type": "markdown",
   "metadata": {},
   "source": [
    "## Save Results to sqlite3"
   ]
  },
  {
   "cell_type": "code",
   "execution_count": 65,
   "metadata": {},
   "outputs": [],
   "source": [
    "import sqlite3\n",
    "# Create your connection.\n",
    "cnx = sqlite3.connect('data.db')"
   ]
  },
  {
   "cell_type": "code",
   "execution_count": 66,
   "metadata": {},
   "outputs": [],
   "source": [
    "lr_df_next_games.to_sql(name='lr_df_next_games', con=cnx)"
   ]
  },
  {
   "cell_type": "code",
   "execution_count": 71,
   "metadata": {},
   "outputs": [],
   "source": [
    "xgb_df_next_games.to_sql(name='xgb_df_next_games', con=cnx)"
   ]
  },
  {
   "cell_type": "code",
   "execution_count": 70,
   "metadata": {},
   "outputs": [],
   "source": [
    "p2 = pd.read_sql('select * from lr_df_next_games', cnx)"
   ]
  },
  {
   "cell_type": "code",
   "execution_count": 72,
   "metadata": {},
   "outputs": [],
   "source": [
    "p3 = pd.read_sql('select * from xgb_df_next_games', cnx)"
   ]
  },
  {
   "cell_type": "code",
   "execution_count": null,
   "metadata": {},
   "outputs": [],
   "source": []
  }
 ],
 "metadata": {
  "kernelspec": {
   "display_name": "Python 3",
   "language": "python",
   "name": "python3"
  },
  "language_info": {
   "codemirror_mode": {
    "name": "ipython",
    "version": 3
   },
   "file_extension": ".py",
   "mimetype": "text/x-python",
   "name": "python",
   "nbconvert_exporter": "python",
   "pygments_lexer": "ipython3",
   "version": "3.7.4"
  }
 },
 "nbformat": 4,
 "nbformat_minor": 2
}
