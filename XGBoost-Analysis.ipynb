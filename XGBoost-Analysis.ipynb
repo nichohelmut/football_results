{
 "cells": [
  {
   "cell_type": "code",
   "execution_count": 1,
   "metadata": {
    "scrolled": true
   },
   "outputs": [
    {
     "name": "stdout",
     "output_type": "stream",
     "text": [
      "Populating the interactive namespace from numpy and matplotlib\n"
     ]
    }
   ],
   "source": [
    "%pylab inline\n",
    "import xgboost as xgb\n",
    "import pandas as pd\n",
    "import seaborn as sns\n",
    "import numpy as np\n",
    "import matplotlib.pyplot as plt\n",
    "import matplotlib.style as style\n",
    "from sklearn.linear_model import LogisticRegression\n",
    "import clustering as cl\n",
    "from sklearn.feature_selection import SelectFromModel\n",
    "from sklearn.metrics import accuracy_score\n",
    "from sklearn.model_selection import KFold\n",
    "import warnings\n",
    "warnings.filterwarnings('ignore')"
   ]
  },
  {
   "cell_type": "code",
   "execution_count": 2,
   "metadata": {},
   "outputs": [],
   "source": [
    "sns.set(style='whitegrid', rc={'figure.figsize':(11.7,8.27)})\n",
    "sns.set_context('talk', rc={ 'lines.linewidth': 6}, font_scale=1.5)"
   ]
  },
  {
   "cell_type": "code",
   "execution_count": 3,
   "metadata": {},
   "outputs": [],
   "source": [
    "X_with_columns = pd.read_pickle(\"pickle_files/X.pkl\")\n",
    "Z_with_columns = pd.read_pickle(\"pickle_files/Z.pkl\")\n",
    "\n",
    "columns_to_drop = []\n",
    "\n",
    "X_with_columns.drop(columns_to_drop, axis = 1, inplace=True)\n",
    "Z_with_columns.drop(columns_to_drop, axis = 1, inplace=True)\n",
    "\n",
    "X = np.array(X_with_columns)\n",
    "Y = np.array(pd.read_pickle(\"pickle_files/Y.pkl\"))\n",
    "Z = np.array(Z_with_columns)\n",
    "df_next_games = pd.read_pickle(\"pickle_files/next_games.pkl\")"
   ]
  },
  {
   "cell_type": "code",
   "execution_count": 4,
   "metadata": {},
   "outputs": [
    {
     "data": {
      "text/plain": [
       "(1495, 46)"
      ]
     },
     "execution_count": 4,
     "metadata": {},
     "output_type": "execute_result"
    }
   ],
   "source": [
    "X.shape"
   ]
  },
  {
   "cell_type": "code",
   "execution_count": 5,
   "metadata": {
    "scrolled": true
   },
   "outputs": [
    {
     "data": {
      "text/plain": [
       "(1495,)"
      ]
     },
     "execution_count": 5,
     "metadata": {},
     "output_type": "execute_result"
    }
   ],
   "source": [
    "Y.shape"
   ]
  },
  {
   "cell_type": "code",
   "execution_count": 6,
   "metadata": {},
   "outputs": [
    {
     "data": {
      "text/plain": [
       "3.0    670\n",
       "1.0    463\n",
       "2.0    362\n",
       "dtype: int64"
      ]
     },
     "execution_count": 6,
     "metadata": {},
     "output_type": "execute_result"
    }
   ],
   "source": [
    "pd.Series(Y).value_counts()"
   ]
  },
  {
   "cell_type": "code",
   "execution_count": 7,
   "metadata": {
    "scrolled": true
   },
   "outputs": [
    {
     "data": {
      "text/plain": [
       "4"
      ]
     },
     "execution_count": 7,
     "metadata": {},
     "output_type": "execute_result"
    }
   ],
   "source": [
    "kf = KFold(n_splits=4, random_state=0, shuffle=True)\n",
    "kf.get_n_splits(X)"
   ]
  },
  {
   "cell_type": "code",
   "execution_count": 8,
   "metadata": {},
   "outputs": [
    {
     "name": "stdout",
     "output_type": "stream",
     "text": [
      "TRAIN: [   0    3    6 ... 1491 1492 1493] TEST: [   1    2    4    5    9   14   18   19   22   27   29   31   34   39\n",
      "   40   45   47   52   53   54   55   56   58   61   75   80   82   85\n",
      "   89   92   96  107  108  113  114  122  124  140  141  142  148  152\n",
      "  156  159  161  175  178  182  184  186  187  191  192  198  202  204\n",
      "  211  215  218  219  220  223  224  227  231  233  241  247  253  254\n",
      "  260  268  270  278  279  295  298  299  302  303  308  309  310  315\n",
      "  317  319  322  326  330  333  342  347  353  354  360  361  362  364\n",
      "  376  381  390  393  408  412  414  422  425  427  434  435  436  438\n",
      "  440  442  443  446  458  465  467  471  473  477  481  482  483  494\n",
      "  501  511  512  513  516  517  520  526  527  529  530  536  539  540\n",
      "  548  549  554  558  563  567  568  574  575  579  580  581  587  590\n",
      "  601  602  609  615  619  620  621  629  632  641  642  646  648  651\n",
      "  654  655  656  657  667  670  674  678  681  682  688  693  695  704\n",
      "  708  712  716  717  720  728  740  743  746  748  760  762  764  768\n",
      "  773  776  781  784  787  789  793  794  795  799  805  808  811  823\n",
      "  825  826  828  841  842  844  862  863  867  874  879  880  884  893\n",
      "  897  905  906  915  918  920  921  922  930  933  934  935  937  942\n",
      "  943  958  959  961  962  963  968  971  980  983  987  996  999 1010\n",
      " 1015 1025 1029 1030 1036 1049 1050 1055 1058 1059 1072 1078 1079 1081\n",
      " 1087 1088 1089 1091 1095 1096 1098 1099 1100 1101 1103 1105 1110 1114\n",
      " 1115 1116 1120 1129 1132 1135 1139 1140 1147 1148 1154 1164 1165 1169\n",
      " 1170 1175 1181 1185 1190 1191 1192 1194 1196 1197 1199 1203 1211 1215\n",
      " 1222 1230 1231 1232 1234 1242 1245 1248 1257 1259 1260 1264 1267 1273\n",
      " 1278 1281 1288 1291 1298 1299 1302 1308 1319 1324 1327 1330 1332 1334\n",
      " 1335 1336 1341 1342 1351 1352 1356 1358 1359 1365 1368 1369 1382 1384\n",
      " 1385 1392 1396 1408 1410 1412 1413 1416 1421 1424 1432 1434 1437 1438\n",
      " 1452 1454 1462 1463 1464 1483 1485 1487 1488 1494]\n",
      "TRAIN: [   0    1    2 ... 1492 1493 1494] TEST: [   8   10   13   15   16   30   44   49   51   60   64   65   70   77\n",
      "   79   81   83   88   95   97  101  103  110  117  127  131  132  144\n",
      "  145  150  154  165  183  185  188  190  194  195  196  200  205  206\n",
      "  214  228  230  239  240  245  249  251  252  255  259  261  263  264\n",
      "  265  267  269  271  272  276  283  294  300  311  312  316  318  320\n",
      "  328  338  349  351  352  356  358  359  363  366  367  371  374  384\n",
      "  386  391  394  395  397  399  401  402  403  405  406  411  413  416\n",
      "  417  418  420  426  431  432  445  452  453  457  459  461  464  466\n",
      "  472  474  476  478  479  486  487  489  491  492  495  500  503  505\n",
      "  506  519  523  528  531  533  535  538  541  542  546  553  557  565\n",
      "  566  569  571  572  578  583  589  592  597  608  610  613  618  625\n",
      "  634  638  644  649  662  665  666  672  676  679  685  686  687  689\n",
      "  692  703  711  713  721  722  724  725  726  729  733  737  742  744\n",
      "  751  752  757  758  759  761  771  790  792  798  801  810  817  820\n",
      "  822  824  829  831  838  839  846  857  861  864  866  870  871  877\n",
      "  878  881  883  896  898  899  901  904  907  911  912  913  927  938\n",
      "  946  953  955  957  960  965  966  969  970  974  977  979  984  992\n",
      "  993  994 1000 1001 1002 1005 1014 1017 1019 1023 1026 1032 1034 1038\n",
      " 1039 1041 1042 1044 1046 1047 1052 1056 1061 1063 1069 1073 1075 1090\n",
      " 1093 1102 1108 1113 1121 1123 1124 1125 1126 1127 1131 1145 1146 1149\n",
      " 1150 1156 1157 1159 1161 1166 1168 1174 1178 1179 1182 1183 1186 1193\n",
      " 1200 1202 1205 1210 1213 1220 1223 1226 1229 1235 1236 1237 1243 1244\n",
      " 1247 1253 1258 1261 1262 1271 1274 1275 1277 1282 1285 1292 1294 1300\n",
      " 1301 1303 1305 1310 1314 1315 1317 1326 1343 1344 1346 1347 1350 1357\n",
      " 1364 1367 1370 1372 1373 1374 1379 1381 1386 1389 1393 1403 1404 1406\n",
      " 1411 1415 1417 1418 1419 1423 1427 1431 1433 1435 1439 1440 1448 1449\n",
      " 1451 1457 1460 1476 1477 1479 1482 1484 1489 1491]\n",
      "TRAIN: [   1    2    4 ... 1490 1491 1494] TEST: [   0    3    6   12   17   20   21   26   35   37   38   42   46   48\n",
      "   50   62   63   66   68   71   74   76   78   90  100  102  104  105\n",
      "  109  112  116  118  119  120  125  126  133  134  135  137  138  143\n",
      "  155  157  158  162  167  170  171  172  173  177  179  181  193  208\n",
      "  210  213  217  222  225  226  229  235  236  237  238  242  243  246\n",
      "  248  250  258  262  266  282  284  285  288  289  292  293  301  304\n",
      "  306  313  321  325  327  331  332  334  337  339  344  345  346  350\n",
      "  355  365  369  372  375  378  379  380  382  385  389  392  396  404\n",
      "  409  410  415  419  421  424  428  439  441  447  451  454  456  460\n",
      "  462  475  484  485  490  493  496  497  499  507  515  518  521  522\n",
      "  524  532  545  552  561  564  570  576  577  582  585  588  593  596\n",
      "  603  604  605  614  616  622  624  626  627  630  635  636  640  643\n",
      "  650  652  658  660  661  664  668  669  671  677  680  683  690  691\n",
      "  694  698  699  700  702  706  707  709  718  723  731  736  738  741\n",
      "  745  747  753  754  766  769  772  775  780  783  785  788  796  813\n",
      "  814  815  818  827  830  833  834  836  837  840  847  848  851  852\n",
      "  853  856  858  869  875  887  891  892  895  900  902  914  916  923\n",
      "  924  926  936  939  940  944  948  950  975  981  982  985  986  988\n",
      "  989  990  991  995  997  998 1003 1008 1009 1011 1012 1013 1018 1021\n",
      " 1024 1027 1031 1045 1048 1051 1054 1057 1062 1064 1070 1074 1076 1083\n",
      " 1084 1086 1092 1097 1109 1122 1128 1133 1136 1137 1142 1151 1158 1177\n",
      " 1180 1184 1187 1188 1189 1209 1214 1218 1219 1224 1225 1227 1233 1238\n",
      " 1239 1246 1254 1255 1256 1263 1265 1266 1268 1269 1270 1276 1279 1286\n",
      " 1287 1290 1296 1297 1306 1307 1311 1313 1320 1321 1322 1323 1325 1339\n",
      " 1340 1349 1353 1354 1366 1371 1378 1380 1388 1391 1394 1398 1399 1400\n",
      " 1401 1402 1405 1414 1426 1429 1436 1442 1445 1446 1450 1461 1466 1467\n",
      " 1468 1471 1472 1474 1475 1478 1480 1486 1492 1493]\n",
      "TRAIN: [   0    1    2 ... 1492 1493 1494] TEST: [   7   11   23   24   25   28   32   33   36   41   43   57   59   67\n",
      "   69   72   73   84   86   87   91   93   94   98   99  106  111  115\n",
      "  121  123  128  129  130  136  139  146  147  149  151  153  160  163\n",
      "  164  166  168  169  174  176  180  189  197  199  201  203  207  209\n",
      "  212  216  221  232  234  244  256  257  273  274  275  277  280  281\n",
      "  286  287  290  291  296  297  305  307  314  323  324  329  335  336\n",
      "  340  341  343  348  357  368  370  373  377  383  387  388  398  400\n",
      "  407  423  429  430  433  437  444  448  449  450  455  463  468  469\n",
      "  470  480  488  498  502  504  508  509  510  514  525  534  537  543\n",
      "  544  547  550  551  555  556  559  560  562  573  584  586  591  594\n",
      "  595  598  599  600  606  607  611  612  617  623  628  631  633  637\n",
      "  639  645  647  653  659  663  673  675  684  696  697  701  705  710\n",
      "  714  715  719  727  730  732  734  735  739  749  750  755  756  763\n",
      "  765  767  770  774  777  778  779  782  786  791  797  800  802  803\n",
      "  804  806  807  809  812  816  819  821  832  835  843  845  849  850\n",
      "  854  855  859  860  865  868  872  873  876  882  885  886  888  889\n",
      "  890  894  903  908  909  910  917  919  925  928  929  931  932  941\n",
      "  945  947  949  951  952  954  956  964  967  972  973  976  978 1004\n",
      " 1006 1007 1016 1020 1022 1028 1033 1035 1037 1040 1043 1053 1060 1065\n",
      " 1066 1067 1068 1071 1077 1080 1082 1085 1094 1104 1106 1107 1111 1112\n",
      " 1117 1118 1119 1130 1134 1138 1141 1143 1144 1152 1153 1155 1160 1162\n",
      " 1163 1167 1171 1172 1173 1176 1195 1198 1201 1204 1206 1207 1208 1212\n",
      " 1216 1217 1221 1228 1240 1241 1249 1250 1251 1252 1272 1280 1283 1284\n",
      " 1289 1293 1295 1304 1309 1312 1316 1318 1328 1329 1331 1333 1337 1338\n",
      " 1345 1348 1355 1360 1361 1362 1363 1375 1376 1377 1383 1387 1390 1395\n",
      " 1397 1407 1409 1420 1422 1425 1428 1430 1441 1443 1444 1447 1453 1455\n",
      " 1456 1458 1459 1465 1469 1470 1473 1481 1490]\n"
     ]
    }
   ],
   "source": [
    "for train_index, test_index in kf.split(X):\n",
    "    print(\"TRAIN:\", train_index, \"TEST:\", test_index)\n",
    "    X_train, X_test = X[train_index], X[test_index]\n",
    "    y_train, y_test = Y[train_index], Y[test_index]"
   ]
  },
  {
   "cell_type": "markdown",
   "metadata": {},
   "source": [
    "## XGBoost"
   ]
  },
  {
   "cell_type": "code",
   "execution_count": 9,
   "metadata": {},
   "outputs": [],
   "source": [
    "XGB_model = xgb.XGBClassifier(silent=False, \n",
    "                      scale_pos_weight=1,\n",
    "                      learning_rate=0.005,  \n",
    "                      colsample_bytree = 0.5,\n",
    "                      subsample = 0.8,\n",
    "                      objective='multi:softprob', \n",
    "                      n_estimators=1000, \n",
    "                      reg_alpha = 0.2,\n",
    "                      max_depth=5, \n",
    "                      gamma=5,\n",
    "                      seed=82)"
   ]
  },
  {
   "cell_type": "code",
   "execution_count": 10,
   "metadata": {},
   "outputs": [
    {
     "name": "stdout",
     "output_type": "stream",
     "text": [
      "[20:29:14] WARNING: /Users/travis/build/dmlc/xgboost/src/learner.cc:480: \n",
      "Parameters: { scale_pos_weight, silent } might not be used.\n",
      "\n",
      "  This may not be accurate due to some parameters are only used in language bindings but\n",
      "  passed down to XGBoost core.  Or some parameters are not used but slip through this\n",
      "  verification. Please open an issue if you find above cases.\n",
      "\n",
      "\n"
     ]
    }
   ],
   "source": [
    "XGB_model.fit(X_train, y_train)\n",
    "y_pred = XGB_model.predict(X_test)\n",
    "y_pred_train = XGB_model.predict(X_train)\n",
    "accuracy = accuracy_score(y_test, y_pred)\n",
    "accuracy_train = accuracy_score(y_train, y_pred_train)"
   ]
  },
  {
   "cell_type": "code",
   "execution_count": 11,
   "metadata": {},
   "outputs": [
    {
     "data": {
      "text/plain": [
       "(373,)"
      ]
     },
     "execution_count": 11,
     "metadata": {},
     "output_type": "execute_result"
    }
   ],
   "source": [
    "y_pred.shape"
   ]
  },
  {
   "cell_type": "code",
   "execution_count": 12,
   "metadata": {},
   "outputs": [
    {
     "data": {
      "text/plain": [
       "3.0    237\n",
       "1.0    115\n",
       "2.0     21\n",
       "dtype: int64"
      ]
     },
     "execution_count": 12,
     "metadata": {},
     "output_type": "execute_result"
    }
   ],
   "source": [
    "pd.Series(y_pred).value_counts()"
   ]
  },
  {
   "cell_type": "markdown",
   "metadata": {},
   "source": [
    "## LogisticRegression"
   ]
  },
  {
   "cell_type": "code",
   "execution_count": 13,
   "metadata": {},
   "outputs": [],
   "source": [
    "LR = LogisticRegression(random_state = 42)\n",
    "LR.fit(X_train, y_train)\n",
    "LR_y_pred = LR.predict(X_test)\n",
    "LR_y_pred_train = LR.predict(X_train)\n",
    "LR_accuracy = accuracy_score(y_test, LR_y_pred)\n",
    "LR_accuracy_train = accuracy_score(y_train, LR_y_pred_train)"
   ]
  },
  {
   "cell_type": "code",
   "execution_count": 14,
   "metadata": {},
   "outputs": [
    {
     "data": {
      "text/plain": [
       "3.0    211\n",
       "1.0    116\n",
       "2.0     46\n",
       "dtype: int64"
      ]
     },
     "execution_count": 14,
     "metadata": {},
     "output_type": "execute_result"
    }
   ],
   "source": [
    "pd.Series(LR_y_pred).value_counts()"
   ]
  },
  {
   "cell_type": "markdown",
   "metadata": {},
   "source": [
    "## Comparassion"
   ]
  },
  {
   "cell_type": "code",
   "execution_count": 15,
   "metadata": {
    "scrolled": false
   },
   "outputs": [
    {
     "name": "stdout",
     "output_type": "stream",
     "text": [
      "XGB train Accuracy: 74.15%\n",
      "XGB Accuracy: 68.63%\n",
      "LR train Accuracy: 75.31%\n",
      "LR Accuracy: 72.39%\n"
     ]
    }
   ],
   "source": [
    "print(\"XGB train Accuracy: %.2f%%\" % (accuracy_train * 100.0))\n",
    "print(\"XGB Accuracy: %.2f%%\" % (accuracy * 100.0))\n",
    "print(\"LR train Accuracy: %.2f%%\" % (LR_accuracy_train * 100.0))\n",
    "print(\"LR Accuracy: %.2f%%\" % (LR_accuracy * 100.0))"
   ]
  },
  {
   "cell_type": "code",
   "execution_count": 16,
   "metadata": {},
   "outputs": [],
   "source": [
    "features_names = list(X_with_columns.columns)"
   ]
  },
  {
   "cell_type": "code",
   "execution_count": 17,
   "metadata": {},
   "outputs": [
    {
     "name": "stdout",
     "output_type": "stream",
     "text": [
      "Feature Importance: AVGHTGDIFF                          4.14%\n",
      "Feature Importance: odds_ft_away_team_win               4.05%\n",
      "Feature Importance: AVGATGDIFF                          3.98%\n",
      "Feature Importance: odds_ft_home_team_win               3.75%\n",
      "Feature Importance: odds_ft_over25                      3.48%\n",
      "Feature Importance: awt_3                               3.39%\n",
      "Feature Importance: odds_ft_draw                        3.05%\n",
      "Feature Importance: away_ppg                            2.8%\n",
      "Feature Importance: home_ppg                            2.73%\n",
      "Feature Importance: A_AVGATGDIFF_1                      2.56%\n",
      "Feature Importance: H_AVGHTGDIFF_1                      2.46%\n",
      "Feature Importance: ht_0                                2.43%\n",
      "Feature Importance: awt_1                               2.37%\n",
      "Feature Importance: attendance                          2.34%\n",
      "Feature Importance: awt_2                               2.11%\n",
      "Feature Importance: A_ATGDIFF_1                         2.06%\n",
      "Feature Importance: odds_ft_over35                      2.04%\n",
      "Feature Importance: H_HTGDIFF_1                         2.04%\n",
      "Feature Importance: H_result_1                          2.01%\n",
      "Feature Importance: ht_4                                1.99%\n",
      "Feature Importance: ht_1                                1.98%\n",
      "Feature Importance: H_HTGDIFF_2                         1.98%\n",
      "Feature Importance: A_result_1                          1.97%\n",
      "Feature Importance: awt_0                               1.96%\n",
      "Feature Importance: H_result_2                          1.91%\n",
      "Feature Importance: Pre-Match PPG (Home)                1.89%\n",
      "Feature Importance: A_result_2                          1.89%\n",
      "Feature Importance: Pre-Match PPG (Away)                1.88%\n",
      "Feature Importance: average_cards_per_match_pre_match   1.88%\n",
      "Feature Importance: average_goals_per_match_pre_match   1.84%\n",
      "Feature Importance: odds_ft_over15                      1.84%\n",
      "Feature Importance: ht_2                                1.84%\n",
      "Feature Importance: over_15_HT_FHG_percentage_pre_match 1.81%\n",
      "Feature Importance: over_25_percentage_pre_match        1.77%\n",
      "Feature Importance: over_35_percentage_pre_match        1.76%\n",
      "Feature Importance: A_ATGDIFF_2                         1.74%\n",
      "Feature Importance: over_05_HT_FHG_percentage_pre_match 1.73%\n",
      "Feature Importance: odds_btts_no                        1.68%\n",
      "Feature Importance: awt_4                               1.66%\n",
      "Feature Importance: average_corners_per_match_pre_match 1.62%\n",
      "Feature Importance: odds_btts_yes                       1.61%\n",
      "Feature Importance: over_45_percentage_pre_match        1.6%\n",
      "Feature Importance: btts_percentage_pre_match           1.57%\n",
      "Feature Importance: over_15_percentage_pre_match        1.56%\n",
      "Feature Importance: odds_ft_over45                      1.28%\n",
      "Feature Importance: ht_3                                0.0%\n"
     ]
    }
   ],
   "source": [
    "importance = np.round(XGB_model.feature_importances_,4)\n",
    "dictionary = dict(zip(features_names, importance))\n",
    "sorted_dictionary=sorted(dictionary.items(), key=lambda x:x[1], reverse=True)\n",
    "names=[]\n",
    "values=[]\n",
    "for i in range(0, len(importance)):\n",
    "    print('Feature Importance: {:35} {}%'.format(\n",
    "        sorted_dictionary[i][0], np.round(sorted_dictionary[i][1]*100,4))\n",
    "         )\n",
    "    names.append(sorted_dictionary[i][0])\n",
    "    values.append(np.round(sorted_dictionary[i][1]*100,4))"
   ]
  },
  {
   "cell_type": "code",
   "execution_count": 18,
   "metadata": {},
   "outputs": [
    {
     "data": {
      "text/plain": [
       "['over_45_percentage_pre_match',\n",
       " 'btts_percentage_pre_match',\n",
       " 'over_15_percentage_pre_match',\n",
       " 'odds_ft_over45',\n",
       " 'ht_3']"
      ]
     },
     "execution_count": 18,
     "metadata": {},
     "output_type": "execute_result"
    }
   ],
   "source": [
    "cum_values = np.cumsum(values)\n",
    "values_over_95 = (cum_values > 95).sum()\n",
    "columns_over_95 = names[-values_over_95:]\n",
    "columns_over_95"
   ]
  },
  {
   "cell_type": "code",
   "execution_count": 19,
   "metadata": {},
   "outputs": [
    {
     "data": {
      "image/png": "[encoded data removed]",
      "text/plain": [
       "<Figure size 842.4x595.44 with 1 Axes>"
      ]
     },
     "metadata": {},
     "output_type": "display_data"
    }
   ],
   "source": [
    "import seaborn as sns; sns.set()\n",
    "import matplotlib.pyplot as plt\n",
    "bottom, top = ylim()\n",
    "bottom = 0\n",
    "plt.plot(names,cum_values, '--bo', color='r')\n",
    "# set importance at 95%\n",
    "plt.axhline(95,color='black')\n",
    "plt.xticks(rotation=90);\n",
    "plt.xlabel('Feature'); \n",
    "plt.ylabel('Percentage'); \n",
    "plt.title('Cumulative Feature Importance');"
   ]
  },
  {
   "cell_type": "code",
   "execution_count": null,
   "metadata": {},
   "outputs": [],
   "source": []
  },
  {
   "cell_type": "markdown",
   "metadata": {},
   "source": [
    "## Predict Result for Next Games"
   ]
  },
  {
   "cell_type": "code",
   "execution_count": 20,
   "metadata": {},
   "outputs": [],
   "source": [
    "z_pred = XGB_model.predict(Z)"
   ]
  },
  {
   "cell_type": "code",
   "execution_count": 21,
   "metadata": {},
   "outputs": [],
   "source": [
    "xgb_df_next_games = df_next_games.copy()"
   ]
  },
  {
   "cell_type": "code",
   "execution_count": 22,
   "metadata": {},
   "outputs": [],
   "source": [
    "xgb_df_next_games['predicted_result'] = z_pred"
   ]
  },
  {
   "cell_type": "code",
   "execution_count": 23,
   "metadata": {},
   "outputs": [],
   "source": [
    "xgb_df_next_games['tipico quota']=0\n",
    "xgb_df_next_games['R']=False"
   ]
  },
  {
   "cell_type": "code",
   "execution_count": 24,
   "metadata": {},
   "outputs": [],
   "source": [
    "lr_z_pred = LR.predict(Z)"
   ]
  },
  {
   "cell_type": "code",
   "execution_count": 25,
   "metadata": {},
   "outputs": [],
   "source": [
    "lr_df_next_games = df_next_games.copy()"
   ]
  },
  {
   "cell_type": "code",
   "execution_count": 26,
   "metadata": {},
   "outputs": [],
   "source": [
    "lr_df_next_games['predicted_result'] = lr_z_pred"
   ]
  },
  {
   "cell_type": "code",
   "execution_count": 27,
   "metadata": {},
   "outputs": [],
   "source": [
    "import sqlite3\n",
    "# Create your connection.\n",
    "cnx1 = sqlite3.connect('data1.db')"
   ]
  },
  {
   "cell_type": "markdown",
   "metadata": {},
   "source": [
    "### Check Before Save in DB"
   ]
  },
  {
   "cell_type": "code",
   "execution_count": 31,
   "metadata": {},
   "outputs": [
    {
     "data": {
      "text/html": [
       "<div>\n",
       "<style scoped>\n",
       "    .dataframe tbody tr th:only-of-type {\n",
       "        vertical-align: middle;\n",
       "    }\n",
       "\n",
       "    .dataframe tbody tr th {\n",
       "        vertical-align: top;\n",
       "    }\n",
       "\n",
       "    .dataframe thead th {\n",
       "        text-align: right;\n",
       "    }\n",
       "</style>\n",
       "<table border=\"1\" class=\"dataframe\">\n",
       "  <thead>\n",
       "    <tr style=\"text-align: right;\">\n",
       "      <th></th>\n",
       "      <th>home_team_name</th>\n",
       "      <th>away_team_name</th>\n",
       "      <th>predicted_result</th>\n",
       "      <th>tipico quota</th>\n",
       "      <th>R</th>\n",
       "    </tr>\n",
       "  </thead>\n",
       "  <tbody>\n",
       "    <tr>\n",
       "      <td>1512</td>\n",
       "      <td>Bayern München</td>\n",
       "      <td>Freiburg</td>\n",
       "      <td>3.0</td>\n",
       "      <td>0</td>\n",
       "      <td>False</td>\n",
       "    </tr>\n",
       "    <tr>\n",
       "      <td>1513</td>\n",
       "      <td>RB Leipzig</td>\n",
       "      <td>Borussia Dortmund</td>\n",
       "      <td>1.0</td>\n",
       "      <td>0</td>\n",
       "      <td>False</td>\n",
       "    </tr>\n",
       "    <tr>\n",
       "      <td>1514</td>\n",
       "      <td>Hoffenheim</td>\n",
       "      <td>Union Berlin</td>\n",
       "      <td>3.0</td>\n",
       "      <td>0</td>\n",
       "      <td>False</td>\n",
       "    </tr>\n",
       "    <tr>\n",
       "      <td>1515</td>\n",
       "      <td>Fortuna Düsseldorf</td>\n",
       "      <td>Augsburg</td>\n",
       "      <td>1.0</td>\n",
       "      <td>0</td>\n",
       "      <td>False</td>\n",
       "    </tr>\n",
       "    <tr>\n",
       "      <td>1516</td>\n",
       "      <td>Hertha BSC</td>\n",
       "      <td>Bayer Leverkusen</td>\n",
       "      <td>1.0</td>\n",
       "      <td>0</td>\n",
       "      <td>False</td>\n",
       "    </tr>\n",
       "    <tr>\n",
       "      <td>1517</td>\n",
       "      <td>Mainz 05</td>\n",
       "      <td>Werder Bremen</td>\n",
       "      <td>1.0</td>\n",
       "      <td>0</td>\n",
       "      <td>False</td>\n",
       "    </tr>\n",
       "    <tr>\n",
       "      <td>1518</td>\n",
       "      <td>Schalke 04</td>\n",
       "      <td>Wolfsburg</td>\n",
       "      <td>1.0</td>\n",
       "      <td>0</td>\n",
       "      <td>False</td>\n",
       "    </tr>\n",
       "    <tr>\n",
       "      <td>1519</td>\n",
       "      <td>Köln</td>\n",
       "      <td>Eintracht Frankfurt</td>\n",
       "      <td>1.0</td>\n",
       "      <td>0</td>\n",
       "      <td>False</td>\n",
       "    </tr>\n",
       "    <tr>\n",
       "      <td>1520</td>\n",
       "      <td>Paderborn</td>\n",
       "      <td>Borussia M'gladbach</td>\n",
       "      <td>1.0</td>\n",
       "      <td>0</td>\n",
       "      <td>False</td>\n",
       "    </tr>\n",
       "  </tbody>\n",
       "</table>\n",
       "</div>"
      ],
      "text/plain": [
       "          home_team_name       away_team_name  predicted_result  tipico quota  \\\n",
       "1512      Bayern München             Freiburg               3.0             0   \n",
       "1513          RB Leipzig    Borussia Dortmund               1.0             0   \n",
       "1514          Hoffenheim         Union Berlin               3.0             0   \n",
       "1515  Fortuna Düsseldorf             Augsburg               1.0             0   \n",
       "1516          Hertha BSC     Bayer Leverkusen               1.0             0   \n",
       "1517            Mainz 05        Werder Bremen               1.0             0   \n",
       "1518          Schalke 04            Wolfsburg               1.0             0   \n",
       "1519                Köln  Eintracht Frankfurt               1.0             0   \n",
       "1520           Paderborn  Borussia M'gladbach               1.0             0   \n",
       "\n",
       "          R  \n",
       "1512  False  \n",
       "1513  False  \n",
       "1514  False  \n",
       "1515  False  \n",
       "1516  False  \n",
       "1517  False  \n",
       "1518  False  \n",
       "1519  False  \n",
       "1520  False  "
      ]
     },
     "execution_count": 31,
     "metadata": {},
     "output_type": "execute_result"
    }
   ],
   "source": [
    "xgb_df_next_games"
   ]
  },
  {
   "cell_type": "code",
   "execution_count": 32,
   "metadata": {},
   "outputs": [],
   "source": [
    "# xgb_df_next_games.to_sql(name='xgb_df_next_games', con=cnx1,if_exists='append')"
   ]
  },
  {
   "cell_type": "markdown",
   "metadata": {},
   "source": [
    "# Access SQLite DB"
   ]
  },
  {
   "cell_type": "markdown",
   "metadata": {},
   "source": [
    "### Delete"
   ]
  },
  {
   "cell_type": "code",
   "execution_count": 29,
   "metadata": {},
   "outputs": [],
   "source": [
    "# def deleteRecord():\n",
    "#     try:\n",
    "#         sqliteConnection = sqlite3.connect('data1.db')\n",
    "#         cursor = sqliteConnection.cursor()\n",
    "#         print(\"Connected to SQLite\")\n",
    "\n",
    "#         # Deleting single record now\n",
    "#         sql_delete_query = \"\"\"DELETE from xgb_df_next_games where rowid > 9\"\"\"\n",
    "#         cursor.execute(sql_delete_query)\n",
    "#         sqliteConnection.commit()\n",
    "#         print(\"Record deleted successfully \")\n",
    "#         cursor.close()\n",
    "\n",
    "#     except sqlite3.Error as error:\n",
    "#         print(\"Failed to delete record from sqlite table\", error)\n",
    "#     finally:\n",
    "#         if (sqliteConnection):\n",
    "#             sqliteConnection.close()\n",
    "#             print(\"the sqlite connection is closed\")\n",
    "\n",
    "# deleteRecord()"
   ]
  },
  {
   "cell_type": "markdown",
   "metadata": {},
   "source": [
    "### Read"
   ]
  },
  {
   "cell_type": "code",
   "execution_count": 34,
   "metadata": {},
   "outputs": [],
   "source": [
    "df = pd.read_sql_query(\"SELECT * from xgb_df_next_games\", cnx1)"
   ]
  }
 ],
 "metadata": {
  "kernelspec": {
   "display_name": "Python 3",
   "language": "python",
   "name": "python3"
  },
  "language_info": {
   "codemirror_mode": {
    "name": "ipython",
    "version": 3
   },
   "file_extension": ".py",
   "mimetype": "text/x-python",
   "name": "python",
   "nbconvert_exporter": "python",
   "pygments_lexer": "ipython3",
   "version": "3.7.4"
  }
 },
 "nbformat": 4,
 "nbformat_minor": 2
}
