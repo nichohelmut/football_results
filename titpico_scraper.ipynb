{
 "cells": [
  {
   "cell_type": "code",
   "execution_count": 1,
   "metadata": {},
   "outputs": [],
   "source": [
    "import requests\n",
    "import urllib.request\n",
    "import time\n",
    "from bs4 import BeautifulSoup\n",
    "\n",
    "url = 'https://www.kicker.de/barclays-premier-league/spieltag/2019-20/33'\n",
    "response = requests.get(url)"
   ]
  },
  {
   "cell_type": "code",
   "execution_count": 2,
   "metadata": {},
   "outputs": [
    {
     "data": {
      "text/plain": [
       "<Response [200]>"
      ]
     },
     "execution_count": 2,
     "metadata": {},
     "output_type": "execute_result"
    }
   ],
   "source": [
    "response"
   ]
  },
  {
   "cell_type": "code",
   "execution_count": 3,
   "metadata": {},
   "outputs": [],
   "source": [
    "soup = BeautifulSoup(response.text, 'html.parser')"
   ]
  },
  {
   "cell_type": "code",
   "execution_count": 4,
   "metadata": {},
   "outputs": [],
   "source": [
    "#oddsServe-odds-wrap"
   ]
  },
  {
   "cell_type": "code",
   "execution_count": 27,
   "metadata": {},
   "outputs": [],
   "source": [
    "results = soup.find_all(\"span\", class_= \"oddsServe\")"
   ]
  },
  {
   "cell_type": "code",
   "execution_count": 28,
   "metadata": {},
   "outputs": [
    {
     "data": {
      "text/plain": [
       "[<span class=\"oddsServe\" data-competition=\"500\" data-kickoff=\"04.07.2020 13:30:00\" data-match=\"4576706\" data-matchday=\"33\"></span>,\n",
       " <span class=\"oddsServe\" data-competition=\"500\" data-kickoff=\"04.07.2020 16:00:00\" data-match=\"4576702\" data-matchday=\"33\"></span>,\n",
       " <span class=\"oddsServe\" data-competition=\"500\" data-kickoff=\"04.07.2020 16:00:00\" data-match=\"4576704\" data-matchday=\"33\"></span>,\n",
       " <span class=\"oddsServe\" data-competition=\"500\" data-kickoff=\"04.07.2020 18:30:00\" data-match=\"4576709\" data-matchday=\"33\"></span>,\n",
       " <span class=\"oddsServe\" data-competition=\"500\" data-kickoff=\"04.07.2020 21:00:00\" data-match=\"4576701\" data-matchday=\"33\"></span>,\n",
       " <span class=\"oddsServe\" data-competition=\"500\" data-kickoff=\"05.07.2020 13:00:00\" data-match=\"4576700\" data-matchday=\"33\"></span>,\n",
       " <span class=\"oddsServe\" data-competition=\"500\" data-kickoff=\"05.07.2020 15:00:00\" data-match=\"4576705\" data-matchday=\"33\"></span>,\n",
       " <span class=\"oddsServe\" data-competition=\"500\" data-kickoff=\"05.07.2020 17:30:00\" data-match=\"4576703\" data-matchday=\"33\"></span>,\n",
       " <span class=\"oddsServe\" data-competition=\"500\" data-kickoff=\"05.07.2020 20:00:00\" data-match=\"4576707\" data-matchday=\"33\"></span>,\n",
       " <span class=\"oddsServe\" data-competition=\"500\" data-kickoff=\"06.07.2020 21:00:00\" data-match=\"4576708\" data-matchday=\"33\"></span>]"
      ]
     },
     "execution_count": 28,
     "metadata": {},
     "output_type": "execute_result"
    }
   ],
   "source": [
    "results"
   ]
  },
  {
   "cell_type": "code",
   "execution_count": 29,
   "metadata": {},
   "outputs": [
    {
     "name": "stdout",
     "output_type": "stream",
     "text": [
      "<span class=\"oddsServe\" data-competition=\"500\" data-kickoff=\"04.07.2020 13:30:00\" data-match=\"4576706\" data-matchday=\"33\"></span>\n",
      "\n",
      "<span class=\"oddsServe\" data-competition=\"500\" data-kickoff=\"04.07.2020 16:00:00\" data-match=\"4576702\" data-matchday=\"33\"></span>\n",
      "\n",
      "<span class=\"oddsServe\" data-competition=\"500\" data-kickoff=\"04.07.2020 16:00:00\" data-match=\"4576704\" data-matchday=\"33\"></span>\n",
      "\n",
      "<span class=\"oddsServe\" data-competition=\"500\" data-kickoff=\"04.07.2020 18:30:00\" data-match=\"4576709\" data-matchday=\"33\"></span>\n",
      "\n",
      "<span class=\"oddsServe\" data-competition=\"500\" data-kickoff=\"04.07.2020 21:00:00\" data-match=\"4576701\" data-matchday=\"33\"></span>\n",
      "\n",
      "<span class=\"oddsServe\" data-competition=\"500\" data-kickoff=\"05.07.2020 13:00:00\" data-match=\"4576700\" data-matchday=\"33\"></span>\n",
      "\n",
      "<span class=\"oddsServe\" data-competition=\"500\" data-kickoff=\"05.07.2020 15:00:00\" data-match=\"4576705\" data-matchday=\"33\"></span>\n",
      "\n",
      "<span class=\"oddsServe\" data-competition=\"500\" data-kickoff=\"05.07.2020 17:30:00\" data-match=\"4576703\" data-matchday=\"33\"></span>\n",
      "\n",
      "<span class=\"oddsServe\" data-competition=\"500\" data-kickoff=\"05.07.2020 20:00:00\" data-match=\"4576707\" data-matchday=\"33\"></span>\n",
      "\n",
      "<span class=\"oddsServe\" data-competition=\"500\" data-kickoff=\"06.07.2020 21:00:00\" data-match=\"4576708\" data-matchday=\"33\"></span>\n",
      "\n"
     ]
    }
   ],
   "source": [
    "for result in results:\n",
    "    print(result, end='\\n'*2)"
   ]
  },
  {
   "cell_type": "code",
   "execution_count": null,
   "metadata": {},
   "outputs": [],
   "source": []
  }
 ],
 "metadata": {
  "kernelspec": {
   "display_name": "Python 3",
   "language": "python",
   "name": "python3"
  },
  "language_info": {
   "codemirror_mode": {
    "name": "ipython",
    "version": 3
   },
   "file_extension": ".py",
   "mimetype": "text/x-python",
   "name": "python",
   "nbconvert_exporter": "python",
   "pygments_lexer": "ipython3",
   "version": "3.7.4"
  }
 },
 "nbformat": 4,
 "nbformat_minor": 2
}
