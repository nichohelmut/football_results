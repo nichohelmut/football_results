{
 "cells": [
  {
   "cell_type": "code",
   "execution_count": 1,
   "metadata": {
    "scrolled": true
   },
   "outputs": [
    {
     "name": "stdout",
     "output_type": "stream",
     "text": [
      "Populating the interactive namespace from numpy and matplotlib\n"
     ]
    }
   ],
   "source": [
    "%pylab inline\n",
    "import pandas as pd\n",
    "import seaborn as sns\n",
    "import numpy as np\n",
    "import scipy \n",
    "import matplotlib.pyplot as plt\n",
    "import matplotlib.style as style\n",
    "from sklearn.ensemble import RandomForestRegressor\n",
    "import sys\n",
    "from sklearn.model_selection import train_test_split\n",
    "\n",
    "#imports the own created package\n",
    "from sklearn.tree import export_graphviz\n",
    "import clustering as cl\n",
    "import warnings\n",
    "warnings.filterwarnings('ignore')\n"
   ]
  },
  {
   "cell_type": "code",
   "execution_count": 2,
   "metadata": {},
   "outputs": [],
   "source": [
    "sns.set(style='whitegrid', rc={'figure.figsize':(11.7,8.27)})\n",
    "sns.set_context('talk', rc={ 'lines.linewidth': 6}, font_scale=1.5)"
   ]
  },
  {
   "cell_type": "markdown",
   "metadata": {},
   "source": [
    "## Team Results of actual Season Top Leagues: Germany, Italy, France, England and Spain"
   ]
  },
  {
   "cell_type": "code",
   "execution_count": 3,
   "metadata": {},
   "outputs": [],
   "source": [
    "def country_df(csv):\n",
    "    df = pd.read_csv(csv)\n",
    "    df.sort_values('team_name', inplace=True)\n",
    "    df.reset_index(inplace=True)\n",
    "    df.drop(\"index\", axis=1, inplace=True)\n",
    "    return df"
   ]
  },
  {
   "cell_type": "code",
   "execution_count": 4,
   "metadata": {},
   "outputs": [],
   "source": [
    "# df_aufsteiger\n",
    "df_france = country_df(\"france-ligue-1-teams-2019-to-2020-stats.csv\")\n",
    "df_germany = country_df(\"germany-bundesliga-teams-2019-to-2020-stats.csv\")\n",
    "df_england = country_df(\"england-premier-league-teams-2018-to-2019-stats.csv\")\n",
    "df_italy = country_df(\"italy-serie-a-teams-2019-to-2020-stats.csv\")\n",
    "df_spain = country_df(\"spain-la-liga-teams-2019-to-2020-stats.csv\")"
   ]
  },
  {
   "cell_type": "markdown",
   "metadata": {},
   "source": [
    "## Team Results of last Season"
   ]
  },
  {
   "cell_type": "code",
   "execution_count": 5,
   "metadata": {},
   "outputs": [],
   "source": [
    "# df_teams_last_first = pd.read_csv(\"germany-bundesliga-teams-2018-to-2019-stats.csv\")\n",
    "# df_teams_last_first.drop([14, 15, 16], inplace = True)"
   ]
  },
  {
   "cell_type": "code",
   "execution_count": 6,
   "metadata": {},
   "outputs": [],
   "source": [
    "# df_teams_last_second = pd.read_csv(\"germany-2-bundesliga-teams-2018-to-2019-stats.csv\")\n",
    "# df_teams_last_second = df_teams_last_second.loc[[1,4,7]]"
   ]
  },
  {
   "cell_type": "code",
   "execution_count": 7,
   "metadata": {},
   "outputs": [],
   "source": [
    "# df_teams_last_year = pd.concat([df_teams_last_first, df_teams_last_second], axis=0)\n",
    "# df_teams_last_year.sort_values('team_name', inplace=True)\n",
    "# df_teams_last_year.reset_index(inplace=True)\n",
    "# df_teams_last_year.drop(\"index\", axis=1, inplace=True)"
   ]
  },
  {
   "cell_type": "markdown",
   "metadata": {},
   "source": [
    "## Match Data from League Climbers"
   ]
  },
  {
   "cell_type": "markdown",
   "metadata": {},
   "source": [
    "2018 - 2019"
   ]
  },
  {
   "cell_type": "code",
   "execution_count": 8,
   "metadata": {
    "scrolled": true
   },
   "outputs": [],
   "source": [
    "df_teams_last_first = pd.read_csv(\"germany-bundesliga-teams-2018-to-2019-stats.csv\")"
   ]
  },
  {
   "cell_type": "code",
   "execution_count": 9,
   "metadata": {},
   "outputs": [],
   "source": [
    "df_nueremberg = df_teams_last_first[df_teams_last_first['common_name'] == 'Nürnberg']\n",
    "df_hannover = df_teams_last_first[df_teams_last_first['common_name'] == 'Hannover 96']\n",
    "df_stuttgart = df_teams_last_first[df_teams_last_first['common_name'] == 'Stuttgart']"
   ]
  },
  {
   "cell_type": "markdown",
   "metadata": {},
   "source": [
    "2017 - 2018"
   ]
  },
  {
   "cell_type": "code",
   "execution_count": 10,
   "metadata": {},
   "outputs": [],
   "source": [
    "df_teams_last_17_18 = pd.read_csv(\"germany-bundesliga-teams-2017-to-2018-stats.csv\")"
   ]
  },
  {
   "cell_type": "code",
   "execution_count": 11,
   "metadata": {},
   "outputs": [],
   "source": [
    "df_hsv = df_teams_last_17_18[df_teams_last_17_18['common_name'] == 'Hamburger SV']"
   ]
  },
  {
   "cell_type": "markdown",
   "metadata": {},
   "source": [
    "2016 - 2017"
   ]
  },
  {
   "cell_type": "code",
   "execution_count": 12,
   "metadata": {},
   "outputs": [],
   "source": [
    "df_teams_last_16_17 = pd.read_csv(\"germany-bundesliga-teams-2016-to-2017-stats.csv\")"
   ]
  },
  {
   "cell_type": "code",
   "execution_count": 13,
   "metadata": {},
   "outputs": [],
   "source": [
    "df_darmstadt = df_teams_last_16_17[df_teams_last_16_17['common_name'] == 'Darmstadt 98']\n",
    "df_ingolstadt = df_teams_last_16_17[df_teams_last_16_17['common_name'] == 'Ingolstadt']"
   ]
  },
  {
   "cell_type": "code",
   "execution_count": null,
   "metadata": {},
   "outputs": [],
   "source": []
  },
  {
   "cell_type": "code",
   "execution_count": 14,
   "metadata": {},
   "outputs": [],
   "source": [
    "# per_cols = [col for col in df_nueremberg.columns if '_per_' in col]"
   ]
  },
  {
   "cell_type": "code",
   "execution_count": 15,
   "metadata": {},
   "outputs": [],
   "source": [
    "# df_per_actual = df_teams[per_cols]\n",
    "# df_per_last = df_teams_last_year[per_cols]\n",
    "# df_per_both = (df_per_actual + df_per_last) / 2"
   ]
  },
  {
   "cell_type": "code",
   "execution_count": 16,
   "metadata": {},
   "outputs": [],
   "source": [
    "# df_actual = df_teams.drop(per_cols, axis=1)\n",
    "# df_last = df_teams_last_year.drop(per_cols, axis=1)\n",
    "# df_sum = df_actual.iloc[:,4:] + df_last.iloc[:,4:]"
   ]
  },
  {
   "cell_type": "code",
   "execution_count": 17,
   "metadata": {
    "scrolled": true
   },
   "outputs": [],
   "source": [
    "# df_germany = pd.concat([df_teams.iloc[:,:4], df_sum, df_per_both], axis=1, sort=False)"
   ]
  },
  {
   "cell_type": "code",
   "execution_count": 18,
   "metadata": {},
   "outputs": [],
   "source": [
    "# df_germany.head()"
   ]
  },
  {
   "cell_type": "markdown",
   "metadata": {},
   "source": [
    "## Concat all Df's"
   ]
  },
  {
   "cell_type": "code",
   "execution_count": 19,
   "metadata": {},
   "outputs": [],
   "source": [
    "df_all = pd.concat([df_germany, df_england, df_italy, df_spain, df_france],sort=False)\n",
    "df_all.reset_index(inplace=True)\n",
    "df_all.drop(\"index\", axis=1, inplace=True)\n",
    "df_european_leagues = df_all.copy()"
   ]
  },
  {
   "cell_type": "code",
   "execution_count": 20,
   "metadata": {},
   "outputs": [],
   "source": [
    "df_league_climbers = pd.concat([df_nueremberg, df_hannover, df_stuttgart, df_hsv, df_darmstadt, df_ingolstadt],sort=False)\n",
    "df_league_climbers.reset_index(inplace=True)\n",
    "df_league_climbers.drop(\"index\", axis=1, inplace=True)\n",
    "df_all_climbers = df_league_climbers.copy()\n",
    "columns = ['wins', 'wins_home', 'wins_away', 'draws', 'draws_home', 'draws_away', 'losses', 'losses_home', 'losses_away']\n",
    "df_all_climbers[columns] = df_all_climbers[columns] * .75\n"
   ]
  },
  {
   "cell_type": "code",
   "execution_count": 21,
   "metadata": {},
   "outputs": [],
   "source": [
    "df_all = pd.concat([df_european_leagues, df_all_climbers],sort=False)\n",
    "df_all.reset_index(inplace=True)\n",
    "df_all.drop(\"index\", axis=1, inplace=True)\n",
    "df_total = df_all.copy()"
   ]
  },
  {
   "cell_type": "markdown",
   "metadata": {},
   "source": [
    "## Build the matrix"
   ]
  },
  {
   "cell_type": "code",
   "execution_count": 22,
   "metadata": {},
   "outputs": [],
   "source": [
    "df_all.set_index(\"team_name\", inplace=True)\n",
    "df_all = df_all.T"
   ]
  },
  {
   "cell_type": "code",
   "execution_count": 23,
   "metadata": {},
   "outputs": [],
   "source": [
    "# df_all = df_all.iloc[:25, :]"
   ]
  },
  {
   "cell_type": "code",
   "execution_count": 24,
   "metadata": {},
   "outputs": [],
   "source": [
    "df_teams_numerical = df_all.iloc[8:,:]"
   ]
  },
  {
   "cell_type": "code",
   "execution_count": 25,
   "metadata": {},
   "outputs": [],
   "source": [
    "df_norm = (df_teams_numerical - df_teams_numerical.min()) / (df_teams_numerical.max() - df_teams_numerical.min())"
   ]
  },
  {
   "cell_type": "code",
   "execution_count": 26,
   "metadata": {},
   "outputs": [],
   "source": [
    "X = df_norm.as_matrix()"
   ]
  },
  {
   "cell_type": "markdown",
   "metadata": {},
   "source": [
    "## AA Analysis"
   ]
  },
  {
   "cell_type": "code",
   "execution_count": 27,
   "metadata": {
    "scrolled": false
   },
   "outputs": [
    {
     "name": "stdout",
     "output_type": "stream",
     "text": [
      "RSS = 3.9898834911543757\n",
      "RSS = 3.6653942654991343\n",
      "RSS = 3.579445457256361\n",
      "RSS = 3.542156502936707\n",
      "RSS = 3.5253204152869166\n",
      "RSS = 3.517180189827267\n",
      "RSS = 3.512728517451367\n",
      "RSS = 3.5099479259503386\n",
      "RSS = 3.507744259121029\n",
      "RSS = 3.5056468997346655\n",
      "RSS = 3.504053951002696\n",
      "RSS = 3.502707100004029\n",
      "RSS = 3.5017145912038505\n",
      "RSS = 3.501072261711972\n",
      "RSS = 3.500356865520245\n",
      "RSS = 3.4998882690933937\n",
      "RSS = 3.499363096234036\n",
      "RSS = 3.4989581185077556\n",
      "RSS = 3.498481611700036\n",
      "RSS = 3.498286011253308\n",
      "RSS = 3.4979163917884546\n",
      "RSS = 3.4977350203868185\n",
      "RSS = 3.4975537334493234\n",
      "RSS = 3.4973140634485405\n",
      "RSS = 3.4971221370326324\n",
      "RSS = 3.496893249857557\n",
      "RSS = 3.4967533330250884\n",
      "RSS = 3.496533172396736\n",
      "RSS = 3.496421158550108\n",
      "RSS = 3.4962391818819922\n",
      "RSS = 3.496060312476594\n",
      "RSS = 3.4957603546266625\n",
      "RSS = 3.495560516363129\n",
      "RSS = 3.4952311099102165\n",
      "RSS = 3.49499926868384\n",
      "RSS = 3.4944344712547615\n",
      "RSS = 3.493940922370932\n",
      "RSS = 3.4930713635120023\n",
      "RSS = 3.491794258409481\n",
      "RSS = 3.489867439528002\n",
      "RSS = 3.487485746596949\n",
      "RSS = 3.4843656305756685\n",
      "RSS = 3.480803576285121\n",
      "RSS = 3.4767171744040897\n",
      "RSS = 3.4723976761117834\n",
      "RSS = 3.4672985392037\n",
      "RSS = 3.460569204275164\n",
      "RSS = 3.450954799922088\n",
      "RSS = 3.4416187591754035\n",
      "RSS = 3.4316975218564996\n"
     ]
    }
   ],
   "source": [
    "archetypal=cl.clustering.ArchetypalAnalysis(n_archetypes=5,iterations=50,tmax=300)\n",
    "archetypal.fit(X)\n",
    "\n",
    "Z=(archetypal.archetypes())"
   ]
  },
  {
   "cell_type": "code",
   "execution_count": 28,
   "metadata": {
    "scrolled": false
   },
   "outputs": [
    {
     "data": {
      "image/png": "[encoded data removed]",
      "text/plain": [
       "<Figure size 842.4x595.44 with 1 Axes>"
      ]
     },
     "metadata": {},
     "output_type": "display_data"
    }
   ],
   "source": [
    "plt.scatter(X[0,:],X[1,:])\n",
    "plt.scatter(np.array(Z[0,:]),np.array(Z[1,:]))\n",
    "plt.show()"
   ]
  },
  {
   "cell_type": "code",
   "execution_count": 29,
   "metadata": {
    "scrolled": false
   },
   "outputs": [
    {
     "data": {
      "image/png": "[encoded data removed]",
      "text/plain": [
       "<Figure size 1440x720 with 1 Axes>"
      ]
     },
     "metadata": {},
     "output_type": "display_data"
    }
   ],
   "source": [
    "A=archetypal.transform(X)\n",
    "dp=archetypal.map2D\n",
    "dat=dp @ A\n",
    "\n",
    "f, ax = plt.subplots(figsize=(20, 10))\n",
    "ax=cl.clustering.archetypal_plot(ax,dat,dp,epsilon=.1)\n",
    "ax.set_aspect('auto')\n",
    "plt.show()"
   ]
  },
  {
   "cell_type": "markdown",
   "metadata": {},
   "source": [
    "## Create data labels"
   ]
  },
  {
   "cell_type": "code",
   "execution_count": 30,
   "metadata": {},
   "outputs": [],
   "source": [
    "teamsList = df_total['team_name']\n",
    "temasColumnOrdering={x:y for y,x in enumerate(teamsList)}\n",
    "labels={v: k for k, v in temasColumnOrdering.items()}"
   ]
  },
  {
   "cell_type": "code",
   "execution_count": 31,
   "metadata": {
    "code_folding": [
     2
    ]
   },
   "outputs": [
    {
     "name": "stdout",
     "output_type": "stream",
     "text": [
      "1. FC Köln                              0.758 0.085 0.000 0.059 0.098 \n",
      "1. FC Union Berlin                      0.445 0.141 0.020 0.000 0.393 \n",
      "1. FSV Mainz 05                         0.504 0.000 0.226 0.270 0.000 \n",
      "BVB 09 Borussia Dortmund                0.272 0.000 0.000 0.728 0.000 \n",
      "Bayer 04 Leverkusen                     0.126 0.140 0.000 0.734 0.000 \n",
      "Borussia VfL Mönchengladbach            0.286 0.187 0.000 0.449 0.077 \n",
      "Düsseldorfer TuS Fortuna 1895           0.598 0.022 0.343 0.037 0.000 \n",
      "Eintracht Frankfurt                     0.425 0.000 0.159 0.417 0.000 \n",
      "FC Augsburg                             0.798 0.000 0.202 0.000 0.000 \n",
      "FC Bayern München                       0.045 0.000 0.000 0.955 0.000 \n",
      "FC Schalke 04                           0.344 0.474 0.000 0.183 0.000 \n",
      "Hertha BSC                              0.850 0.000 0.150 0.000 0.000 \n",
      "Rasen Ballsport Leipzig                 0.206 0.000 0.000 0.782 0.012 \n",
      "SC Freiburg                             0.306 0.264 0.000 0.429 0.000 \n",
      "SC Paderborn 07                         0.649 0.000 0.318 0.032 0.000 \n",
      "SV Werder Bremen                        0.513 0.000 0.487 0.001 0.000 \n",
      "TSG 1899 Hoffenheim                     0.526 0.008 0.212 0.254 0.000 \n",
      "VfL Wolfsburg                           0.102 0.516 0.000 0.222 0.160 \n",
      "AFC Bournemouth                         0.000 0.000 0.374 0.604 0.022 \n",
      "Arsenal FC                              0.109 0.000 0.062 0.480 0.349 \n",
      "Brighton & Hove Albion FC               0.000 0.035 0.494 0.000 0.471 \n",
      "Burnley FC                              0.197 0.000 0.450 0.217 0.136 \n",
      "Cardiff City FC                         0.000 0.000 0.664 0.303 0.032 \n",
      "Chelsea FC                              0.000 0.000 0.000 0.835 0.165 \n",
      "Crystal Palace FC                       0.000 0.106 0.068 0.536 0.290 \n",
      "Everton FC                              0.000 0.120 0.000 0.402 0.478 \n",
      "Fulham FC                               0.000 0.000 0.792 0.208 0.000 \n",
      "Huddersfield Town FC                    0.000 0.000 0.978 0.022 0.000 \n",
      "Leicester City FC                       0.000 0.004 0.167 0.625 0.204 \n",
      "Liverpool FC                            0.000 0.018 0.000 0.950 0.032 \n",
      "Manchester City FC                      0.000 0.000 0.000 1.000 0.000 \n",
      "Manchester United FC                    0.009 0.000 0.000 0.478 0.513 \n",
      "Newcastle United FC                     0.000 0.204 0.100 0.251 0.446 \n",
      "Southampton FC                          0.000 0.000 0.346 0.373 0.281 \n",
      "Tottenham Hotspur FC                    0.000 0.000 0.000 0.681 0.319 \n",
      "Watford FC                              0.201 0.000 0.051 0.174 0.574 \n",
      "West Ham United FC                      0.000 0.047 0.178 0.545 0.229 \n",
      "Wolverhampton Wanderers FC              0.000 0.169 0.064 0.376 0.390 \n",
      "AC Milan                                0.000 0.371 0.087 0.452 0.091 \n",
      "ACF Fiorentina                          0.053 0.313 0.139 0.337 0.158 \n",
      "AS Roma                                 0.166 0.000 0.000 0.685 0.150 \n",
      "Atalanta Bergamasca Calcio              0.207 0.000 0.000 0.792 0.000 \n",
      "Bologna FC 1909                         0.401 0.013 0.000 0.232 0.354 \n",
      "Brescia Calcio                          0.293 0.000 0.707 0.000 0.000 \n",
      "Cagliari Calcio                         0.314 0.175 0.000 0.250 0.261 \n",
      "FC Internazionale Milano                0.051 0.271 0.000 0.651 0.027 \n",
      "Genoa CFC                               0.555 0.096 0.191 0.000 0.159 \n",
      "Hellas Verona FC                        0.175 0.776 0.000 0.000 0.049 \n",
      "Juventus FC                             0.004 0.250 0.000 0.746 0.000 \n",
      "Parma Calcio 1913                       0.264 0.536 0.026 0.174 0.000 \n",
      "SS Lazio                                0.130 0.104 0.000 0.766 0.000 \n",
      "SSC Napoli                              0.000 0.070 0.035 0.807 0.089 \n",
      "Società Polisportiva Ars et Labor 2013  0.045 0.250 0.565 0.140 0.000 \n",
      "Torino FC                               0.448 0.112 0.275 0.000 0.165 \n",
      "UC Sampdoria                            0.096 0.118 0.430 0.356 0.000 \n",
      "US Lecce                                0.476 0.000 0.339 0.185 0.000 \n",
      "US Sassuolo Calcio                      0.489 0.006 0.000 0.438 0.066 \n",
      "Udinese Calcio                          0.000 0.435 0.419 0.146 0.000 \n",
      "Athletic Club Bilbao                    0.000 0.993 0.007 0.000 0.000 \n",
      "CA Osasuna                              0.215 0.241 0.195 0.114 0.236 \n",
      "CD Leganés                              0.000 0.275 0.403 0.000 0.322 \n",
      "Club Atlético de Madrid                 0.000 0.952 0.000 0.048 0.000 \n",
      "Deportivo Alavés                        0.000 0.106 0.316 0.000 0.578 \n",
      "FC Barcelona                            0.324 0.007 0.000 0.521 0.148 \n",
      "Getafe Club de Fútbol                   0.000 0.019 0.000 0.000 0.981 \n",
      "Granada CF                              0.000 0.362 0.122 0.000 0.516 \n",
      "Levante UD                              0.365 0.311 0.243 0.081 0.000 \n",
      "Real Betis Balompié                     0.501 0.093 0.072 0.215 0.119 \n",
      "Real Club Celta de Vigo                 0.000 0.591 0.409 0.000 0.000 \n",
      "Real Club Deportivo Mallorca            0.175 0.334 0.491 0.000 0.000 \n",
      "Real Madrid CF                          0.000 0.299 0.000 0.649 0.052 \n",
      "Real Sociedad de Fútbol                 0.291 0.387 0.000 0.123 0.199 \n",
      "Real Valladolid Club de Fútbol          0.000 0.597 0.403 0.000 0.000 \n",
      "Reial Club Deportiu Espanyol            0.207 0.194 0.478 0.000 0.121 \n",
      "SD Eibar                                0.156 0.310 0.316 0.000 0.218 \n",
      "Sevilla FC                              0.082 0.541 0.000 0.243 0.135 \n",
      "Valencia CF                             0.566 0.265 0.169 0.000 0.000 \n",
      "Villarreal CF                           0.244 0.191 0.000 0.473 0.092 \n",
      "AS Monaco FC                            0.385 0.000 0.000 0.414 0.202 \n",
      "AS Saint-Étienne                        0.304 0.252 0.330 0.005 0.109 \n",
      "Amiens SC                               0.268 0.000 0.347 0.000 0.385 \n",
      "Angers Sporting Club de l'Ouest         0.000 0.455 0.273 0.272 0.000 \n",
      "Dijon FCO                               0.020 0.458 0.395 0.127 0.000 \n",
      "FC Girondins de Bordeaux                0.227 0.481 0.000 0.003 0.289 \n",
      "FC Metz                                 0.279 0.562 0.112 0.034 0.013 \n",
      "FC Nantes                               0.000 0.829 0.057 0.084 0.030 \n",
      "Lille OSC Métropole                     0.118 0.723 0.045 0.115 0.000 \n",
      "Montpellier HSC                         0.182 0.432 0.249 0.086 0.051 \n",
      "Nîmes Olympique                         0.086 0.254 0.397 0.258 0.006 \n",
      "OGC Nice Côte d'Azur                    0.466 0.139 0.000 0.395 0.000 \n",
      "Olympique Lyonnais                      0.149 0.666 0.000 0.184 0.000 \n",
      "Olympique de Marseille                  0.068 0.480 0.000 0.261 0.191 \n",
      "Paris Saint-Germain FC                  0.106 0.000 0.000 0.781 0.113 \n",
      "RC Strasbourg Alsace                    0.267 0.549 0.058 0.000 0.126 \n",
      "Stade Brestois 29                       0.128 0.344 0.308 0.220 0.000 \n",
      "Stade Rennais FC                        0.000 0.681 0.000 0.099 0.221 \n",
      "Stade de Reims                          0.000 1.000 0.000 0.000 0.000 \n",
      "Toulouse FC                             0.000 0.000 1.000 0.000 0.000 \n",
      "1. FC Nürnberg                          0.000 0.000 0.970 0.000 0.030 \n",
      "Hannoverscher Sportverein 1896          0.000 0.000 0.839 0.000 0.161 \n",
      "VfB Stuttgart 1893                      0.101 0.000 0.874 0.000 0.025 \n",
      "Hamburger SV                            0.000 0.000 0.404 0.000 0.596 \n",
      "SV Darmstadt 1898                       0.000 0.000 0.502 0.000 0.498 \n",
      "FC Ingolstadt 04                        0.000 0.000 0.222 0.000 0.778 \n"
     ]
    }
   ],
   "source": [
    "for i in range(0,104):\n",
    "    print(\"{:40}\".format(labels[i]),end='')\n",
    "    for j in A[:,i]:\n",
    "        print(\"{:.3f} \".format(j),end='')\n",
    "    print(\"\")"
   ]
  },
  {
   "cell_type": "markdown",
   "metadata": {},
   "source": [
    "## Merge Result with original dataframe"
   ]
  },
  {
   "cell_type": "code",
   "execution_count": 32,
   "metadata": {},
   "outputs": [],
   "source": [
    "df_aa_result = pd.DataFrame(data=A.T)\n",
    "df_aa_result.columns = df_aa_result.columns.map(str)"
   ]
  },
  {
   "cell_type": "code",
   "execution_count": 34,
   "metadata": {},
   "outputs": [],
   "source": [
    "df_teams_with_aa = pd.concat([df_total, df_aa_result], axis=1)\n",
    "df_teams_only_aa = df_teams_with_aa.iloc[:,280:]\n",
    "df_teams_only_aa['common_name'] = df_teams_with_aa['common_name']"
   ]
  },
  {
   "cell_type": "code",
   "execution_count": 35,
   "metadata": {},
   "outputs": [
    {
     "data": {
      "text/html": [
       "<div>\n",
       "<style scoped>\n",
       "    .dataframe tbody tr th:only-of-type {\n",
       "        vertical-align: middle;\n",
       "    }\n",
       "\n",
       "    .dataframe tbody tr th {\n",
       "        vertical-align: top;\n",
       "    }\n",
       "\n",
       "    .dataframe thead th {\n",
       "        text-align: right;\n",
       "    }\n",
       "</style>\n",
       "<table border=\"1\" class=\"dataframe\">\n",
       "  <thead>\n",
       "    <tr style=\"text-align: right;\">\n",
       "      <th></th>\n",
       "      <th>0</th>\n",
       "      <th>1</th>\n",
       "      <th>2</th>\n",
       "      <th>3</th>\n",
       "      <th>4</th>\n",
       "      <th>common_name</th>\n",
       "    </tr>\n",
       "  </thead>\n",
       "  <tbody>\n",
       "    <tr>\n",
       "      <td>0</td>\n",
       "      <td>0.758184</td>\n",
       "      <td>0.084784</td>\n",
       "      <td>0.000044</td>\n",
       "      <td>0.058715</td>\n",
       "      <td>0.098272</td>\n",
       "      <td>Köln</td>\n",
       "    </tr>\n",
       "    <tr>\n",
       "      <td>1</td>\n",
       "      <td>0.445316</td>\n",
       "      <td>0.141085</td>\n",
       "      <td>0.020487</td>\n",
       "      <td>0.000066</td>\n",
       "      <td>0.393045</td>\n",
       "      <td>Union Berlin</td>\n",
       "    </tr>\n",
       "    <tr>\n",
       "      <td>2</td>\n",
       "      <td>0.504385</td>\n",
       "      <td>0.000000</td>\n",
       "      <td>0.225604</td>\n",
       "      <td>0.270011</td>\n",
       "      <td>0.000000</td>\n",
       "      <td>Mainz 05</td>\n",
       "    </tr>\n",
       "    <tr>\n",
       "      <td>3</td>\n",
       "      <td>0.272337</td>\n",
       "      <td>0.000000</td>\n",
       "      <td>0.000000</td>\n",
       "      <td>0.727663</td>\n",
       "      <td>0.000000</td>\n",
       "      <td>Borussia Dortmund</td>\n",
       "    </tr>\n",
       "    <tr>\n",
       "      <td>4</td>\n",
       "      <td>0.125869</td>\n",
       "      <td>0.139956</td>\n",
       "      <td>0.000044</td>\n",
       "      <td>0.734131</td>\n",
       "      <td>0.000000</td>\n",
       "      <td>Bayer Leverkusen</td>\n",
       "    </tr>\n",
       "    <tr>\n",
       "      <td>...</td>\n",
       "      <td>...</td>\n",
       "      <td>...</td>\n",
       "      <td>...</td>\n",
       "      <td>...</td>\n",
       "      <td>...</td>\n",
       "      <td>...</td>\n",
       "    </tr>\n",
       "    <tr>\n",
       "      <td>99</td>\n",
       "      <td>0.000000</td>\n",
       "      <td>0.000000</td>\n",
       "      <td>0.839446</td>\n",
       "      <td>0.000000</td>\n",
       "      <td>0.160554</td>\n",
       "      <td>Hannover 96</td>\n",
       "    </tr>\n",
       "    <tr>\n",
       "      <td>100</td>\n",
       "      <td>0.100576</td>\n",
       "      <td>0.000000</td>\n",
       "      <td>0.874286</td>\n",
       "      <td>0.000000</td>\n",
       "      <td>0.025138</td>\n",
       "      <td>Stuttgart</td>\n",
       "    </tr>\n",
       "    <tr>\n",
       "      <td>101</td>\n",
       "      <td>0.000000</td>\n",
       "      <td>0.000000</td>\n",
       "      <td>0.403610</td>\n",
       "      <td>0.000000</td>\n",
       "      <td>0.596390</td>\n",
       "      <td>Hamburger SV</td>\n",
       "    </tr>\n",
       "    <tr>\n",
       "      <td>102</td>\n",
       "      <td>0.000000</td>\n",
       "      <td>0.000000</td>\n",
       "      <td>0.501661</td>\n",
       "      <td>0.000000</td>\n",
       "      <td>0.498339</td>\n",
       "      <td>Darmstadt 98</td>\n",
       "    </tr>\n",
       "    <tr>\n",
       "      <td>103</td>\n",
       "      <td>0.000000</td>\n",
       "      <td>0.000000</td>\n",
       "      <td>0.221506</td>\n",
       "      <td>0.000066</td>\n",
       "      <td>0.778427</td>\n",
       "      <td>Ingolstadt</td>\n",
       "    </tr>\n",
       "  </tbody>\n",
       "</table>\n",
       "<p>104 rows × 6 columns</p>\n",
       "</div>"
      ],
      "text/plain": [
       "            0         1         2         3         4        common_name\n",
       "0    0.758184  0.084784  0.000044  0.058715  0.098272               Köln\n",
       "1    0.445316  0.141085  0.020487  0.000066  0.393045       Union Berlin\n",
       "2    0.504385  0.000000  0.225604  0.270011  0.000000           Mainz 05\n",
       "3    0.272337  0.000000  0.000000  0.727663  0.000000  Borussia Dortmund\n",
       "4    0.125869  0.139956  0.000044  0.734131  0.000000   Bayer Leverkusen\n",
       "..        ...       ...       ...       ...       ...                ...\n",
       "99   0.000000  0.000000  0.839446  0.000000  0.160554        Hannover 96\n",
       "100  0.100576  0.000000  0.874286  0.000000  0.025138          Stuttgart\n",
       "101  0.000000  0.000000  0.403610  0.000000  0.596390       Hamburger SV\n",
       "102  0.000000  0.000000  0.501661  0.000000  0.498339       Darmstadt 98\n",
       "103  0.000000  0.000000  0.221506  0.000066  0.778427         Ingolstadt\n",
       "\n",
       "[104 rows x 6 columns]"
      ]
     },
     "execution_count": 35,
     "metadata": {},
     "output_type": "execute_result"
    }
   ],
   "source": [
    "df_teams_only_aa"
   ]
  },
  {
   "cell_type": "markdown",
   "metadata": {},
   "source": [
    "## Save Result as Pickle file"
   ]
  },
  {
   "cell_type": "code",
   "execution_count": 36,
   "metadata": {
    "scrolled": false
   },
   "outputs": [],
   "source": [
    "df_teams_only_aa.to_pickle(\"df_teams_only_aa.pkl\")"
   ]
  }
 ],
 "metadata": {
  "kernelspec": {
   "display_name": "Python 3",
   "language": "python",
   "name": "python3"
  },
  "language_info": {
   "codemirror_mode": {
    "name": "ipython",
    "version": 3
   },
   "file_extension": ".py",
   "mimetype": "text/x-python",
   "name": "python",
   "nbconvert_exporter": "python",
   "pygments_lexer": "ipython3",
   "version": "3.7.4"
  }
 },
 "nbformat": 4,
 "nbformat_minor": 2
}
