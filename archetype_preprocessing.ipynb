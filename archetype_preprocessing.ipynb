{
 "cells": [
  {
   "cell_type": "code",
   "execution_count": 1,
   "metadata": {
    "scrolled": true
   },
   "outputs": [
    {
     "name": "stdout",
     "output_type": "stream",
     "text": [
      "Populating the interactive namespace from numpy and matplotlib\n"
     ]
    }
   ],
   "source": [
    "%pylab inline\n",
    "import pandas as pd\n",
    "import seaborn as sns\n",
    "import numpy as np\n",
    "import matplotlib.pyplot as plt\n",
    "import matplotlib.style as style\n",
    "#imports the own created package\n",
    "import clustering as cl\n",
    "import warnings\n",
    "warnings.filterwarnings('ignore')\n"
   ]
  },
  {
   "cell_type": "code",
   "execution_count": 2,
   "metadata": {},
   "outputs": [],
   "source": [
    "sns.set(style='whitegrid', rc={'figure.figsize':(11.7,8.27)})\n",
    "sns.set_context('talk', rc={ 'lines.linewidth': 6}, font_scale=1.5)"
   ]
  },
  {
   "cell_type": "markdown",
   "metadata": {},
   "source": [
    "## Team Results of actual Season Top Leagues: Germany, Italy, France, England and Spain"
   ]
  },
  {
   "cell_type": "code",
   "execution_count": 3,
   "metadata": {},
   "outputs": [],
   "source": [
    "def country_df(csv):\n",
    "    df = pd.read_csv(csv)\n",
    "    df.sort_values('team_name', inplace=True)\n",
    "    df.reset_index(inplace=True)\n",
    "    df.drop(\"index\", axis=1, inplace=True)\n",
    "    return df"
   ]
  },
  {
   "cell_type": "code",
   "execution_count": 4,
   "metadata": {},
   "outputs": [],
   "source": [
    "df_france = country_df(\"top_leagues_19_20/france-ligue-1-teams-2019-to-2020-stats.csv\")\n",
    "df_germany = country_df(\"top_leagues_19_20/germany-bundesliga-teams-2019-to-2020-stats.csv\")\n",
    "df_england = country_df(\"top_leagues_19_20/england-premier-league-teams-2019-to-2020-stats.csv\")\n",
    "df_italy = country_df(\"top_leagues_19_20/italy-serie-a-teams-2019-to-2020-stats.csv\")\n",
    "df_spain = country_df(\"top_leagues_19_20/spain-la-liga-teams-2019-to-2020-stats.csv\")"
   ]
  },
  {
   "cell_type": "markdown",
   "metadata": {},
   "source": [
    "## Match Data from League Climbers"
   ]
  },
  {
   "cell_type": "markdown",
   "metadata": {},
   "source": [
    "2018 - 2019"
   ]
  },
  {
   "cell_type": "code",
   "execution_count": 5,
   "metadata": {
    "scrolled": true
   },
   "outputs": [],
   "source": [
    "df_teams_last_first = pd.read_csv(\"germany-bundesliga-teams-2018-to-2019-stats.csv\")"
   ]
  },
  {
   "cell_type": "code",
   "execution_count": 6,
   "metadata": {},
   "outputs": [],
   "source": [
    "df_nueremberg = df_teams_last_first[df_teams_last_first['common_name'] == 'Nürnberg']\n",
    "df_hannover = df_teams_last_first[df_teams_last_first['common_name'] == 'Hannover 96']\n",
    "df_stuttgart = df_teams_last_first[df_teams_last_first['common_name'] == 'Stuttgart']"
   ]
  },
  {
   "cell_type": "markdown",
   "metadata": {},
   "source": [
    "2017 - 2018"
   ]
  },
  {
   "cell_type": "code",
   "execution_count": 7,
   "metadata": {},
   "outputs": [],
   "source": [
    "df_teams_last_17_18 = pd.read_csv(\"germany-bundesliga-teams-2017-to-2018-stats.csv\")"
   ]
  },
  {
   "cell_type": "code",
   "execution_count": 8,
   "metadata": {},
   "outputs": [],
   "source": [
    "df_hsv = df_teams_last_17_18[df_teams_last_17_18['common_name'] == 'Hamburger SV']"
   ]
  },
  {
   "cell_type": "markdown",
   "metadata": {},
   "source": [
    "2016 - 2017"
   ]
  },
  {
   "cell_type": "code",
   "execution_count": 9,
   "metadata": {},
   "outputs": [],
   "source": [
    "df_teams_last_16_17 = pd.read_csv(\"germany-bundesliga-teams-2016-to-2017-stats.csv\")"
   ]
  },
  {
   "cell_type": "code",
   "execution_count": 10,
   "metadata": {},
   "outputs": [],
   "source": [
    "df_darmstadt = df_teams_last_16_17[df_teams_last_16_17['common_name'] == 'Darmstadt 98']\n",
    "df_ingolstadt = df_teams_last_16_17[df_teams_last_16_17['common_name'] == 'Ingolstadt']"
   ]
  },
  {
   "cell_type": "markdown",
   "metadata": {},
   "source": [
    "## Concat all Df's"
   ]
  },
  {
   "cell_type": "code",
   "execution_count": 11,
   "metadata": {},
   "outputs": [],
   "source": [
    "df_all = pd.concat([df_germany, df_england, df_italy, df_spain, df_france],sort=False)\n",
    "df_all.reset_index(inplace=True)\n",
    "df_all.drop(\"index\", axis=1, inplace=True)\n",
    "df_european_leagues = df_all.copy()"
   ]
  },
  {
   "cell_type": "code",
   "execution_count": 12,
   "metadata": {},
   "outputs": [],
   "source": [
    "df_league_climbers = pd.concat([df_nueremberg, df_hannover, df_stuttgart, df_hsv, df_darmstadt, df_ingolstadt],sort=False)\n",
    "df_league_climbers.reset_index(inplace=True)\n",
    "df_league_climbers.drop(\"index\", axis=1, inplace=True)\n",
    "df_all_climbers = df_league_climbers.copy()\n",
    "columns = ['wins', 'wins_home', 'wins_away', 'draws', 'draws_home', 'draws_away', 'losses', 'losses_home', 'losses_away']\n",
    "df_all_climbers[columns] = df_all_climbers[columns] * .75\n"
   ]
  },
  {
   "cell_type": "code",
   "execution_count": 13,
   "metadata": {},
   "outputs": [],
   "source": [
    "df_all = pd.concat([df_european_leagues, df_all_climbers],sort=False)\n",
    "df_all.reset_index(inplace=True)\n",
    "df_all.drop(\"index\", axis=1, inplace=True)\n",
    "df_total = df_all.copy()"
   ]
  },
  {
   "cell_type": "markdown",
   "metadata": {},
   "source": [
    "## Build the matrix"
   ]
  },
  {
   "cell_type": "code",
   "execution_count": 14,
   "metadata": {},
   "outputs": [],
   "source": [
    "df_all.set_index(\"team_name\", inplace=True)\n",
    "df_all = df_all.T"
   ]
  },
  {
   "cell_type": "code",
   "execution_count": 15,
   "metadata": {},
   "outputs": [],
   "source": [
    "# df_all = df_all.iloc[:25, :]"
   ]
  },
  {
   "cell_type": "code",
   "execution_count": 16,
   "metadata": {},
   "outputs": [],
   "source": [
    "df_teams_numerical = df_all.iloc[8:,:]"
   ]
  },
  {
   "cell_type": "code",
   "execution_count": 17,
   "metadata": {},
   "outputs": [],
   "source": [
    "df_norm = (df_teams_numerical - df_teams_numerical.min()) / (df_teams_numerical.max() - df_teams_numerical.min())"
   ]
  },
  {
   "cell_type": "code",
   "execution_count": 18,
   "metadata": {},
   "outputs": [],
   "source": [
    "X = df_norm.as_matrix()"
   ]
  },
  {
   "cell_type": "markdown",
   "metadata": {},
   "source": [
    "## AA Analysis"
   ]
  },
  {
   "cell_type": "code",
   "execution_count": 19,
   "metadata": {
    "scrolled": false
   },
   "outputs": [
    {
     "name": "stdout",
     "output_type": "stream",
     "text": [
      "RSS = 4.091250909852641\n",
      "RSS = 3.81833421243134\n",
      "RSS = 3.745928504686118\n",
      "RSS = 3.7102007402358654\n",
      "RSS = 3.6890603270331033\n",
      "RSS = 3.676192115336565\n",
      "RSS = 3.668499671043731\n",
      "RSS = 3.664394250038272\n",
      "RSS = 3.6623597408853645\n",
      "RSS = 3.6615095354120375\n",
      "RSS = 3.660918313782759\n",
      "RSS = 3.6606628195834885\n",
      "RSS = 3.6604687372649827\n",
      "RSS = 3.6603339160908677\n",
      "RSS = 3.6602349721218217\n",
      "RSS = 3.660090346504616\n",
      "RSS = 3.660001628239482\n",
      "RSS = 3.659949523980466\n",
      "RSS = 3.659985515433741\n",
      "RSS = 3.659907727911228\n",
      "RSS = 3.6599840084150603\n",
      "RSS = 3.6599023628195924\n",
      "RSS = 3.659944968787206\n",
      "RSS = 3.6599322542182184\n",
      "RSS = 3.6598746836890417\n",
      "RSS = 3.659833718032611\n",
      "RSS = 3.6599345555025744\n",
      "RSS = 3.659892637257703\n",
      "RSS = 3.659912485965517\n",
      "RSS = 3.659855146575293\n",
      "RSS = 3.6598942776555505\n",
      "RSS = 3.6598650215995017\n",
      "RSS = 3.659847237420052\n",
      "RSS = 3.6598481699354473\n",
      "RSS = 3.6599070607645783\n",
      "RSS = 3.6599132461402637\n",
      "RSS = 3.6598961229520808\n",
      "RSS = 3.6598497350079278\n",
      "RSS = 3.6599095133920567\n",
      "RSS = 3.659878712405259\n",
      "RSS = 3.659922069899808\n",
      "RSS = 3.659915584552862\n",
      "RSS = 3.6599113962624745\n",
      "RSS = 3.6599357831846504\n",
      "RSS = 3.6599373779559374\n",
      "RSS = 3.6598777315038733\n",
      "RSS = 3.6598876167670547\n",
      "RSS = 3.659892699431401\n",
      "RSS = 3.659792800062638\n",
      "RSS = 3.6598877457361048\n"
     ]
    }
   ],
   "source": [
    "archetypal=cl.clustering.ArchetypalAnalysis(n_archetypes=5,iterations=50,tmax=300)\n",
    "archetypal.fit(X)\n",
    "\n",
    "Z=(archetypal.archetypes())"
   ]
  },
  {
   "cell_type": "code",
   "execution_count": 20,
   "metadata": {
    "scrolled": false
   },
   "outputs": [
    {
     "data": {
      "image/png": "[encoded data removed]",
      "text/plain": [
       "<Figure size 842.4x595.44 with 1 Axes>"
      ]
     },
     "metadata": {},
     "output_type": "display_data"
    }
   ],
   "source": [
    "plt.scatter(X[0,:],X[1,:])\n",
    "plt.scatter(np.array(Z[0,:]),np.array(Z[1,:]))\n",
    "plt.show()"
   ]
  },
  {
   "cell_type": "code",
   "execution_count": 21,
   "metadata": {
    "scrolled": false
   },
   "outputs": [
    {
     "data": {
      "image/png": "[encoded data removed]",
      "text/plain": [
       "<Figure size 1440x720 with 1 Axes>"
      ]
     },
     "metadata": {},
     "output_type": "display_data"
    }
   ],
   "source": [
    "A=archetypal.transform(X)\n",
    "dp=archetypal.map2D\n",
    "dat=dp @ A\n",
    "\n",
    "f, ax = plt.subplots(figsize=(20, 10))\n",
    "ax=cl.clustering.archetypal_plot(ax,dat,dp,epsilon=.1)\n",
    "ax.set_aspect('auto')\n",
    "plt.show()"
   ]
  },
  {
   "cell_type": "markdown",
   "metadata": {},
   "source": [
    "## Create data labels"
   ]
  },
  {
   "cell_type": "code",
   "execution_count": 22,
   "metadata": {},
   "outputs": [],
   "source": [
    "teamsList = df_total['team_name']\n",
    "temasColumnOrdering={x:y for y,x in enumerate(teamsList)}\n",
    "labels={v: k for k, v in temasColumnOrdering.items()}"
   ]
  },
  {
   "cell_type": "code",
   "execution_count": 23,
   "metadata": {
    "code_folding": [
     2
    ]
   },
   "outputs": [
    {
     "name": "stdout",
     "output_type": "stream",
     "text": [
      "1. FC Köln                              0.946 0.015 0.000 0.000 0.039 \n",
      "1. FC Union Berlin                      0.571 0.404 0.001 0.000 0.024 \n",
      "1. FSV Mainz 05                         0.473 0.000 0.288 0.000 0.239 \n",
      "BVB 09 Borussia Dortmund                0.068 0.000 0.000 0.932 0.000 \n",
      "Bayer 04 Leverkusen                     0.050 0.108 0.000 0.373 0.469 \n",
      "Borussia VfL Mönchengladbach            0.221 0.152 0.000 0.627 0.000 \n",
      "Düsseldorfer TuS Fortuna 1895           0.512 0.000 0.474 0.000 0.014 \n",
      "Eintracht Frankfurt                     0.140 0.000 0.338 0.318 0.204 \n",
      "FC Augsburg                             0.528 0.000 0.472 0.000 0.000 \n",
      "FC Bayern München                       0.000 0.000 0.000 0.345 0.655 \n",
      "FC Schalke 04                           0.378 0.375 0.025 0.193 0.029 \n",
      "Hertha BSC                              0.630 0.000 0.369 0.000 0.000 \n",
      "Rasen Ballsport Leipzig                 0.082 0.000 0.000 0.574 0.344 \n",
      "SC Freiburg                             0.384 0.163 0.000 0.000 0.452 \n",
      "SC Paderborn 07                         0.464 0.000 0.510 0.001 0.026 \n",
      "SV Werder Bremen                        0.348 0.000 0.652 0.000 0.000 \n",
      "TSG 1899 Hoffenheim                     0.241 0.000 0.414 0.230 0.115 \n",
      "VfL Wolfsburg                           0.164 0.545 0.000 0.000 0.291 \n",
      "AFC Bournemouth                         0.055 0.000 0.678 0.210 0.057 \n",
      "Arsenal FC                              0.361 0.176 0.069 0.301 0.092 \n",
      "Aston Villa FC                          0.116 0.000 0.509 0.060 0.315 \n",
      "Brighton & Hove Albion FC               0.000 0.185 0.272 0.000 0.543 \n",
      "Burnley FC                              0.153 0.310 0.387 0.143 0.007 \n",
      "Chelsea FC                              0.000 0.054 0.000 0.000 0.946 \n",
      "Crystal Palace FC                       0.000 0.719 0.242 0.000 0.039 \n",
      "Everton FC                              0.101 0.106 0.304 0.133 0.356 \n",
      "Leicester City FC                       0.008 0.152 0.045 0.402 0.393 \n",
      "Liverpool FC                            0.000 0.000 0.000 0.798 0.202 \n",
      "Manchester City FC                      0.000 0.000 0.000 0.066 0.934 \n",
      "Manchester United FC                    0.000 0.253 0.048 0.312 0.387 \n",
      "Newcastle United FC                     0.000 0.333 0.589 0.000 0.079 \n",
      "Norwich City FC                         0.000 0.000 0.770 0.119 0.111 \n",
      "Sheffield United FC                     0.000 0.691 0.198 0.111 0.000 \n",
      "Southampton FC                          0.206 0.000 0.352 0.053 0.389 \n",
      "Tottenham Hotspur FC                    0.357 0.000 0.020 0.133 0.490 \n",
      "Watford FC                              0.000 0.304 0.502 0.000 0.195 \n",
      "West Ham United FC                      0.074 0.000 0.547 0.378 0.000 \n",
      "Wolverhampton Wanderers FC              0.045 0.135 0.284 0.000 0.536 \n",
      "AC Milan                                0.000 0.391 0.092 0.000 0.517 \n",
      "ACF Fiorentina                          0.095 0.354 0.130 0.000 0.420 \n",
      "AS Roma                                 0.154 0.047 0.000 0.077 0.723 \n",
      "Atalanta Bergamasca Calcio              0.054 0.000 0.057 0.250 0.640 \n",
      "Bologna FC 1909                         0.473 0.130 0.001 0.000 0.396 \n",
      "Brescia Calcio                          0.000 0.000 0.951 0.049 0.000 \n",
      "Cagliari Calcio                         0.377 0.228 0.000 0.169 0.226 \n",
      "FC Internazionale Milano                0.000 0.229 0.000 0.459 0.312 \n",
      "Genoa CFC                               0.624 0.139 0.229 0.000 0.008 \n",
      "Hellas Verona FC                        0.289 0.711 0.000 0.000 0.000 \n",
      "Juventus FC                             0.000 0.147 0.000 0.458 0.395 \n",
      "Parma Calcio 1913                       0.350 0.455 0.042 0.000 0.153 \n",
      "SS Lazio                                0.000 0.060 0.000 0.705 0.235 \n",
      "SSC Napoli                              0.000 0.084 0.009 0.000 0.907 \n",
      "Società Polisportiva Ars et Labor 2013  0.000 0.192 0.635 0.000 0.173 \n",
      "Torino FC                               0.521 0.178 0.301 0.000 0.000 \n",
      "UC Sampdoria                            0.000 0.090 0.505 0.000 0.405 \n",
      "US Lecce                                0.360 0.000 0.461 0.000 0.179 \n",
      "US Sassuolo Calcio                      0.409 0.000 0.055 0.318 0.218 \n",
      "Udinese Calcio                          0.000 0.377 0.456 0.000 0.166 \n",
      "Athletic Club Bilbao                    0.016 0.925 0.059 0.000 0.000 \n",
      "CA Osasuna                              0.186 0.336 0.253 0.000 0.224 \n",
      "CD Leganés                              0.000 0.562 0.410 0.000 0.028 \n",
      "Club Atlético de Madrid                 0.000 0.888 0.038 0.074 0.000 \n",
      "Deportivo Alavés                        0.041 0.649 0.268 0.000 0.043 \n",
      "FC Barcelona                            0.188 0.000 0.000 0.812 0.000 \n",
      "Getafe Club de Fútbol                   0.000 0.730 0.000 0.000 0.270 \n",
      "Granada CF                              0.159 0.777 0.021 0.000 0.043 \n",
      "Levante UD                              0.232 0.207 0.394 0.166 0.000 \n",
      "Real Betis Balompié                     0.273 0.092 0.261 0.188 0.186 \n",
      "Real Club Celta de Vigo                 0.000 0.537 0.463 0.000 0.000 \n",
      "Real Club Deportivo Mallorca            0.162 0.282 0.556 0.000 0.000 \n",
      "Real Madrid CF                          0.000 0.309 0.000 0.182 0.509 \n",
      "Real Sociedad de Fútbol                 0.329 0.412 0.000 0.259 0.000 \n",
      "Real Valladolid Club de Fútbol          0.000 0.537 0.463 0.000 0.000 \n",
      "Reial Club Deportiu Espanyol            0.188 0.278 0.534 0.000 0.000 \n",
      "SD Eibar                                0.169 0.448 0.349 0.000 0.034 \n",
      "Sevilla FC                              0.093 0.566 0.000 0.277 0.064 \n",
      "Valencia CF                             0.523 0.173 0.304 0.000 0.000 \n",
      "Villarreal CF                           0.246 0.180 0.000 0.272 0.302 \n",
      "AS Monaco FC                            0.325 0.055 0.053 0.242 0.325 \n",
      "AS Saint-Étienne                        0.331 0.240 0.378 0.000 0.051 \n",
      "Amiens SC                               0.405 0.262 0.314 0.000 0.018 \n",
      "Angers Sporting Club de l'Ouest         0.000 0.439 0.293 0.000 0.267 \n",
      "Dijon FCO                               0.000 0.401 0.449 0.055 0.096 \n",
      "FC Girondins de Bordeaux                0.318 0.558 0.000 0.124 0.001 \n",
      "FC Metz                                 0.285 0.483 0.189 0.000 0.042 \n",
      "FC Nantes                               0.000 0.824 0.095 0.000 0.081 \n",
      "Lille OSC Métropole                     0.000 0.609 0.154 0.236 0.000 \n",
      "Montpellier HSC                         0.079 0.403 0.347 0.171 0.000 \n",
      "Nîmes Olympique                         0.090 0.221 0.424 0.000 0.265 \n",
      "OGC Nice Côte d'Azur                    0.330 0.061 0.095 0.370 0.144 \n",
      "Olympique Lyonnais                      0.205 0.606 0.000 0.189 0.000 \n",
      "Olympique de Marseille                  0.111 0.548 0.000 0.034 0.307 \n",
      "Paris Saint-Germain FC                  0.000 0.009 0.000 0.748 0.243 \n",
      "RC Strasbourg Alsace                    0.197 0.551 0.164 0.087 0.000 \n",
      "Stade Brestois 29                       0.119 0.299 0.353 0.002 0.227 \n",
      "Stade Rennais FC                        0.000 0.750 0.000 0.250 0.000 \n",
      "Stade de Reims                          0.000 1.000 0.000 0.000 0.000 \n",
      "Toulouse FC                             0.000 0.000 1.000 0.000 0.000 \n",
      "1. FC Nürnberg                          0.000 0.000 1.000 0.000 0.000 \n",
      "Hannoverscher Sportverein 1896          0.077 0.012 0.839 0.000 0.072 \n",
      "VfB Stuttgart 1893                      0.028 0.000 0.959 0.013 0.000 \n",
      "Hamburger SV                            0.000 0.417 0.393 0.000 0.190 \n",
      "SV Darmstadt 1898                       0.000 0.334 0.515 0.000 0.151 \n",
      "FC Ingolstadt 04                        0.000 0.416 0.237 0.000 0.347 \n"
     ]
    }
   ],
   "source": [
    "for i in range(0,104):\n",
    "    print(\"{:40}\".format(labels[i]),end='')\n",
    "    for j in A[:,i]:\n",
    "        print(\"{:.3f} \".format(j),end='')\n",
    "    print(\"\")"
   ]
  },
  {
   "cell_type": "markdown",
   "metadata": {},
   "source": [
    "## Merge Result with original dataframe"
   ]
  },
  {
   "cell_type": "code",
   "execution_count": 24,
   "metadata": {},
   "outputs": [],
   "source": [
    "df_aa_result = pd.DataFrame(data=A.T)\n",
    "df_aa_result.columns = df_aa_result.columns.map(str)"
   ]
  },
  {
   "cell_type": "code",
   "execution_count": 25,
   "metadata": {},
   "outputs": [],
   "source": [
    "df_teams_with_aa = pd.concat([df_total, df_aa_result], axis=1)\n",
    "df_teams_only_aa = df_teams_with_aa.iloc[:,280:]\n",
    "df_teams_only_aa['common_name'] = df_teams_with_aa['common_name']"
   ]
  },
  {
   "cell_type": "code",
   "execution_count": 26,
   "metadata": {},
   "outputs": [
    {
     "data": {
      "text/html": [
       "<div>\n",
       "<style scoped>\n",
       "    .dataframe tbody tr th:only-of-type {\n",
       "        vertical-align: middle;\n",
       "    }\n",
       "\n",
       "    .dataframe tbody tr th {\n",
       "        vertical-align: top;\n",
       "    }\n",
       "\n",
       "    .dataframe thead th {\n",
       "        text-align: right;\n",
       "    }\n",
       "</style>\n",
       "<table border=\"1\" class=\"dataframe\">\n",
       "  <thead>\n",
       "    <tr style=\"text-align: right;\">\n",
       "      <th></th>\n",
       "      <th>0</th>\n",
       "      <th>1</th>\n",
       "      <th>2</th>\n",
       "      <th>3</th>\n",
       "      <th>4</th>\n",
       "      <th>common_name</th>\n",
       "    </tr>\n",
       "  </thead>\n",
       "  <tbody>\n",
       "    <tr>\n",
       "      <td>0</td>\n",
       "      <td>0.946224</td>\n",
       "      <td>0.014662</td>\n",
       "      <td>0.000133</td>\n",
       "      <td>0.000221</td>\n",
       "      <td>0.038760</td>\n",
       "      <td>Köln</td>\n",
       "    </tr>\n",
       "    <tr>\n",
       "      <td>1</td>\n",
       "      <td>0.571274</td>\n",
       "      <td>0.403677</td>\n",
       "      <td>0.000731</td>\n",
       "      <td>0.000155</td>\n",
       "      <td>0.024164</td>\n",
       "      <td>Union Berlin</td>\n",
       "    </tr>\n",
       "    <tr>\n",
       "      <td>2</td>\n",
       "      <td>0.472868</td>\n",
       "      <td>0.000000</td>\n",
       "      <td>0.287730</td>\n",
       "      <td>0.000000</td>\n",
       "      <td>0.239402</td>\n",
       "      <td>Mainz 05</td>\n",
       "    </tr>\n",
       "    <tr>\n",
       "      <td>3</td>\n",
       "      <td>0.067752</td>\n",
       "      <td>0.000000</td>\n",
       "      <td>0.000044</td>\n",
       "      <td>0.932115</td>\n",
       "      <td>0.000089</td>\n",
       "      <td>Borussia Dortmund</td>\n",
       "    </tr>\n",
       "    <tr>\n",
       "      <td>4</td>\n",
       "      <td>0.049945</td>\n",
       "      <td>0.108106</td>\n",
       "      <td>0.000044</td>\n",
       "      <td>0.373245</td>\n",
       "      <td>0.468660</td>\n",
       "      <td>Bayer Leverkusen</td>\n",
       "    </tr>\n",
       "    <tr>\n",
       "      <td>...</td>\n",
       "      <td>...</td>\n",
       "      <td>...</td>\n",
       "      <td>...</td>\n",
       "      <td>...</td>\n",
       "      <td>...</td>\n",
       "      <td>...</td>\n",
       "    </tr>\n",
       "    <tr>\n",
       "      <td>99</td>\n",
       "      <td>0.076633</td>\n",
       "      <td>0.012381</td>\n",
       "      <td>0.838915</td>\n",
       "      <td>0.000000</td>\n",
       "      <td>0.072071</td>\n",
       "      <td>Hannover 96</td>\n",
       "    </tr>\n",
       "    <tr>\n",
       "      <td>100</td>\n",
       "      <td>0.028151</td>\n",
       "      <td>0.000000</td>\n",
       "      <td>0.959092</td>\n",
       "      <td>0.012757</td>\n",
       "      <td>0.000000</td>\n",
       "      <td>Stuttgart</td>\n",
       "    </tr>\n",
       "    <tr>\n",
       "      <td>101</td>\n",
       "      <td>0.000000</td>\n",
       "      <td>0.416988</td>\n",
       "      <td>0.393156</td>\n",
       "      <td>0.000000</td>\n",
       "      <td>0.189856</td>\n",
       "      <td>Hamburger SV</td>\n",
       "    </tr>\n",
       "    <tr>\n",
       "      <td>102</td>\n",
       "      <td>0.000000</td>\n",
       "      <td>0.334286</td>\n",
       "      <td>0.514596</td>\n",
       "      <td>0.000000</td>\n",
       "      <td>0.151118</td>\n",
       "      <td>Darmstadt 98</td>\n",
       "    </tr>\n",
       "    <tr>\n",
       "      <td>103</td>\n",
       "      <td>0.000000</td>\n",
       "      <td>0.416102</td>\n",
       "      <td>0.236744</td>\n",
       "      <td>0.000000</td>\n",
       "      <td>0.347154</td>\n",
       "      <td>Ingolstadt</td>\n",
       "    </tr>\n",
       "  </tbody>\n",
       "</table>\n",
       "<p>104 rows × 6 columns</p>\n",
       "</div>"
      ],
      "text/plain": [
       "            0         1         2         3         4        common_name\n",
       "0    0.946224  0.014662  0.000133  0.000221  0.038760               Köln\n",
       "1    0.571274  0.403677  0.000731  0.000155  0.024164       Union Berlin\n",
       "2    0.472868  0.000000  0.287730  0.000000  0.239402           Mainz 05\n",
       "3    0.067752  0.000000  0.000044  0.932115  0.000089  Borussia Dortmund\n",
       "4    0.049945  0.108106  0.000044  0.373245  0.468660   Bayer Leverkusen\n",
       "..        ...       ...       ...       ...       ...                ...\n",
       "99   0.076633  0.012381  0.838915  0.000000  0.072071        Hannover 96\n",
       "100  0.028151  0.000000  0.959092  0.012757  0.000000          Stuttgart\n",
       "101  0.000000  0.416988  0.393156  0.000000  0.189856       Hamburger SV\n",
       "102  0.000000  0.334286  0.514596  0.000000  0.151118       Darmstadt 98\n",
       "103  0.000000  0.416102  0.236744  0.000000  0.347154         Ingolstadt\n",
       "\n",
       "[104 rows x 6 columns]"
      ]
     },
     "execution_count": 26,
     "metadata": {},
     "output_type": "execute_result"
    }
   ],
   "source": [
    "df_teams_only_aa"
   ]
  },
  {
   "cell_type": "markdown",
   "metadata": {},
   "source": [
    "## Save Result as Pickle file"
   ]
  },
  {
   "cell_type": "code",
   "execution_count": 27,
   "metadata": {
    "scrolled": false
   },
   "outputs": [],
   "source": [
    "df_teams_only_aa.to_pickle(\"pickle_files/df_teams_only_aa.pkl\")"
   ]
  }
 ],
 "metadata": {
  "kernelspec": {
   "display_name": "Python 3",
   "language": "python",
   "name": "python3"
  },
  "language_info": {
   "codemirror_mode": {
    "name": "ipython",
    "version": 3
   },
   "file_extension": ".py",
   "mimetype": "text/x-python",
   "name": "python",
   "nbconvert_exporter": "python",
   "pygments_lexer": "ipython3",
   "version": "3.7.4"
  }
 },
 "nbformat": 4,
 "nbformat_minor": 2
}
