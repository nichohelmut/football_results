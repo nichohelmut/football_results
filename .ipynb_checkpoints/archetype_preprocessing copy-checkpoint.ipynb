{
 "cells": [
  {
   "cell_type": "code",
   "execution_count": 1,
   "metadata": {},
   "outputs": [
    {
     "name": "stdout",
     "output_type": "stream",
     "text": [
      "Populating the interactive namespace from numpy and matplotlib\n"
     ]
    }
   ],
   "source": [
    "%pylab inline\n",
    "import pandas as pd\n",
    "import seaborn as sns\n",
    "import numpy as np\n",
    "import scipy \n",
    "import matplotlib.pyplot as plt\n",
    "import matplotlib.style as style\n",
    "from sklearn.ensemble import RandomForestRegressor\n",
    "import sys\n",
    "from sklearn.model_selection import train_test_split\n",
    "import pydot\n",
    "#imports the own created package\n",
    "from sklearn.tree import export_graphviz\n",
    "import clustering as cl\n",
    "import warnings\n",
    "warnings.filterwarnings('ignore')\n"
   ]
  },
  {
   "cell_type": "code",
   "execution_count": 2,
   "metadata": {},
   "outputs": [],
   "source": [
    "sns.set(style='whitegrid', rc={'figure.figsize':(11.7,8.27)})\n",
    "sns.set_context('talk', rc={ 'lines.linewidth': 6}, font_scale=1.5)"
   ]
  },
  {
   "cell_type": "markdown",
   "metadata": {},
   "source": [
    "## Team Results of actual Season"
   ]
  },
  {
   "cell_type": "code",
   "execution_count": 3,
   "metadata": {},
   "outputs": [],
   "source": [
    "df_teams = pd.read_csv(\"germany-bundesliga-teams-2019-to-2020-stats.csv\")"
   ]
  },
  {
   "cell_type": "code",
   "execution_count": 4,
   "metadata": {},
   "outputs": [],
   "source": [
    "df_teams.to_excel(\"teams.xlsx\")"
   ]
  },
  {
   "cell_type": "code",
   "execution_count": 5,
   "metadata": {},
   "outputs": [],
   "source": [
    "df_teams.sort_values('team_name', inplace=True)"
   ]
  },
  {
   "cell_type": "code",
   "execution_count": 6,
   "metadata": {},
   "outputs": [],
   "source": [
    "df_teams.reset_index(inplace=True)"
   ]
  },
  {
   "cell_type": "code",
   "execution_count": 7,
   "metadata": {},
   "outputs": [],
   "source": [
    "df_teams.drop(\"index\", axis=1, inplace=True)"
   ]
  },
  {
   "cell_type": "markdown",
   "metadata": {},
   "source": [
    "## Team Results of last Season"
   ]
  },
  {
   "cell_type": "code",
   "execution_count": 8,
   "metadata": {},
   "outputs": [],
   "source": [
    "df_teams_last_first = pd.read_csv(\"germany-bundesliga-teams-2018-to-2019-stats.csv\")\n",
    "df_teams_last_first.drop([14, 15, 16], inplace = True)"
   ]
  },
  {
   "cell_type": "code",
   "execution_count": 9,
   "metadata": {},
   "outputs": [],
   "source": [
    "df_teams_last_second = pd.read_csv(\"germany-2-bundesliga-teams-2018-to-2019-stats.csv\")\n",
    "df_teams_last_second = df_teams_last_second.loc[[1,4,7]]"
   ]
  },
  {
   "cell_type": "code",
   "execution_count": 10,
   "metadata": {},
   "outputs": [],
   "source": [
    "df_teams_last_year = pd.concat([df_teams_last_first, df_teams_last_second], axis=0)"
   ]
  },
  {
   "cell_type": "code",
   "execution_count": 11,
   "metadata": {
    "scrolled": true
   },
   "outputs": [],
   "source": [
    "df_teams_last_year.sort_values('team_name', inplace=True)"
   ]
  },
  {
   "cell_type": "code",
   "execution_count": 12,
   "metadata": {},
   "outputs": [],
   "source": [
    "df_teams_last_year.reset_index(inplace=True)"
   ]
  },
  {
   "cell_type": "code",
   "execution_count": 13,
   "metadata": {},
   "outputs": [],
   "source": [
    "df_teams_last_year.drop(\"index\", axis=1, inplace=True)"
   ]
  },
  {
   "cell_type": "markdown",
   "metadata": {},
   "source": [
    "## Merge both DF's"
   ]
  },
  {
   "cell_type": "markdown",
   "metadata": {},
   "source": [
    "Take the mean of columns that cotain averages"
   ]
  },
  {
   "cell_type": "code",
   "execution_count": 14,
   "metadata": {},
   "outputs": [],
   "source": [
    "per_cols = [col for col in df_teams.columns if '_per_' in col]"
   ]
  },
  {
   "cell_type": "code",
   "execution_count": 15,
   "metadata": {},
   "outputs": [],
   "source": [
    "df_per_actual = df_teams[per_cols]\n",
    "df_per_last = df_teams_last_year[per_cols]\n",
    "df_per_both = (df_per_actual + df_per_last) / 2"
   ]
  },
  {
   "cell_type": "code",
   "execution_count": 16,
   "metadata": {},
   "outputs": [],
   "source": [
    "df_actual = df_teams.drop(per_cols, axis=1)\n",
    "df_last = df_teams_last_year.drop(per_cols, axis=1)\n",
    "df_sum = df_actual.iloc[:,4:] + df_last.iloc[:,4:]"
   ]
  },
  {
   "cell_type": "code",
   "execution_count": 17,
   "metadata": {
    "scrolled": true
   },
   "outputs": [],
   "source": [
    "df_both = pd.concat([df_teams.iloc[:,:4], df_sum, df_per_both], axis=1, sort=False)"
   ]
  },
  {
   "cell_type": "markdown",
   "metadata": {},
   "source": [
    "## build the matrix"
   ]
  },
  {
   "cell_type": "code",
   "execution_count": 18,
   "metadata": {},
   "outputs": [
    {
     "data": {
      "text/plain": [
       "(18, 280)"
      ]
     },
     "execution_count": 18,
     "metadata": {},
     "output_type": "execute_result"
    }
   ],
   "source": [
    "df_both.shape"
   ]
  },
  {
   "cell_type": "code",
   "execution_count": 19,
   "metadata": {},
   "outputs": [],
   "source": [
    "df_both.set_index(\"team_name\", inplace=True)"
   ]
  },
  {
   "cell_type": "code",
   "execution_count": 20,
   "metadata": {},
   "outputs": [],
   "source": [
    "df_both = df_both.T"
   ]
  },
  {
   "cell_type": "code",
   "execution_count": 21,
   "metadata": {
    "scrolled": true
   },
   "outputs": [
    {
     "data": {
      "text/plain": [
       "(279, 18)"
      ]
     },
     "execution_count": 21,
     "metadata": {},
     "output_type": "execute_result"
    }
   ],
   "source": [
    "df_both.shape"
   ]
  },
  {
   "cell_type": "code",
   "execution_count": 22,
   "metadata": {},
   "outputs": [],
   "source": [
    "df_teams_numerical = df_both.iloc[8:,:]"
   ]
  },
  {
   "cell_type": "code",
   "execution_count": 23,
   "metadata": {},
   "outputs": [],
   "source": [
    "df_norm = (df_teams_numerical - df_teams_numerical.min())/ (df_teams_numerical.max() - df_teams_numerical.min())"
   ]
  },
  {
   "cell_type": "code",
   "execution_count": 24,
   "metadata": {},
   "outputs": [],
   "source": [
    "X = df_norm.as_matrix()"
   ]
  },
  {
   "cell_type": "code",
   "execution_count": 25,
   "metadata": {},
   "outputs": [
    {
     "data": {
      "text/plain": [
       "array([[0.017162471395881007, 0.031880977683315624, 0.057766367137355584,\n",
       "        ..., 0.04005722460658083, 0.03515625, 0.020123839009287926],\n",
       "       [0.016018306636155607, 0.020191285866099893, 0.05263157894736842,\n",
       "        ..., 0.04005722460658083, 0.033854166666666664,\n",
       "        0.021671826625386997],\n",
       "       [0.009153318077803204, 0.03294367693942614, 0.05391527599486521,\n",
       "        ..., 0.05150214592274678, 0.041666666666666664,\n",
       "        0.02631578947368421],\n",
       "       ...,\n",
       "       [0.0028318077803203656, 0.01625929861849097, 0.044833119383825414,\n",
       "        ..., 0.030193133047210302, 0.022076822916666666,\n",
       "        0.004380804953560372],\n",
       "       [0.002574370709382151, 0.015701381509032945, 0.044794608472400514,\n",
       "        ..., 0.029298998569384838, 0.021497395833333335,\n",
       "        0.003544891640866873],\n",
       "       [0.0030892448512585815, 0.016785334750265675, 0.04488446726572529,\n",
       "        ..., 0.031008583690987124, 0.022688802083333334,\n",
       "        0.005255417956656347]], dtype=object)"
      ]
     },
     "execution_count": 25,
     "metadata": {},
     "output_type": "execute_result"
    }
   ],
   "source": [
    "X"
   ]
  },
  {
   "cell_type": "markdown",
   "metadata": {},
   "source": [
    "## Yunar Approach"
   ]
  },
  {
   "cell_type": "code",
   "execution_count": 26,
   "metadata": {},
   "outputs": [
    {
     "name": "stdout",
     "output_type": "stream",
     "text": [
      "RSS = 1.0841762594285937\n",
      "RSS = 1.057667402923656\n",
      "RSS = 1.0435964533103137\n",
      "RSS = 1.032389974900272\n",
      "RSS = 1.0190732877925421\n",
      "RSS = 1.0033742804600643\n",
      "RSS = 0.9900728180709485\n",
      "RSS = 0.9764574263289373\n",
      "RSS = 0.9601431450661752\n",
      "RSS = 0.952461641206145\n",
      "RSS = 0.9509539408081129\n",
      "RSS = 0.9504839336567251\n",
      "RSS = 0.9503110413476468\n",
      "RSS = 0.9503666189846276\n",
      "RSS = 0.9503157288227094\n",
      "RSS = 0.9502691277703899\n",
      "RSS = 0.9502788913778792\n",
      "RSS = 0.9503060738966821\n",
      "RSS = 0.950262840532522\n",
      "RSS = 0.9503123760616737\n",
      "RSS = 0.9502612278362691\n",
      "RSS = 0.9502842129307315\n",
      "RSS = 0.9502533010316287\n",
      "RSS = 0.950246412291286\n",
      "RSS = 0.9502577767078894\n",
      "RSS = 0.9503023197415452\n",
      "RSS = 0.9502463024357111\n",
      "RSS = 0.9502885953578175\n",
      "RSS = 0.9502676596355139\n",
      "RSS = 0.950256482621649\n"
     ]
    },
    {
     "data": {
      "image/png": "[encoded data removed]",
      "text/plain": [
       "<Figure size 842.4x595.44 with 1 Axes>"
      ]
     },
     "metadata": {},
     "output_type": "display_data"
    }
   ],
   "source": [
    "archetypal=cl.clustering.ArchetypalAnalysis(n_archetypes=4,iterations=30,tmax=200)\n",
    "archetypal.fit(X)\n",
    "\n",
    "Z=(archetypal.archetypes())\n",
    "plt.scatter(X[0,:],X[1,:])\n",
    "plt.scatter(np.array(Z[0,:]),np.array(Z[1,:]))\n",
    "plt.show()"
   ]
  },
  {
   "cell_type": "code",
   "execution_count": 27,
   "metadata": {
    "scrolled": false
   },
   "outputs": [
    {
     "data": {
      "text/plain": [
       "(271, 18)"
      ]
     },
     "execution_count": 27,
     "metadata": {},
     "output_type": "execute_result"
    }
   ],
   "source": [
    "X.shape"
   ]
  },
  {
   "cell_type": "code",
   "execution_count": 28,
   "metadata": {},
   "outputs": [
    {
     "data": {
      "text/plain": [
       "(271, 4)"
      ]
     },
     "execution_count": 28,
     "metadata": {},
     "output_type": "execute_result"
    }
   ],
   "source": [
    "Z.shape"
   ]
  },
  {
   "cell_type": "code",
   "execution_count": 29,
   "metadata": {},
   "outputs": [
    {
     "data": {
      "text/plain": [
       "ArchetypalAnalysis(iterations=30, n_archetypes=4, tmax=200)"
      ]
     },
     "execution_count": 29,
     "metadata": {},
     "output_type": "execute_result"
    }
   ],
   "source": [
    "archetypal"
   ]
  },
  {
   "cell_type": "code",
   "execution_count": 30,
   "metadata": {
    "scrolled": false
   },
   "outputs": [
    {
     "data": {
      "image/png": "[encoded data removed]",
      "text/plain": [
       "<Figure size 1440x720 with 1 Axes>"
      ]
     },
     "metadata": {},
     "output_type": "display_data"
    }
   ],
   "source": [
    "A=archetypal.transform(X)\n",
    "dp=archetypal.map2D\n",
    "dat=dp @ A\n",
    "\n",
    "f, ax = plt.subplots(figsize=(20, 10))\n",
    "ax=cl.clustering.archetypal_plot(ax,dat,dp,epsilon=.1)\n",
    "ax.set_aspect('equal')\n",
    "plt.show()"
   ]
  },
  {
   "cell_type": "code",
   "execution_count": 31,
   "metadata": {},
   "outputs": [],
   "source": [
    "teamsList = df_teams['team_name']"
   ]
  },
  {
   "cell_type": "code",
   "execution_count": 32,
   "metadata": {},
   "outputs": [],
   "source": [
    "temasColumnOrdering={x:y for y,x in enumerate(teamsList)}"
   ]
  },
  {
   "cell_type": "code",
   "execution_count": 33,
   "metadata": {},
   "outputs": [],
   "source": [
    "labels={v: k for k, v in temasColumnOrdering.items()}"
   ]
  },
  {
   "cell_type": "code",
   "execution_count": 34,
   "metadata": {},
   "outputs": [
    {
     "name": "stdout",
     "output_type": "stream",
     "text": [
      "1. FC Köln                    0.722 0.054 0.000 0.224 \n",
      "1. FC Union Berlin            0.977 0.000 0.023 0.000 \n",
      "1. FSV Mainz 05               0.076 0.109 0.761 0.055 \n",
      "BVB 09 Borussia Dortmund      0.000 0.000 0.223 0.777 \n",
      "Bayer 04 Leverkusen           0.206 0.259 0.000 0.536 \n",
      "Borussia VfL Mönchengladbach  0.000 0.754 0.000 0.245 \n",
      "Düsseldorfer TuS Fortuna 1895 0.000 0.000 1.000 0.000 \n",
      "Eintracht Frankfurt           0.003 0.449 0.348 0.200 \n",
      "FC Augsburg                   0.000 0.000 1.000 0.000 \n",
      "FC Bayern München             0.000 0.000 0.000 1.000 \n",
      "FC Schalke 04                 0.006 0.441 0.553 0.000 \n",
      "Hertha BSC                    0.275 0.017 0.709 0.000 \n",
      "Rasen Ballsport Leipzig       0.341 0.354 0.000 0.305 \n",
      "SC Freiburg                   0.000 0.275 0.725 0.000 \n",
      "SC Paderborn 07               0.703 0.000 0.041 0.257 \n",
      "SV Werder Bremen              0.000 0.415 0.539 0.046 \n",
      "TSG 1899 Hoffenheim           0.173 0.361 0.312 0.155 \n",
      "VfL Wolfsburg                 0.000 1.000 0.000 0.000 \n"
     ]
    }
   ],
   "source": [
    "for i in range(0,18):\n",
    "    print(\"{:30}\".format(labels[i]),end='')\n",
    "    for j in A[:,i]:\n",
    "        print(\"{:.3f} \".format(j),end='')\n",
    "    print(\"\")"
   ]
  },
  {
   "cell_type": "code",
   "execution_count": 35,
   "metadata": {},
   "outputs": [
    {
     "data": {
      "text/plain": [
       "271"
      ]
     },
     "execution_count": 35,
     "metadata": {},
     "output_type": "execute_result"
    }
   ],
   "source": [
    "len(archetypal.archetypes())"
   ]
  },
  {
   "cell_type": "markdown",
   "metadata": {},
   "source": [
    "## Merge Result with original dataframe"
   ]
  },
  {
   "cell_type": "code",
   "execution_count": 55,
   "metadata": {},
   "outputs": [],
   "source": [
    "df_aa_result = pd.DataFrame(data=A.T)\n",
    "df_aa_result.columns = df_aa_result.columns.map(str)"
   ]
  },
  {
   "cell_type": "code",
   "execution_count": 47,
   "metadata": {},
   "outputs": [],
   "source": [
    "df_teams_with_aa = pd.concat([df_teams, df_aa_result], axis=1)"
   ]
  },
  {
   "cell_type": "code",
   "execution_count": 51,
   "metadata": {
    "scrolled": true
   },
   "outputs": [
    {
     "data": {
      "text/html": [
       "<div>\n",
       "<style scoped>\n",
       "    .dataframe tbody tr th:only-of-type {\n",
       "        vertical-align: middle;\n",
       "    }\n",
       "\n",
       "    .dataframe tbody tr th {\n",
       "        vertical-align: top;\n",
       "    }\n",
       "\n",
       "    .dataframe thead th {\n",
       "        text-align: right;\n",
       "    }\n",
       "</style>\n",
       "<table border=\"1\" class=\"dataframe\">\n",
       "  <thead>\n",
       "    <tr style=\"text-align: right;\">\n",
       "      <th></th>\n",
       "      <th>team_name</th>\n",
       "      <th>common_name</th>\n",
       "      <th>season</th>\n",
       "      <th>country</th>\n",
       "      <th>matches_played</th>\n",
       "      <th>matches_played_home</th>\n",
       "      <th>matches_played_away</th>\n",
       "      <th>suspended_matches</th>\n",
       "      <th>wins</th>\n",
       "      <th>wins_home</th>\n",
       "      <th>...</th>\n",
       "      <th>goals_conceded_min_31_to_40</th>\n",
       "      <th>goals_conceded_min_41_to_50</th>\n",
       "      <th>goals_conceded_min_51_to_60</th>\n",
       "      <th>goals_conceded_min_61_to_70</th>\n",
       "      <th>goals_conceded_min_71_to_80</th>\n",
       "      <th>goals_conceded_min_81_to_90</th>\n",
       "      <th>0</th>\n",
       "      <th>1</th>\n",
       "      <th>2</th>\n",
       "      <th>3</th>\n",
       "    </tr>\n",
       "  </thead>\n",
       "  <tbody>\n",
       "    <tr>\n",
       "      <th>0</th>\n",
       "      <td>1. FC Köln</td>\n",
       "      <td>Köln</td>\n",
       "      <td>2019/2020</td>\n",
       "      <td>Germany</td>\n",
       "      <td>24</td>\n",
       "      <td>12</td>\n",
       "      <td>12</td>\n",
       "      <td>0</td>\n",
       "      <td>10</td>\n",
       "      <td>6</td>\n",
       "      <td>...</td>\n",
       "      <td>5</td>\n",
       "      <td>5</td>\n",
       "      <td>3</td>\n",
       "      <td>6</td>\n",
       "      <td>5</td>\n",
       "      <td>6</td>\n",
       "      <td>0.721990</td>\n",
       "      <td>0.054080</td>\n",
       "      <td>0.000000</td>\n",
       "      <td>0.223930</td>\n",
       "    </tr>\n",
       "    <tr>\n",
       "      <th>1</th>\n",
       "      <td>1. FC Union Berlin</td>\n",
       "      <td>Union Berlin</td>\n",
       "      <td>2019/2020</td>\n",
       "      <td>Germany</td>\n",
       "      <td>25</td>\n",
       "      <td>12</td>\n",
       "      <td>13</td>\n",
       "      <td>0</td>\n",
       "      <td>9</td>\n",
       "      <td>6</td>\n",
       "      <td>...</td>\n",
       "      <td>4</td>\n",
       "      <td>2</td>\n",
       "      <td>8</td>\n",
       "      <td>5</td>\n",
       "      <td>2</td>\n",
       "      <td>10</td>\n",
       "      <td>0.977114</td>\n",
       "      <td>0.000000</td>\n",
       "      <td>0.022886</td>\n",
       "      <td>0.000000</td>\n",
       "    </tr>\n",
       "    <tr>\n",
       "      <th>2</th>\n",
       "      <td>1. FSV Mainz 05</td>\n",
       "      <td>Mainz 05</td>\n",
       "      <td>2019/2020</td>\n",
       "      <td>Germany</td>\n",
       "      <td>25</td>\n",
       "      <td>13</td>\n",
       "      <td>12</td>\n",
       "      <td>0</td>\n",
       "      <td>8</td>\n",
       "      <td>4</td>\n",
       "      <td>...</td>\n",
       "      <td>7</td>\n",
       "      <td>9</td>\n",
       "      <td>2</td>\n",
       "      <td>5</td>\n",
       "      <td>5</td>\n",
       "      <td>13</td>\n",
       "      <td>0.075871</td>\n",
       "      <td>0.108806</td>\n",
       "      <td>0.760647</td>\n",
       "      <td>0.054677</td>\n",
       "    </tr>\n",
       "    <tr>\n",
       "      <th>3</th>\n",
       "      <td>BVB 09 Borussia Dortmund</td>\n",
       "      <td>Borussia Dortmund</td>\n",
       "      <td>2019/2020</td>\n",
       "      <td>Germany</td>\n",
       "      <td>25</td>\n",
       "      <td>12</td>\n",
       "      <td>13</td>\n",
       "      <td>0</td>\n",
       "      <td>15</td>\n",
       "      <td>9</td>\n",
       "      <td>...</td>\n",
       "      <td>3</td>\n",
       "      <td>8</td>\n",
       "      <td>4</td>\n",
       "      <td>1</td>\n",
       "      <td>5</td>\n",
       "      <td>5</td>\n",
       "      <td>0.000000</td>\n",
       "      <td>0.000000</td>\n",
       "      <td>0.223284</td>\n",
       "      <td>0.776716</td>\n",
       "    </tr>\n",
       "    <tr>\n",
       "      <th>4</th>\n",
       "      <td>Bayer 04 Leverkusen</td>\n",
       "      <td>Bayer Leverkusen</td>\n",
       "      <td>2019/2020</td>\n",
       "      <td>Germany</td>\n",
       "      <td>25</td>\n",
       "      <td>13</td>\n",
       "      <td>12</td>\n",
       "      <td>0</td>\n",
       "      <td>14</td>\n",
       "      <td>7</td>\n",
       "      <td>...</td>\n",
       "      <td>4</td>\n",
       "      <td>3</td>\n",
       "      <td>1</td>\n",
       "      <td>3</td>\n",
       "      <td>3</td>\n",
       "      <td>6</td>\n",
       "      <td>0.205871</td>\n",
       "      <td>0.258507</td>\n",
       "      <td>0.000100</td>\n",
       "      <td>0.535522</td>\n",
       "    </tr>\n",
       "    <tr>\n",
       "      <th>5</th>\n",
       "      <td>Borussia VfL Mönchengladbach</td>\n",
       "      <td>Borussia M'gladbach</td>\n",
       "      <td>2019/2020</td>\n",
       "      <td>Germany</td>\n",
       "      <td>24</td>\n",
       "      <td>12</td>\n",
       "      <td>12</td>\n",
       "      <td>0</td>\n",
       "      <td>14</td>\n",
       "      <td>8</td>\n",
       "      <td>...</td>\n",
       "      <td>1</td>\n",
       "      <td>4</td>\n",
       "      <td>5</td>\n",
       "      <td>0</td>\n",
       "      <td>3</td>\n",
       "      <td>7</td>\n",
       "      <td>0.000000</td>\n",
       "      <td>0.754378</td>\n",
       "      <td>0.000149</td>\n",
       "      <td>0.245473</td>\n",
       "    </tr>\n",
       "    <tr>\n",
       "      <th>6</th>\n",
       "      <td>Düsseldorfer TuS Fortuna 1895</td>\n",
       "      <td>Fortuna Düsseldorf</td>\n",
       "      <td>2019/2020</td>\n",
       "      <td>Germany</td>\n",
       "      <td>25</td>\n",
       "      <td>12</td>\n",
       "      <td>13</td>\n",
       "      <td>0</td>\n",
       "      <td>5</td>\n",
       "      <td>3</td>\n",
       "      <td>...</td>\n",
       "      <td>7</td>\n",
       "      <td>7</td>\n",
       "      <td>4</td>\n",
       "      <td>11</td>\n",
       "      <td>8</td>\n",
       "      <td>6</td>\n",
       "      <td>0.000000</td>\n",
       "      <td>0.000000</td>\n",
       "      <td>1.000000</td>\n",
       "      <td>0.000000</td>\n",
       "    </tr>\n",
       "    <tr>\n",
       "      <th>7</th>\n",
       "      <td>Eintracht Frankfurt</td>\n",
       "      <td>Eintracht Frankfurt</td>\n",
       "      <td>2019/2020</td>\n",
       "      <td>Germany</td>\n",
       "      <td>24</td>\n",
       "      <td>12</td>\n",
       "      <td>12</td>\n",
       "      <td>1</td>\n",
       "      <td>8</td>\n",
       "      <td>6</td>\n",
       "      <td>...</td>\n",
       "      <td>4</td>\n",
       "      <td>9</td>\n",
       "      <td>3</td>\n",
       "      <td>5</td>\n",
       "      <td>6</td>\n",
       "      <td>5</td>\n",
       "      <td>0.003284</td>\n",
       "      <td>0.448706</td>\n",
       "      <td>0.348209</td>\n",
       "      <td>0.199801</td>\n",
       "    </tr>\n",
       "    <tr>\n",
       "      <th>8</th>\n",
       "      <td>FC Augsburg</td>\n",
       "      <td>Augsburg</td>\n",
       "      <td>2019/2020</td>\n",
       "      <td>Germany</td>\n",
       "      <td>25</td>\n",
       "      <td>12</td>\n",
       "      <td>13</td>\n",
       "      <td>0</td>\n",
       "      <td>7</td>\n",
       "      <td>5</td>\n",
       "      <td>...</td>\n",
       "      <td>3</td>\n",
       "      <td>6</td>\n",
       "      <td>9</td>\n",
       "      <td>5</td>\n",
       "      <td>8</td>\n",
       "      <td>9</td>\n",
       "      <td>0.000000</td>\n",
       "      <td>0.000000</td>\n",
       "      <td>1.000000</td>\n",
       "      <td>0.000000</td>\n",
       "    </tr>\n",
       "    <tr>\n",
       "      <th>9</th>\n",
       "      <td>FC Bayern München</td>\n",
       "      <td>Bayern München</td>\n",
       "      <td>2019/2020</td>\n",
       "      <td>Germany</td>\n",
       "      <td>25</td>\n",
       "      <td>13</td>\n",
       "      <td>12</td>\n",
       "      <td>0</td>\n",
       "      <td>17</td>\n",
       "      <td>9</td>\n",
       "      <td>...</td>\n",
       "      <td>4</td>\n",
       "      <td>4</td>\n",
       "      <td>3</td>\n",
       "      <td>3</td>\n",
       "      <td>2</td>\n",
       "      <td>5</td>\n",
       "      <td>0.000000</td>\n",
       "      <td>0.000000</td>\n",
       "      <td>0.000000</td>\n",
       "      <td>1.000000</td>\n",
       "    </tr>\n",
       "    <tr>\n",
       "      <th>10</th>\n",
       "      <td>FC Schalke 04</td>\n",
       "      <td>Schalke 04</td>\n",
       "      <td>2019/2020</td>\n",
       "      <td>Germany</td>\n",
       "      <td>25</td>\n",
       "      <td>13</td>\n",
       "      <td>12</td>\n",
       "      <td>0</td>\n",
       "      <td>9</td>\n",
       "      <td>5</td>\n",
       "      <td>...</td>\n",
       "      <td>3</td>\n",
       "      <td>3</td>\n",
       "      <td>3</td>\n",
       "      <td>5</td>\n",
       "      <td>7</td>\n",
       "      <td>9</td>\n",
       "      <td>0.006119</td>\n",
       "      <td>0.441095</td>\n",
       "      <td>0.552786</td>\n",
       "      <td>0.000000</td>\n",
       "    </tr>\n",
       "    <tr>\n",
       "      <th>11</th>\n",
       "      <td>Hertha BSC</td>\n",
       "      <td>Hertha BSC</td>\n",
       "      <td>2019/2020</td>\n",
       "      <td>Germany</td>\n",
       "      <td>25</td>\n",
       "      <td>13</td>\n",
       "      <td>12</td>\n",
       "      <td>0</td>\n",
       "      <td>7</td>\n",
       "      <td>3</td>\n",
       "      <td>...</td>\n",
       "      <td>7</td>\n",
       "      <td>3</td>\n",
       "      <td>5</td>\n",
       "      <td>4</td>\n",
       "      <td>4</td>\n",
       "      <td>11</td>\n",
       "      <td>0.274577</td>\n",
       "      <td>0.016517</td>\n",
       "      <td>0.708905</td>\n",
       "      <td>0.000000</td>\n",
       "    </tr>\n",
       "    <tr>\n",
       "      <th>12</th>\n",
       "      <td>Rasen Ballsport Leipzig</td>\n",
       "      <td>RB Leipzig</td>\n",
       "      <td>2019/2020</td>\n",
       "      <td>Germany</td>\n",
       "      <td>25</td>\n",
       "      <td>12</td>\n",
       "      <td>13</td>\n",
       "      <td>0</td>\n",
       "      <td>14</td>\n",
       "      <td>7</td>\n",
       "      <td>...</td>\n",
       "      <td>4</td>\n",
       "      <td>3</td>\n",
       "      <td>2</td>\n",
       "      <td>2</td>\n",
       "      <td>1</td>\n",
       "      <td>7</td>\n",
       "      <td>0.340647</td>\n",
       "      <td>0.354279</td>\n",
       "      <td>0.000100</td>\n",
       "      <td>0.304975</td>\n",
       "    </tr>\n",
       "    <tr>\n",
       "      <th>13</th>\n",
       "      <td>SC Freiburg</td>\n",
       "      <td>Freiburg</td>\n",
       "      <td>2019/2020</td>\n",
       "      <td>Germany</td>\n",
       "      <td>25</td>\n",
       "      <td>12</td>\n",
       "      <td>13</td>\n",
       "      <td>0</td>\n",
       "      <td>10</td>\n",
       "      <td>6</td>\n",
       "      <td>...</td>\n",
       "      <td>4</td>\n",
       "      <td>3</td>\n",
       "      <td>5</td>\n",
       "      <td>3</td>\n",
       "      <td>2</td>\n",
       "      <td>9</td>\n",
       "      <td>0.000000</td>\n",
       "      <td>0.275473</td>\n",
       "      <td>0.724527</td>\n",
       "      <td>0.000000</td>\n",
       "    </tr>\n",
       "    <tr>\n",
       "      <th>14</th>\n",
       "      <td>SC Paderborn 07</td>\n",
       "      <td>Paderborn</td>\n",
       "      <td>2019/2020</td>\n",
       "      <td>Germany</td>\n",
       "      <td>25</td>\n",
       "      <td>13</td>\n",
       "      <td>12</td>\n",
       "      <td>0</td>\n",
       "      <td>4</td>\n",
       "      <td>2</td>\n",
       "      <td>...</td>\n",
       "      <td>7</td>\n",
       "      <td>4</td>\n",
       "      <td>5</td>\n",
       "      <td>5</td>\n",
       "      <td>5</td>\n",
       "      <td>7</td>\n",
       "      <td>0.702836</td>\n",
       "      <td>0.000000</td>\n",
       "      <td>0.040647</td>\n",
       "      <td>0.256517</td>\n",
       "    </tr>\n",
       "    <tr>\n",
       "      <th>15</th>\n",
       "      <td>SV Werder Bremen</td>\n",
       "      <td>Werder Bremen</td>\n",
       "      <td>2019/2020</td>\n",
       "      <td>Germany</td>\n",
       "      <td>24</td>\n",
       "      <td>11</td>\n",
       "      <td>13</td>\n",
       "      <td>1</td>\n",
       "      <td>4</td>\n",
       "      <td>1</td>\n",
       "      <td>...</td>\n",
       "      <td>6</td>\n",
       "      <td>7</td>\n",
       "      <td>10</td>\n",
       "      <td>6</td>\n",
       "      <td>6</td>\n",
       "      <td>8</td>\n",
       "      <td>0.000000</td>\n",
       "      <td>0.415423</td>\n",
       "      <td>0.538507</td>\n",
       "      <td>0.046070</td>\n",
       "    </tr>\n",
       "    <tr>\n",
       "      <th>16</th>\n",
       "      <td>TSG 1899 Hoffenheim</td>\n",
       "      <td>Hoffenheim</td>\n",
       "      <td>2019/2020</td>\n",
       "      <td>Germany</td>\n",
       "      <td>25</td>\n",
       "      <td>13</td>\n",
       "      <td>12</td>\n",
       "      <td>0</td>\n",
       "      <td>10</td>\n",
       "      <td>5</td>\n",
       "      <td>...</td>\n",
       "      <td>6</td>\n",
       "      <td>3</td>\n",
       "      <td>7</td>\n",
       "      <td>5</td>\n",
       "      <td>2</td>\n",
       "      <td>7</td>\n",
       "      <td>0.172587</td>\n",
       "      <td>0.360647</td>\n",
       "      <td>0.311542</td>\n",
       "      <td>0.155224</td>\n",
       "    </tr>\n",
       "    <tr>\n",
       "      <th>17</th>\n",
       "      <td>VfL Wolfsburg</td>\n",
       "      <td>Wolfsburg</td>\n",
       "      <td>2019/2020</td>\n",
       "      <td>Germany</td>\n",
       "      <td>25</td>\n",
       "      <td>13</td>\n",
       "      <td>12</td>\n",
       "      <td>0</td>\n",
       "      <td>9</td>\n",
       "      <td>4</td>\n",
       "      <td>...</td>\n",
       "      <td>1</td>\n",
       "      <td>3</td>\n",
       "      <td>6</td>\n",
       "      <td>1</td>\n",
       "      <td>2</td>\n",
       "      <td>8</td>\n",
       "      <td>0.000000</td>\n",
       "      <td>0.999851</td>\n",
       "      <td>0.000050</td>\n",
       "      <td>0.000100</td>\n",
       "    </tr>\n",
       "  </tbody>\n",
       "</table>\n",
       "<p>18 rows × 284 columns</p>\n",
       "</div>"
      ],
      "text/plain": [
       "                        team_name          common_name     season  country  \\\n",
       "0                      1. FC Köln                 Köln  2019/2020  Germany   \n",
       "1              1. FC Union Berlin         Union Berlin  2019/2020  Germany   \n",
       "2                 1. FSV Mainz 05             Mainz 05  2019/2020  Germany   \n",
       "3        BVB 09 Borussia Dortmund    Borussia Dortmund  2019/2020  Germany   \n",
       "4             Bayer 04 Leverkusen     Bayer Leverkusen  2019/2020  Germany   \n",
       "5    Borussia VfL Mönchengladbach  Borussia M'gladbach  2019/2020  Germany   \n",
       "6   Düsseldorfer TuS Fortuna 1895   Fortuna Düsseldorf  2019/2020  Germany   \n",
       "7             Eintracht Frankfurt  Eintracht Frankfurt  2019/2020  Germany   \n",
       "8                     FC Augsburg             Augsburg  2019/2020  Germany   \n",
       "9               FC Bayern München       Bayern München  2019/2020  Germany   \n",
       "10                  FC Schalke 04           Schalke 04  2019/2020  Germany   \n",
       "11                     Hertha BSC           Hertha BSC  2019/2020  Germany   \n",
       "12        Rasen Ballsport Leipzig           RB Leipzig  2019/2020  Germany   \n",
       "13                    SC Freiburg             Freiburg  2019/2020  Germany   \n",
       "14                SC Paderborn 07            Paderborn  2019/2020  Germany   \n",
       "15               SV Werder Bremen        Werder Bremen  2019/2020  Germany   \n",
       "16            TSG 1899 Hoffenheim           Hoffenheim  2019/2020  Germany   \n",
       "17                  VfL Wolfsburg            Wolfsburg  2019/2020  Germany   \n",
       "\n",
       "    matches_played  matches_played_home  matches_played_away  \\\n",
       "0               24                   12                   12   \n",
       "1               25                   12                   13   \n",
       "2               25                   13                   12   \n",
       "3               25                   12                   13   \n",
       "4               25                   13                   12   \n",
       "5               24                   12                   12   \n",
       "6               25                   12                   13   \n",
       "7               24                   12                   12   \n",
       "8               25                   12                   13   \n",
       "9               25                   13                   12   \n",
       "10              25                   13                   12   \n",
       "11              25                   13                   12   \n",
       "12              25                   12                   13   \n",
       "13              25                   12                   13   \n",
       "14              25                   13                   12   \n",
       "15              24                   11                   13   \n",
       "16              25                   13                   12   \n",
       "17              25                   13                   12   \n",
       "\n",
       "    suspended_matches  wins  wins_home  ...  goals_conceded_min_31_to_40  \\\n",
       "0                   0    10          6  ...                            5   \n",
       "1                   0     9          6  ...                            4   \n",
       "2                   0     8          4  ...                            7   \n",
       "3                   0    15          9  ...                            3   \n",
       "4                   0    14          7  ...                            4   \n",
       "5                   0    14          8  ...                            1   \n",
       "6                   0     5          3  ...                            7   \n",
       "7                   1     8          6  ...                            4   \n",
       "8                   0     7          5  ...                            3   \n",
       "9                   0    17          9  ...                            4   \n",
       "10                  0     9          5  ...                            3   \n",
       "11                  0     7          3  ...                            7   \n",
       "12                  0    14          7  ...                            4   \n",
       "13                  0    10          6  ...                            4   \n",
       "14                  0     4          2  ...                            7   \n",
       "15                  1     4          1  ...                            6   \n",
       "16                  0    10          5  ...                            6   \n",
       "17                  0     9          4  ...                            1   \n",
       "\n",
       "    goals_conceded_min_41_to_50  goals_conceded_min_51_to_60  \\\n",
       "0                             5                            3   \n",
       "1                             2                            8   \n",
       "2                             9                            2   \n",
       "3                             8                            4   \n",
       "4                             3                            1   \n",
       "5                             4                            5   \n",
       "6                             7                            4   \n",
       "7                             9                            3   \n",
       "8                             6                            9   \n",
       "9                             4                            3   \n",
       "10                            3                            3   \n",
       "11                            3                            5   \n",
       "12                            3                            2   \n",
       "13                            3                            5   \n",
       "14                            4                            5   \n",
       "15                            7                           10   \n",
       "16                            3                            7   \n",
       "17                            3                            6   \n",
       "\n",
       "    goals_conceded_min_61_to_70  goals_conceded_min_71_to_80  \\\n",
       "0                             6                            5   \n",
       "1                             5                            2   \n",
       "2                             5                            5   \n",
       "3                             1                            5   \n",
       "4                             3                            3   \n",
       "5                             0                            3   \n",
       "6                            11                            8   \n",
       "7                             5                            6   \n",
       "8                             5                            8   \n",
       "9                             3                            2   \n",
       "10                            5                            7   \n",
       "11                            4                            4   \n",
       "12                            2                            1   \n",
       "13                            3                            2   \n",
       "14                            5                            5   \n",
       "15                            6                            6   \n",
       "16                            5                            2   \n",
       "17                            1                            2   \n",
       "\n",
       "    goals_conceded_min_81_to_90         0         1         2         3  \n",
       "0                             6  0.721990  0.054080  0.000000  0.223930  \n",
       "1                            10  0.977114  0.000000  0.022886  0.000000  \n",
       "2                            13  0.075871  0.108806  0.760647  0.054677  \n",
       "3                             5  0.000000  0.000000  0.223284  0.776716  \n",
       "4                             6  0.205871  0.258507  0.000100  0.535522  \n",
       "5                             7  0.000000  0.754378  0.000149  0.245473  \n",
       "6                             6  0.000000  0.000000  1.000000  0.000000  \n",
       "7                             5  0.003284  0.448706  0.348209  0.199801  \n",
       "8                             9  0.000000  0.000000  1.000000  0.000000  \n",
       "9                             5  0.000000  0.000000  0.000000  1.000000  \n",
       "10                            9  0.006119  0.441095  0.552786  0.000000  \n",
       "11                           11  0.274577  0.016517  0.708905  0.000000  \n",
       "12                            7  0.340647  0.354279  0.000100  0.304975  \n",
       "13                            9  0.000000  0.275473  0.724527  0.000000  \n",
       "14                            7  0.702836  0.000000  0.040647  0.256517  \n",
       "15                            8  0.000000  0.415423  0.538507  0.046070  \n",
       "16                            7  0.172587  0.360647  0.311542  0.155224  \n",
       "17                            8  0.000000  0.999851  0.000050  0.000100  \n",
       "\n",
       "[18 rows x 284 columns]"
      ]
     },
     "execution_count": 51,
     "metadata": {},
     "output_type": "execute_result"
    }
   ],
   "source": [
    "df_teams_with_aa"
   ]
  },
  {
   "cell_type": "code",
   "execution_count": null,
   "metadata": {},
   "outputs": [],
   "source": []
  }
 ],
 "metadata": {
  "kernelspec": {
   "display_name": "Python 3",
   "language": "python",
   "name": "python3"
  },
  "language_info": {
   "codemirror_mode": {
    "name": "ipython",
    "version": 3
   },
   "file_extension": ".py",
   "mimetype": "text/x-python",
   "name": "python",
   "nbconvert_exporter": "python",
   "pygments_lexer": "ipython3",
   "version": "3.7.5"
  }
 },
 "nbformat": 4,
 "nbformat_minor": 2
}
