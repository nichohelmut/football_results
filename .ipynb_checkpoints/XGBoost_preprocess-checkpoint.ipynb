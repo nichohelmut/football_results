{
 "cells": [
  {
   "cell_type": "code",
   "execution_count": 1,
   "metadata": {},
   "outputs": [
    {
     "name": "stdout",
     "output_type": "stream",
     "text": [
      "Populating the interactive namespace from numpy and matplotlib\n"
     ]
    }
   ],
   "source": [
    "%pylab inline\n",
    "import pandas as pd\n",
    "import seaborn as sns\n",
    "import numpy as np\n",
    "import scipy \n",
    "import matplotlib.pyplot as plt\n",
    "import matplotlib.style as style\n",
    "from sklearn.ensemble import RandomForestRegressor\n",
    "import sys\n",
    "from sklearn.model_selection import train_test_split\n",
    "#imports the own created package\n",
    "from sklearn.tree import export_graphviz\n",
    "import clustering as cl\n",
    "import warnings\n",
    "warnings.filterwarnings('ignore')\n"
   ]
  },
  {
   "cell_type": "markdown",
   "metadata": {},
   "source": [
    "## Load Pickel file from archetype_analysis.ipynb"
   ]
  },
  {
   "cell_type": "code",
   "execution_count": 2,
   "metadata": {},
   "outputs": [],
   "source": [
    "df_teams_aa = pd.read_pickle(\"./df_teams_only_aa.pkl\")"
   ]
  },
  {
   "cell_type": "code",
   "execution_count": 3,
   "metadata": {},
   "outputs": [],
   "source": [
    "df_teams_aa.iloc[:,:-1] = (df_teams_aa.iloc[:,:-1] * 100 ).round(0).astype(int)"
   ]
  },
  {
   "cell_type": "markdown",
   "metadata": {},
   "source": [
    "## Load match related data"
   ]
  },
  {
   "cell_type": "code",
   "execution_count": 4,
   "metadata": {},
   "outputs": [],
   "source": [
    "df_matches = pd.read_csv(\"germany-bundesliga-matches-2019-to-2020-stats.csv\")"
   ]
  },
  {
   "cell_type": "code",
   "execution_count": 5,
   "metadata": {},
   "outputs": [],
   "source": [
    "df_matches_18_19 = pd.read_csv(\"germany-bundesliga-matches-2018-to-2019-stats.csv\")"
   ]
  },
  {
   "cell_type": "code",
   "execution_count": 6,
   "metadata": {},
   "outputs": [],
   "source": [
    "df_matches_17_18 = pd.read_csv(\"germany-bundesliga-matches-2017-to-2018-stats.csv\")"
   ]
  },
  {
   "cell_type": "code",
   "execution_count": 7,
   "metadata": {},
   "outputs": [],
   "source": [
    "df_matches_16_17 = pd.read_csv(\"germany-bundesliga-matches-2016-to-2017-stats.csv\")"
   ]
  },
  {
   "cell_type": "code",
   "execution_count": 8,
   "metadata": {},
   "outputs": [],
   "source": [
    "df_matches_15_16 = pd.read_csv(\"germany-bundesliga-matches-2015-to-2016-stats.csv\")"
   ]
  },
  {
   "cell_type": "code",
   "execution_count": 6,
   "metadata": {},
   "outputs": [],
   "source": [
    "df_matches = df_matches[df_matches['status'] != 'suspended']"
   ]
  },
  {
   "cell_type": "code",
   "execution_count": 7,
   "metadata": {},
   "outputs": [],
   "source": [
    "# df_matches[df_matches['status'] == 'incomplete']"
   ]
  },
  {
   "cell_type": "markdown",
   "metadata": {},
   "source": [
    "## Append results from AA Analysis as features for home and away Team to match-related-dataset"
   ]
  },
  {
   "cell_type": "code",
   "execution_count": 8,
   "metadata": {},
   "outputs": [],
   "source": [
    "int_for_test = 223\n",
    "int_for_prediction = 233"
   ]
  },
  {
   "cell_type": "code",
   "execution_count": 9,
   "metadata": {},
   "outputs": [],
   "source": [
    "columns=pd.Series(df_teams_aa.iloc[:,:-1].columns)\n",
    "columns_h = list(columns.apply(lambda x: \"ht_\" + x))\n",
    "columns_a = list(columns.apply(lambda x: \"awt_\" + x))"
   ]
  },
  {
   "cell_type": "code",
   "execution_count": 10,
   "metadata": {},
   "outputs": [],
   "source": [
    "df_empty_columns = pd.DataFrame(columns=(columns_h + columns_a))\n",
    "df_matches_with_aa = pd.concat([df_matches,df_empty_columns], axis=1)\n",
    "df_matches_with_aa_complete = df_matches_with_aa.copy()\n",
    "df_matches_with_aa_complete = df_matches_with_aa_complete.iloc[:int_for_prediction,:]"
   ]
  },
  {
   "cell_type": "code",
   "execution_count": 11,
   "metadata": {},
   "outputs": [
    {
     "data": {
      "text/html": [
       "<div>\n",
       "<style scoped>\n",
       "    .dataframe tbody tr th:only-of-type {\n",
       "        vertical-align: middle;\n",
       "    }\n",
       "\n",
       "    .dataframe tbody tr th {\n",
       "        vertical-align: top;\n",
       "    }\n",
       "\n",
       "    .dataframe thead th {\n",
       "        text-align: right;\n",
       "    }\n",
       "</style>\n",
       "<table border=\"1\" class=\"dataframe\">\n",
       "  <thead>\n",
       "    <tr style=\"text-align: right;\">\n",
       "      <th></th>\n",
       "      <th>timestamp</th>\n",
       "      <th>date_GMT</th>\n",
       "      <th>status</th>\n",
       "      <th>attendance</th>\n",
       "      <th>home_team_name</th>\n",
       "      <th>away_team_name</th>\n",
       "      <th>Pre-Match PPG (Home)</th>\n",
       "      <th>Pre-Match PPG (Away)</th>\n",
       "      <th>home_ppg</th>\n",
       "      <th>away_ppg</th>\n",
       "      <th>...</th>\n",
       "      <th>ht_0</th>\n",
       "      <th>ht_1</th>\n",
       "      <th>ht_2</th>\n",
       "      <th>ht_3</th>\n",
       "      <th>ht_4</th>\n",
       "      <th>awt_0</th>\n",
       "      <th>awt_1</th>\n",
       "      <th>awt_2</th>\n",
       "      <th>awt_3</th>\n",
       "      <th>awt_4</th>\n",
       "    </tr>\n",
       "  </thead>\n",
       "  <tbody>\n",
       "    <tr>\n",
       "      <td>0</td>\n",
       "      <td>1565980200</td>\n",
       "      <td>Aug 16 2019 - 6:30pm</td>\n",
       "      <td>complete</td>\n",
       "      <td>75000.0</td>\n",
       "      <td>Bayern München</td>\n",
       "      <td>Hertha BSC</td>\n",
       "      <td>0.00</td>\n",
       "      <td>0.00</td>\n",
       "      <td>2.23</td>\n",
       "      <td>1.33</td>\n",
       "      <td>...</td>\n",
       "      <td>NaN</td>\n",
       "      <td>NaN</td>\n",
       "      <td>NaN</td>\n",
       "      <td>NaN</td>\n",
       "      <td>NaN</td>\n",
       "      <td>NaN</td>\n",
       "      <td>NaN</td>\n",
       "      <td>NaN</td>\n",
       "      <td>NaN</td>\n",
       "      <td>NaN</td>\n",
       "    </tr>\n",
       "    <tr>\n",
       "      <td>1</td>\n",
       "      <td>1566048600</td>\n",
       "      <td>Aug 17 2019 - 1:30pm</td>\n",
       "      <td>complete</td>\n",
       "      <td>81365.0</td>\n",
       "      <td>Borussia Dortmund</td>\n",
       "      <td>Augsburg</td>\n",
       "      <td>0.00</td>\n",
       "      <td>0.00</td>\n",
       "      <td>2.50</td>\n",
       "      <td>0.69</td>\n",
       "      <td>...</td>\n",
       "      <td>NaN</td>\n",
       "      <td>NaN</td>\n",
       "      <td>NaN</td>\n",
       "      <td>NaN</td>\n",
       "      <td>NaN</td>\n",
       "      <td>NaN</td>\n",
       "      <td>NaN</td>\n",
       "      <td>NaN</td>\n",
       "      <td>NaN</td>\n",
       "      <td>NaN</td>\n",
       "    </tr>\n",
       "    <tr>\n",
       "      <td>2</td>\n",
       "      <td>1566048600</td>\n",
       "      <td>Aug 17 2019 - 1:30pm</td>\n",
       "      <td>complete</td>\n",
       "      <td>42100.0</td>\n",
       "      <td>Werder Bremen</td>\n",
       "      <td>Fortuna Düsseldorf</td>\n",
       "      <td>0.00</td>\n",
       "      <td>0.00</td>\n",
       "      <td>0.45</td>\n",
       "      <td>0.77</td>\n",
       "      <td>...</td>\n",
       "      <td>NaN</td>\n",
       "      <td>NaN</td>\n",
       "      <td>NaN</td>\n",
       "      <td>NaN</td>\n",
       "      <td>NaN</td>\n",
       "      <td>NaN</td>\n",
       "      <td>NaN</td>\n",
       "      <td>NaN</td>\n",
       "      <td>NaN</td>\n",
       "      <td>NaN</td>\n",
       "    </tr>\n",
       "    <tr>\n",
       "      <td>3</td>\n",
       "      <td>1566048600</td>\n",
       "      <td>Aug 17 2019 - 1:30pm</td>\n",
       "      <td>complete</td>\n",
       "      <td>26208.0</td>\n",
       "      <td>Bayer Leverkusen</td>\n",
       "      <td>Paderborn</td>\n",
       "      <td>0.00</td>\n",
       "      <td>0.00</td>\n",
       "      <td>1.92</td>\n",
       "      <td>0.75</td>\n",
       "      <td>...</td>\n",
       "      <td>NaN</td>\n",
       "      <td>NaN</td>\n",
       "      <td>NaN</td>\n",
       "      <td>NaN</td>\n",
       "      <td>NaN</td>\n",
       "      <td>NaN</td>\n",
       "      <td>NaN</td>\n",
       "      <td>NaN</td>\n",
       "      <td>NaN</td>\n",
       "      <td>NaN</td>\n",
       "    </tr>\n",
       "    <tr>\n",
       "      <td>4</td>\n",
       "      <td>1566048600</td>\n",
       "      <td>Aug 17 2019 - 1:30pm</td>\n",
       "      <td>complete</td>\n",
       "      <td>24000.0</td>\n",
       "      <td>Freiburg</td>\n",
       "      <td>Mainz 05</td>\n",
       "      <td>0.00</td>\n",
       "      <td>0.00</td>\n",
       "      <td>1.67</td>\n",
       "      <td>1.00</td>\n",
       "      <td>...</td>\n",
       "      <td>NaN</td>\n",
       "      <td>NaN</td>\n",
       "      <td>NaN</td>\n",
       "      <td>NaN</td>\n",
       "      <td>NaN</td>\n",
       "      <td>NaN</td>\n",
       "      <td>NaN</td>\n",
       "      <td>NaN</td>\n",
       "      <td>NaN</td>\n",
       "      <td>NaN</td>\n",
       "    </tr>\n",
       "    <tr>\n",
       "      <td>...</td>\n",
       "      <td>...</td>\n",
       "      <td>...</td>\n",
       "      <td>...</td>\n",
       "      <td>...</td>\n",
       "      <td>...</td>\n",
       "      <td>...</td>\n",
       "      <td>...</td>\n",
       "      <td>...</td>\n",
       "      <td>...</td>\n",
       "      <td>...</td>\n",
       "      <td>...</td>\n",
       "      <td>...</td>\n",
       "      <td>...</td>\n",
       "      <td>...</td>\n",
       "      <td>...</td>\n",
       "      <td>...</td>\n",
       "      <td>...</td>\n",
       "      <td>...</td>\n",
       "      <td>...</td>\n",
       "      <td>...</td>\n",
       "      <td>...</td>\n",
       "    </tr>\n",
       "    <tr>\n",
       "      <td>229</td>\n",
       "      <td>1584196200</td>\n",
       "      <td>Mar 14 2020 - 2:30pm</td>\n",
       "      <td>incomplete</td>\n",
       "      <td>-1.0</td>\n",
       "      <td>RB Leipzig</td>\n",
       "      <td>Freiburg</td>\n",
       "      <td>2.08</td>\n",
       "      <td>1.23</td>\n",
       "      <td>2.08</td>\n",
       "      <td>1.23</td>\n",
       "      <td>...</td>\n",
       "      <td>NaN</td>\n",
       "      <td>NaN</td>\n",
       "      <td>NaN</td>\n",
       "      <td>NaN</td>\n",
       "      <td>NaN</td>\n",
       "      <td>NaN</td>\n",
       "      <td>NaN</td>\n",
       "      <td>NaN</td>\n",
       "      <td>NaN</td>\n",
       "      <td>NaN</td>\n",
       "    </tr>\n",
       "    <tr>\n",
       "      <td>230</td>\n",
       "      <td>1584196200</td>\n",
       "      <td>Mar 14 2020 - 2:30pm</td>\n",
       "      <td>incomplete</td>\n",
       "      <td>-1.0</td>\n",
       "      <td>Hoffenheim</td>\n",
       "      <td>Hertha BSC</td>\n",
       "      <td>1.23</td>\n",
       "      <td>1.33</td>\n",
       "      <td>1.23</td>\n",
       "      <td>1.33</td>\n",
       "      <td>...</td>\n",
       "      <td>NaN</td>\n",
       "      <td>NaN</td>\n",
       "      <td>NaN</td>\n",
       "      <td>NaN</td>\n",
       "      <td>NaN</td>\n",
       "      <td>NaN</td>\n",
       "      <td>NaN</td>\n",
       "      <td>NaN</td>\n",
       "      <td>NaN</td>\n",
       "      <td>NaN</td>\n",
       "    </tr>\n",
       "    <tr>\n",
       "      <td>231</td>\n",
       "      <td>1584207000</td>\n",
       "      <td>Mar 14 2020 - 5:30pm</td>\n",
       "      <td>incomplete</td>\n",
       "      <td>-1.0</td>\n",
       "      <td>Union Berlin</td>\n",
       "      <td>Bayern München</td>\n",
       "      <td>1.58</td>\n",
       "      <td>2.17</td>\n",
       "      <td>1.58</td>\n",
       "      <td>2.17</td>\n",
       "      <td>...</td>\n",
       "      <td>NaN</td>\n",
       "      <td>NaN</td>\n",
       "      <td>NaN</td>\n",
       "      <td>NaN</td>\n",
       "      <td>NaN</td>\n",
       "      <td>NaN</td>\n",
       "      <td>NaN</td>\n",
       "      <td>NaN</td>\n",
       "      <td>NaN</td>\n",
       "      <td>NaN</td>\n",
       "    </tr>\n",
       "    <tr>\n",
       "      <td>232</td>\n",
       "      <td>1584282600</td>\n",
       "      <td>Mar 15 2020 - 2:30pm</td>\n",
       "      <td>incomplete</td>\n",
       "      <td>-1.0</td>\n",
       "      <td>Eintracht Frankfurt</td>\n",
       "      <td>Borussia M'gladbach</td>\n",
       "      <td>1.75</td>\n",
       "      <td>1.67</td>\n",
       "      <td>1.75</td>\n",
       "      <td>1.67</td>\n",
       "      <td>...</td>\n",
       "      <td>NaN</td>\n",
       "      <td>NaN</td>\n",
       "      <td>NaN</td>\n",
       "      <td>NaN</td>\n",
       "      <td>NaN</td>\n",
       "      <td>NaN</td>\n",
       "      <td>NaN</td>\n",
       "      <td>NaN</td>\n",
       "      <td>NaN</td>\n",
       "      <td>NaN</td>\n",
       "    </tr>\n",
       "    <tr>\n",
       "      <td>233</td>\n",
       "      <td>1584291600</td>\n",
       "      <td>Mar 15 2020 - 5:00pm</td>\n",
       "      <td>incomplete</td>\n",
       "      <td>-1.0</td>\n",
       "      <td>Augsburg</td>\n",
       "      <td>Wolfsburg</td>\n",
       "      <td>1.50</td>\n",
       "      <td>1.50</td>\n",
       "      <td>1.50</td>\n",
       "      <td>1.50</td>\n",
       "      <td>...</td>\n",
       "      <td>NaN</td>\n",
       "      <td>NaN</td>\n",
       "      <td>NaN</td>\n",
       "      <td>NaN</td>\n",
       "      <td>NaN</td>\n",
       "      <td>NaN</td>\n",
       "      <td>NaN</td>\n",
       "      <td>NaN</td>\n",
       "      <td>NaN</td>\n",
       "      <td>NaN</td>\n",
       "    </tr>\n",
       "  </tbody>\n",
       "</table>\n",
       "<p>233 rows × 64 columns</p>\n",
       "</div>"
      ],
      "text/plain": [
       "      timestamp              date_GMT      status  attendance  \\\n",
       "0    1565980200  Aug 16 2019 - 6:30pm    complete     75000.0   \n",
       "1    1566048600  Aug 17 2019 - 1:30pm    complete     81365.0   \n",
       "2    1566048600  Aug 17 2019 - 1:30pm    complete     42100.0   \n",
       "3    1566048600  Aug 17 2019 - 1:30pm    complete     26208.0   \n",
       "4    1566048600  Aug 17 2019 - 1:30pm    complete     24000.0   \n",
       "..          ...                   ...         ...         ...   \n",
       "229  1584196200  Mar 14 2020 - 2:30pm  incomplete        -1.0   \n",
       "230  1584196200  Mar 14 2020 - 2:30pm  incomplete        -1.0   \n",
       "231  1584207000  Mar 14 2020 - 5:30pm  incomplete        -1.0   \n",
       "232  1584282600  Mar 15 2020 - 2:30pm  incomplete        -1.0   \n",
       "233  1584291600  Mar 15 2020 - 5:00pm  incomplete        -1.0   \n",
       "\n",
       "          home_team_name       away_team_name  Pre-Match PPG (Home)  \\\n",
       "0         Bayern München           Hertha BSC                  0.00   \n",
       "1      Borussia Dortmund             Augsburg                  0.00   \n",
       "2          Werder Bremen   Fortuna Düsseldorf                  0.00   \n",
       "3       Bayer Leverkusen            Paderborn                  0.00   \n",
       "4               Freiburg             Mainz 05                  0.00   \n",
       "..                   ...                  ...                   ...   \n",
       "229           RB Leipzig             Freiburg                  2.08   \n",
       "230           Hoffenheim           Hertha BSC                  1.23   \n",
       "231         Union Berlin       Bayern München                  1.58   \n",
       "232  Eintracht Frankfurt  Borussia M'gladbach                  1.75   \n",
       "233             Augsburg            Wolfsburg                  1.50   \n",
       "\n",
       "     Pre-Match PPG (Away)  home_ppg  away_ppg  ...  ht_0  ht_1  ht_2  ht_3  \\\n",
       "0                    0.00      2.23      1.33  ...   NaN   NaN   NaN   NaN   \n",
       "1                    0.00      2.50      0.69  ...   NaN   NaN   NaN   NaN   \n",
       "2                    0.00      0.45      0.77  ...   NaN   NaN   NaN   NaN   \n",
       "3                    0.00      1.92      0.75  ...   NaN   NaN   NaN   NaN   \n",
       "4                    0.00      1.67      1.00  ...   NaN   NaN   NaN   NaN   \n",
       "..                    ...       ...       ...  ...   ...   ...   ...   ...   \n",
       "229                  1.23      2.08      1.23  ...   NaN   NaN   NaN   NaN   \n",
       "230                  1.33      1.23      1.33  ...   NaN   NaN   NaN   NaN   \n",
       "231                  2.17      1.58      2.17  ...   NaN   NaN   NaN   NaN   \n",
       "232                  1.67      1.75      1.67  ...   NaN   NaN   NaN   NaN   \n",
       "233                  1.50      1.50      1.50  ...   NaN   NaN   NaN   NaN   \n",
       "\n",
       "     ht_4  awt_0 awt_1 awt_2  awt_3  awt_4  \n",
       "0     NaN    NaN   NaN   NaN    NaN    NaN  \n",
       "1     NaN    NaN   NaN   NaN    NaN    NaN  \n",
       "2     NaN    NaN   NaN   NaN    NaN    NaN  \n",
       "3     NaN    NaN   NaN   NaN    NaN    NaN  \n",
       "4     NaN    NaN   NaN   NaN    NaN    NaN  \n",
       "..    ...    ...   ...   ...    ...    ...  \n",
       "229   NaN    NaN   NaN   NaN    NaN    NaN  \n",
       "230   NaN    NaN   NaN   NaN    NaN    NaN  \n",
       "231   NaN    NaN   NaN   NaN    NaN    NaN  \n",
       "232   NaN    NaN   NaN   NaN    NaN    NaN  \n",
       "233   NaN    NaN   NaN   NaN    NaN    NaN  \n",
       "\n",
       "[233 rows x 64 columns]"
      ]
     },
     "execution_count": 11,
     "metadata": {},
     "output_type": "execute_result"
    }
   ],
   "source": [
    "df_matches_with_aa_complete"
   ]
  },
  {
   "cell_type": "code",
   "execution_count": 12,
   "metadata": {},
   "outputs": [],
   "source": [
    "pre_cols = [col for col in df_matches_with_aa_complete.columns if 'pre' in col]\n",
    "PRE_cols = [col for col in df_matches_with_aa_complete.columns if 'Pre' in col]\n",
    "aa_cols_home = [col for col in df_matches_with_aa_complete.columns if 'ht_' in col]\n",
    "aa_cols_away = [col for col in df_matches_with_aa_complete.columns if 'awt_' in col]"
   ]
  },
  {
   "cell_type": "code",
   "execution_count": 13,
   "metadata": {},
   "outputs": [],
   "source": [
    "for index, row in df_matches_with_aa_complete.iterrows():\n",
    "    teams_aa_score_home = list(df_teams_aa[df_teams_aa['common_name']==row['home_team_name']].iloc[:,:-1].iloc[0])\n",
    "    teams_aa_score_away = list(df_teams_aa[df_teams_aa['common_name']==row['away_team_name']].iloc[:,:-1].iloc[0])\n",
    "    \n",
    "    df_matches_with_aa_complete.at[index, aa_cols_home] = teams_aa_score_home\n",
    "    df_matches_with_aa_complete.at[index, aa_cols_away] = teams_aa_score_away\n",
    "    "
   ]
  },
  {
   "cell_type": "code",
   "execution_count": 14,
   "metadata": {},
   "outputs": [],
   "source": [
    "df_matches_with_aa_complete['HTGDIFF'] = df_matches_with_aa_complete['home_team_goal_count'] - df_matches_with_aa_complete['away_team_goal_count']\n",
    "df_matches_with_aa_complete['ATGDIFF'] = df_matches_with_aa_complete['away_team_goal_count'] - df_matches_with_aa_complete['home_team_goal_count']"
   ]
  },
  {
   "cell_type": "markdown",
   "metadata": {},
   "source": [
    "## Calculate AVG goal difference for home and away team rolling 10 Games"
   ]
  },
  {
   "cell_type": "code",
   "execution_count": 15,
   "metadata": {},
   "outputs": [],
   "source": [
    "def avg_goal_diff(df, avg_h_a_diff, a_h_team, a_h_goal_letter):\n",
    "    \"\"\"\n",
    "    input: \n",
    "        df = dataframe with all results\n",
    "        avg_h_a_diff = name of the new column\n",
    "        a_h_team = HomeTeam or AwayTeam\n",
    "        a_h_goal_letter = 'H' for home or 'A' for away\n",
    "    output: \n",
    "        avg_per_team = dictionary with with team as key and columns as values with new column H/ATGDIFF\n",
    "    \"\"\"\n",
    "    df[avg_h_a_diff] = 0\n",
    "    avg_per_team = {}\n",
    "    all_teams = df[a_h_team].unique()\n",
    "    for t in all_teams:\n",
    "        df_team = df[df[a_h_team]==t].fillna(0)\n",
    "        result = df_team['{}TGDIFF'.format(a_h_goal_letter)].rolling(4).mean()\n",
    "        df_team[avg_h_a_diff] = result\n",
    "        avg_per_team[t] = df_team\n",
    "    return avg_per_team"
   ]
  },
  {
   "cell_type": "code",
   "execution_count": 16,
   "metadata": {},
   "outputs": [],
   "source": [
    "d_AVGFTHG = avg_goal_diff(df_matches_with_aa_complete, 'AVGFTHG', 'home_team_name', 'H')"
   ]
  },
  {
   "cell_type": "code",
   "execution_count": 17,
   "metadata": {},
   "outputs": [],
   "source": [
    "def from_dict_value_to_df(d):\n",
    "    \"\"\"\n",
    "    input = dictionary \n",
    "    output = dataframe as part of all the values from the dictionary\n",
    "    \"\"\"\n",
    "    df = pd.DataFrame()\n",
    "    for v in d.values():\n",
    "        df = df.append(v)\n",
    "    return df"
   ]
  },
  {
   "cell_type": "code",
   "execution_count": 18,
   "metadata": {},
   "outputs": [],
   "source": [
    "df_AVGFTHG = from_dict_value_to_df(d_AVGFTHG)\n",
    "df_AVGFTHG.sort_index(inplace=True)"
   ]
  },
  {
   "cell_type": "code",
   "execution_count": 19,
   "metadata": {},
   "outputs": [],
   "source": [
    "d_AVGFTAG = avg_goal_diff(df_AVGFTHG, 'AVGFTAG', 'away_team_name', 'A')\n",
    "df_all = from_dict_value_to_df(d_AVGFTAG)\n",
    "df_all.sort_index(inplace=True)\n",
    "df_all['AVGFTAG'].fillna(0, inplace=True)"
   ]
  },
  {
   "cell_type": "markdown",
   "metadata": {},
   "source": [
    "## Add per match game results from last three games"
   ]
  },
  {
   "cell_type": "code",
   "execution_count": 20,
   "metadata": {},
   "outputs": [],
   "source": [
    "df_all['goal_diff'] = df_all['home_team_goal_count'] - df_all['away_team_goal_count']\n",
    "\n",
    "for index, row in df_all[df_all['status']=='complete'].iterrows():\n",
    "    if df_all['goal_diff'][index] > 0:\n",
    "        df_all.at[index,'result'] = 3\n",
    "    elif df_all['goal_diff'][index] == 0:\n",
    "        df_all.at[index,'result'] = 2\n",
    "    else:\n",
    "        df_all.at[index,'result'] = 1"
   ]
  },
  {
   "cell_type": "code",
   "execution_count": 21,
   "metadata": {},
   "outputs": [],
   "source": [
    "def previous_data(df, h_or_a_team, column, letter, past_n):\n",
    "    \"\"\"\n",
    "    input: \n",
    "        df = dataframe with all results\n",
    "        a_h_team = HomeTeam or AwayTeam\n",
    "        column = column selected to get previous data from\n",
    "    output:\n",
    "        team_with_past_dict = dictionary with team as a key and columns as values with new \n",
    "                              columns with past value\n",
    "    \"\"\"\n",
    "    d = dict()\n",
    "    team_with_past_dict = dict()\n",
    "    all_teams = df[h_or_a_team].unique()\n",
    "    for team in all_teams:\n",
    "        n_games = len(df[df[h_or_a_team]==team])\n",
    "        team_with_past_dict[team] = df[df[h_or_a_team]==team]\n",
    "        for i in range(1, past_n):\n",
    "            d[i] = team_with_past_dict[team].assign(\n",
    "                result=team_with_past_dict[team].groupby(h_or_a_team)[column].shift(i)\n",
    "            ).fillna({'{}_X'.format(column): 0})\n",
    "            team_with_past_dict[team]['{}_{}_{}'.format(letter, column, i)] = d[i].result\n",
    "    return team_with_past_dict"
   ]
  },
  {
   "cell_type": "code",
   "execution_count": 22,
   "metadata": {},
   "outputs": [],
   "source": [
    "def previous_data_call(df, side, column, letter, iterations):\n",
    "    d = previous_data(df, side, column, letter, iterations)\n",
    "    df_result= from_dict_value_to_df(d)\n",
    "    df_result.sort_index(inplace=True)\n",
    "    return df_result"
   ]
  },
  {
   "cell_type": "code",
   "execution_count": 23,
   "metadata": {},
   "outputs": [],
   "source": [
    "df_last_home_results = previous_data_call(df_all, 'home_team_name', 'result', 'H', 3)\n",
    "df_last_away_results = previous_data_call(df_last_home_results, 'away_team_name', 'result', 'A', 3)"
   ]
  },
  {
   "cell_type": "code",
   "execution_count": 24,
   "metadata": {},
   "outputs": [],
   "source": [
    "df_last_last_HTGDIFF_results = previous_data_call(df_last_away_results, 'home_team_name', 'HTGDIFF', 'H', 3)\n",
    "df_last_last_ATGDIFF_results = previous_data_call(df_last_last_HTGDIFF_results, 'away_team_name', 'ATGDIFF', 'A', 3)"
   ]
  },
  {
   "cell_type": "code",
   "execution_count": 25,
   "metadata": {},
   "outputs": [],
   "source": [
    "df_last_AVGFTHG_results = previous_data_call(df_last_last_ATGDIFF_results, 'home_team_name', 'AVGFTHG', 'H', 2)\n",
    "df_last_AVGFTAG_results = previous_data_call(df_last_AVGFTHG_results, 'away_team_name', 'AVGFTAG', 'A', 2)"
   ]
  },
  {
   "cell_type": "code",
   "execution_count": 26,
   "metadata": {},
   "outputs": [],
   "source": [
    "df_all = df_last_AVGFTAG_results.copy()"
   ]
  },
  {
   "cell_type": "code",
   "execution_count": 27,
   "metadata": {},
   "outputs": [],
   "source": [
    "df_all.to_excel('wurst.xlsx')"
   ]
  },
  {
   "cell_type": "code",
   "execution_count": 28,
   "metadata": {
    "scrolled": true
   },
   "outputs": [
    {
     "data": {
      "text/plain": [
       "attendance               0\n",
       "Pre-Match PPG (Home)     0\n",
       "Pre-Match PPG (Away)     0\n",
       "home_ppg                 0\n",
       "away_ppg                 0\n",
       "                        ..\n",
       "H_HTGDIFF_2             36\n",
       "A_ATGDIFF_1             18\n",
       "A_ATGDIFF_2             36\n",
       "H_AVGFTHG_1             18\n",
       "A_AVGFTAG_1             18\n",
       "Length: 68, dtype: int64"
      ]
     },
     "execution_count": 28,
     "metadata": {},
     "output_type": "execute_result"
    }
   ],
   "source": [
    "df_matches_with_aa_numeric = df_all._get_numeric_data()\n",
    "df_matches_with_aa_numeric.drop(['timestamp', 'goal_diff', 'result', 'home_team_goal_count', 'away_team_goal_count'], axis=1, inplace=True)\n",
    "df_matches_with_aa_numeric.isnull().sum(axis = 0)"
   ]
  },
  {
   "cell_type": "code",
   "execution_count": 29,
   "metadata": {},
   "outputs": [],
   "source": [
    "df_norm = (df_matches_with_aa_numeric - df_matches_with_aa_numeric.min()) / (df_matches_with_aa_numeric.max() - df_matches_with_aa_numeric.min())\n"
   ]
  },
  {
   "cell_type": "code",
   "execution_count": 30,
   "metadata": {
    "scrolled": false
   },
   "outputs": [
    {
     "data": {
      "text/plain": [
       "0      20\n",
       "1      22\n",
       "2      21\n",
       "3      18\n",
       "4      20\n",
       "       ..\n",
       "229    23\n",
       "230    30\n",
       "231    29\n",
       "232    27\n",
       "233    27\n",
       "Length: 233, dtype: int64"
      ]
     },
     "execution_count": 30,
     "metadata": {},
     "output_type": "execute_result"
    }
   ],
   "source": [
    "(df_norm == 0).astype(int).sum(axis=1)"
   ]
  },
  {
   "cell_type": "code",
   "execution_count": 31,
   "metadata": {},
   "outputs": [],
   "source": [
    "df_next_games = df_norm.iloc[int_for_test:,:]\n",
    "a = df_next_games.loc[:, (df_next_games != 0).any(axis=0)]\n",
    "a.dropna(axis=1,inplace=True)\n",
    "a.drop(['HTGDIFF', 'ATGDIFF'], inplace=True, axis=1)"
   ]
  },
  {
   "cell_type": "code",
   "execution_count": 32,
   "metadata": {},
   "outputs": [],
   "source": [
    "df_next_games_teams = df_matches_with_aa_complete.iloc[int_for_test:,:][['home_team_name', 'away_team_name']]"
   ]
  },
  {
   "cell_type": "code",
   "execution_count": 33,
   "metadata": {},
   "outputs": [
    {
     "data": {
      "text/plain": [
       "Pre-Match PPG (Home)                    0\n",
       "Pre-Match PPG (Away)                    0\n",
       "home_ppg                                0\n",
       "away_ppg                                0\n",
       "average_goals_per_match_pre_match       0\n",
       "btts_percentage_pre_match               0\n",
       "over_15_percentage_pre_match            0\n",
       "over_25_percentage_pre_match            0\n",
       "over_35_percentage_pre_match            0\n",
       "over_45_percentage_pre_match            0\n",
       "over_15_HT_FHG_percentage_pre_match     0\n",
       "over_05_HT_FHG_percentage_pre_match     0\n",
       "average_corners_per_match_pre_match     0\n",
       "average_cards_per_match_pre_match       0\n",
       "odds_ft_home_team_win                   0\n",
       "odds_ft_draw                            0\n",
       "odds_ft_away_team_win                   0\n",
       "odds_ft_over15                          0\n",
       "odds_ft_over25                          0\n",
       "odds_ft_over35                          0\n",
       "odds_ft_over45                          0\n",
       "odds_btts_yes                           0\n",
       "odds_btts_no                            0\n",
       "ht_0                                    0\n",
       "ht_1                                    0\n",
       "ht_2                                    0\n",
       "ht_3                                    0\n",
       "ht_4                                    0\n",
       "awt_0                                   0\n",
       "awt_1                                   0\n",
       "awt_2                                   0\n",
       "awt_3                                   0\n",
       "awt_4                                   0\n",
       "AVGFTHG                                 0\n",
       "AVGFTAG                                 0\n",
       "H_result_1                             18\n",
       "H_result_2                             36\n",
       "A_result_1                             18\n",
       "A_result_2                             36\n",
       "H_HTGDIFF_1                            18\n",
       "H_HTGDIFF_2                            36\n",
       "A_ATGDIFF_1                            18\n",
       "A_ATGDIFF_2                            36\n",
       "H_AVGFTHG_1                            18\n",
       "A_AVGFTAG_1                            18\n",
       "dtype: int64"
      ]
     },
     "execution_count": 33,
     "metadata": {},
     "output_type": "execute_result"
    }
   ],
   "source": [
    "df_X = df_norm[a.columns]\n",
    "df_X.isnull().sum(axis = 0)"
   ]
  },
  {
   "cell_type": "code",
   "execution_count": 1,
   "metadata": {},
   "outputs": [
    {
     "ename": "NameError",
     "evalue": "name 'df_X' is not defined",
     "output_type": "error",
     "traceback": [
      "\u001b[0;31m---------------------------------------------------------------------------\u001b[0m",
      "\u001b[0;31mNameError\u001b[0m                                 Traceback (most recent call last)",
      "\u001b[0;32m<ipython-input-1-b8f698083d47>\u001b[0m in \u001b[0;36m<module>\u001b[0;34m\u001b[0m\n\u001b[0;32m----> 1\u001b[0;31m \u001b[0mdf_X\u001b[0m\u001b[0;34m\u001b[0m\u001b[0;34m\u001b[0m\u001b[0m\n\u001b[0m",
      "\u001b[0;31mNameError\u001b[0m: name 'df_X' is not defined"
     ]
    }
   ],
   "source": [
    "df_X"
   ]
  },
  {
   "cell_type": "code",
   "execution_count": 132,
   "metadata": {},
   "outputs": [],
   "source": [
    "df_X.fillna(0,inplace=True)"
   ]
  },
  {
   "cell_type": "code",
   "execution_count": 133,
   "metadata": {},
   "outputs": [],
   "source": [
    "X = df_X.iloc[:int_for_test,:]\n",
    "Y = df_all.iloc[:int_for_test,:]['result']\n",
    "Z = df_X.iloc[int_for_test:,:]"
   ]
  },
  {
   "cell_type": "code",
   "execution_count": 134,
   "metadata": {},
   "outputs": [],
   "source": [
    "X.to_pickle(\"X.pkl\")\n",
    "Y.to_pickle(\"Y.pkl\")\n",
    "Z.to_pickle(\"Z.pkl\")\n",
    "df_next_games_teams.to_pickle(\"next_games.pkl\")"
   ]
  },
  {
   "cell_type": "code",
   "execution_count": 136,
   "metadata": {},
   "outputs": [],
   "source": [
    "Z.to_excel(\"Z.xlsx\")"
   ]
  },
  {
   "cell_type": "code",
   "execution_count": null,
   "metadata": {},
   "outputs": [],
   "source": []
  }
 ],
 "metadata": {
  "kernelspec": {
   "display_name": "Python 3",
   "language": "python",
   "name": "python3"
  },
  "language_info": {
   "codemirror_mode": {
    "name": "ipython",
    "version": 3
   },
   "file_extension": ".py",
   "mimetype": "text/x-python",
   "name": "python",
   "nbconvert_exporter": "python",
   "pygments_lexer": "ipython3",
   "version": "3.7.4"
  }
 },
 "nbformat": 4,
 "nbformat_minor": 2
}
