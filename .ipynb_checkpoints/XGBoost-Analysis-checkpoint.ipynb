{
 "cells": [
  {
   "cell_type": "code",
   "execution_count": 1,
   "metadata": {},
   "outputs": [
    {
     "name": "stdout",
     "output_type": "stream",
     "text": [
      "Populating the interactive namespace from numpy and matplotlib\n"
     ]
    }
   ],
   "source": [
    "%pylab inline\n",
    "import xgboost as xgb\n",
    "import pandas as pd\n",
    "import seaborn as sns\n",
    "import numpy as np\n",
    "import scipy \n",
    "import matplotlib.pyplot as plt\n",
    "import matplotlib.style as style\n",
    "from sklearn.linear_model import LogisticRegression\n",
    "import sys\n",
    "from sklearn.model_selection import train_test_split\n",
    "#imports the own created package\n",
    "from sklearn.tree import export_graphviz\n",
    "import clustering as cl\n",
    "from sklearn.feature_selection import SelectFromModel\n",
    "from sklearn.metrics import accuracy_score\n",
    "from sklearn.model_selection import KFold\n",
    "import warnings\n",
    "warnings.filterwarnings('ignore')"
   ]
  },
  {
   "cell_type": "code",
   "execution_count": 2,
   "metadata": {},
   "outputs": [],
   "source": [
    "sns.set(style='whitegrid', rc={'figure.figsize':(11.7,8.27)})\n",
    "sns.set_context('talk', rc={ 'lines.linewidth': 6}, font_scale=1.5)"
   ]
  },
  {
   "cell_type": "code",
   "execution_count": 3,
   "metadata": {},
   "outputs": [],
   "source": [
    "X_with_columns = pd.read_pickle(\"./X.pkl\")\n",
    "Z_with_columns = pd.read_pickle(\"./Z.pkl\")\n",
    "\n",
    "# columns_to_drop = columns_over_95\n",
    "columns_to_drop = [\n",
    "'awt_2', 'ht_4', 'ht_2', 'ht_1', 'awt_4'\n",
    "              ]\n",
    "\n",
    "X_with_columns.drop(columns_to_drop, axis = 1, inplace=True)\n",
    "Z_with_columns.drop(columns_to_drop, axis = 1, inplace=True)\n",
    "\n",
    "X = np.array(X_with_columns)\n",
    "Y = np.array(pd.read_pickle(\"./Y.pkl\"))\n",
    "Z = np.array(Z_with_columns)\n",
    "df_next_games = pd.read_pickle(\"./next_games.pkl\")"
   ]
  },
  {
   "cell_type": "code",
   "execution_count": 4,
   "metadata": {},
   "outputs": [
    {
     "data": {
      "text/plain": [
       "(1430, 40)"
      ]
     },
     "execution_count": 4,
     "metadata": {},
     "output_type": "execute_result"
    }
   ],
   "source": [
    "X.shape"
   ]
  },
  {
   "cell_type": "code",
   "execution_count": 5,
   "metadata": {
    "scrolled": true
   },
   "outputs": [
    {
     "data": {
      "text/plain": [
       "4"
      ]
     },
     "execution_count": 5,
     "metadata": {},
     "output_type": "execute_result"
    }
   ],
   "source": [
    "kf = KFold(n_splits=4, random_state=0, shuffle=True)\n",
    "kf.get_n_splits(X)"
   ]
  },
  {
   "cell_type": "code",
   "execution_count": 6,
   "metadata": {},
   "outputs": [
    {
     "name": "stdout",
     "output_type": "stream",
     "text": [
      "TRAIN: [   0    3    6 ... 1427 1428 1429] TEST: [   1    2    4    5    8    9   14   18   19   27   29   31   34   39\n",
      "   40   44   45   47   49   52   53   54   55   56   58   61   75   77\n",
      "   80   85   92  108  124  140  141  142  148  152  156  159  161  175\n",
      "  182  184  186  192  194  198  202  204  211  215  224  227  231  233\n",
      "  240  241  247  251  253  254  260  268  270  276  278  279  295  298\n",
      "  299  300  302  303  308  310  312  315  317  319  322  326  330  333\n",
      "  342  353  361  362  364  376  381  390  393  399  406  408  412  416\n",
      "  418  422  425  426  427  431  432  434  436  438  440  443  445  446\n",
      "  452  458  459  464  465  466  467  471  472  474  479  483  486  487\n",
      "  491  494  501  512  513  517  526  529  530  533  535  536  539  540\n",
      "  542  548  549  554  557  563  567  569  572  575  578  579  580  583\n",
      "  587  597  601  608  609  610  613  618  619  621  629  641  646  649\n",
      "  651  654  655  656  657  687  695  703  704  711  712  724  729  731\n",
      "  733  737  744  746  751  752  759  760  771  773  781  783  784  788\n",
      "  790  792  793  794  810  811  817  820  823  824  858  863  867  870\n",
      "  881  895  899  902  913  914  918  920  922  927  930  933  935  937\n",
      "  938  940  943  946  957  962  963  970  974  975  981  985  987  991\n",
      "  992  995  998 1000 1005 1011 1012 1015 1019 1027 1029 1030 1036 1038\n",
      " 1039 1044 1046 1047 1050 1051 1054 1057 1058 1061 1062 1063 1079 1086\n",
      " 1091 1093 1099 1100 1101 1109 1115 1120 1126 1129 1130 1135 1142 1147\n",
      " 1148 1157 1161 1170 1173 1175 1186 1188 1189 1192 1195 1200 1211 1218\n",
      " 1219 1223 1228 1229 1231 1232 1233 1237 1239 1242 1247 1248 1256 1261\n",
      " 1263 1265 1267 1274 1279 1281 1282 1284 1285 1288 1293 1294 1303 1304\n",
      " 1305 1308 1311 1318 1319 1321 1322 1326 1328 1335 1346 1347 1352 1356\n",
      " 1357 1358 1360 1361 1368 1372 1374 1375 1376 1386 1389 1391 1394 1397\n",
      " 1399 1400 1401 1404 1413 1420 1422 1423]\n",
      "TRAIN: [   0    1    2 ... 1423 1425 1428] TEST: [   6   10   13   15   16   20   30   37   38   50   60   62   64   65\n",
      "   70   79   81   82   83   88   95   97  101  103  105  110  113  117\n",
      "  118  122  127  131  143  144  145  150  154  158  162  165  181  183\n",
      "  187  188  190  191  193  195  196  200  206  214  222  228  230  235\n",
      "  236  239  242  249  252  255  259  261  262  263  264  265  266  267\n",
      "  269  271  272  283  294  311  316  318  320  328  331  338  349  351\n",
      "  352  356  358  359  363  366  367  371  382  384  386  395  397  402\n",
      "  403  405  411  413  417  420  435  442  453  457  461  473  477  478\n",
      "  481  482  484  485  489  492  495  500  503  505  506  511  520  521\n",
      "  523  528  531  541  545  546  552  553  565  566  568  571  574  581\n",
      "  588  589  590  592  615  625  632  634  638  642  644  648  652  661\n",
      "  662  665  666  667  669  670  672  674  678  679  682  686  688  689\n",
      "  692  693  708  713  716  717  721  725  726  728  740  742  743  748\n",
      "  757  758  761  762  764  768  769  776  785  787  795  798  799  801\n",
      "  805  818  822  826  828  829  831  840  841  842  844  846  847  853\n",
      "  857  861  862  864  866  874  875  877  878  879  880  883  884  891\n",
      "  892  893  898  900  905  906  911  915  916  921  923  924  934  936\n",
      "  942  944  948  950  953  955  958  960  965  966  968  971  977  980\n",
      "  982  983  984  989  999 1002 1003 1010 1014 1017 1021 1024 1041 1042\n",
      " 1048 1049 1052 1055 1064 1070 1072 1073 1074 1078 1087 1092 1095 1102\n",
      " 1103 1105 1110 1114 1116 1122 1124 1133 1139 1144 1146 1149 1164 1177\n",
      " 1178 1182 1183 1191 1199 1202 1205 1212 1215 1220 1222 1225 1234 1240\n",
      " 1241 1243 1245 1253 1254 1255 1257 1258 1259 1262 1264 1270 1275 1280\n",
      " 1283 1295 1301 1306 1307 1310 1317 1320 1325 1330 1333 1336 1338 1340\n",
      " 1350 1353 1354 1355 1363 1364 1369 1370 1377 1379 1385 1387 1388 1398\n",
      " 1412 1415 1418 1419 1424 1426 1427 1429]\n",
      "TRAIN: [   1    2    4 ... 1426 1427 1429] TEST: [   0    3    7   12   17   21   22   26   35   42   46   48   51   63\n",
      "   66   68   71   74   76   78   89   90   96  100  102  104  107  109\n",
      "  112  114  116  119  120  125  126  132  133  134  135  137  138  155\n",
      "  157  167  170  171  172  173  177  178  179  185  205  208  210  213\n",
      "  217  218  219  220  223  225  226  229  237  238  243  245  246  248\n",
      "  250  258  282  284  285  288  289  292  293  301  304  306  309  313\n",
      "  321  325  327  332  334  337  339  344  345  346  347  350  354  355\n",
      "  360  365  369  372  374  375  378  379  380  385  389  391  392  394\n",
      "  396  401  404  409  410  414  415  419  421  424  428  439  441  447\n",
      "  451  454  456  460  462  475  476  490  493  496  497  499  502  507\n",
      "  515  516  518  519  522  524  527  532  538  558  561  564  570  576\n",
      "  577  582  585  593  596  602  603  604  605  614  616  620  622  624\n",
      "  626  627  630  635  636  640  643  650  658  660  664  668  671  676\n",
      "  677  680  681  683  685  690  691  694  698  699  700  702  706  707\n",
      "  709  718  720  722  723  736  738  741  745  747  753  754  766  772\n",
      "  775  780  789  796  808  813  814  815  825  827  830  833  834  836\n",
      "  837  838  839  848  851  852  854  856  869  871  887  896  897  901\n",
      "  904  907  912  926  939  959  961  969  979  986  988  990  993  994\n",
      "  996  997 1001 1008 1009 1013 1018 1023 1025 1026 1031 1032 1034 1045\n",
      " 1056 1059 1069 1075 1076 1081 1083 1084 1088 1089 1090 1096 1097 1098\n",
      " 1108 1113 1123 1125 1127 1128 1131 1132 1136 1140 1145 1150 1151 1154\n",
      " 1156 1158 1160 1163 1165 1166 1168 1174 1179 1180 1184 1185 1187 1194\n",
      " 1196 1197 1209 1210 1213 1214 1217 1226 1227 1230 1236 1238 1244 1246\n",
      " 1260 1266 1269 1278 1287 1290 1291 1296 1302 1309 1315 1323 1331 1337\n",
      " 1339 1341 1342 1343 1348 1349 1351 1371 1373 1382 1402 1403 1405 1407\n",
      " 1408 1410 1411 1414 1416 1421 1428]\n",
      "TRAIN: [   0    1    2 ... 1427 1428 1429] TEST: [  11   23   24   25   28   32   33   36   41   43   57   59   67   69\n",
      "   72   73   84   86   87   91   93   94   98   99  106  111  115  121\n",
      "  123  128  129  130  136  139  146  147  149  151  153  160  163  164\n",
      "  166  168  169  174  176  180  189  197  199  201  203  207  209  212\n",
      "  216  221  232  234  244  256  257  273  274  275  277  280  281  286\n",
      "  287  290  291  296  297  305  307  314  323  324  329  335  336  340\n",
      "  341  343  348  357  368  370  373  377  383  387  388  398  400  407\n",
      "  423  429  430  433  437  444  448  449  450  455  463  468  469  470\n",
      "  480  488  498  504  508  509  510  514  525  534  537  543  544  547\n",
      "  550  551  555  556  559  560  562  573  584  586  591  594  595  598\n",
      "  599  600  606  607  611  612  617  623  628  631  633  637  639  645\n",
      "  647  653  659  663  673  675  684  696  697  701  705  710  714  715\n",
      "  719  727  730  732  734  735  739  749  750  755  756  763  765  767\n",
      "  770  774  777  778  779  782  786  791  797  800  802  803  804  806\n",
      "  807  809  812  816  819  821  832  835  843  845  849  850  855  859\n",
      "  860  865  868  872  873  876  882  885  886  888  889  890  894  903\n",
      "  908  909  910  917  919  925  928  929  931  932  941  945  947  949\n",
      "  951  952  954  956  964  967  972  973  976  978 1004 1006 1007 1016\n",
      " 1020 1022 1028 1033 1035 1037 1040 1043 1053 1060 1065 1066 1067 1068\n",
      " 1071 1077 1080 1082 1085 1094 1104 1106 1107 1111 1112 1117 1118 1119\n",
      " 1121 1134 1137 1138 1141 1143 1152 1153 1155 1159 1162 1167 1169 1171\n",
      " 1172 1176 1181 1190 1193 1198 1201 1203 1204 1206 1207 1208 1216 1221\n",
      " 1224 1235 1249 1250 1251 1252 1268 1271 1272 1273 1276 1277 1286 1289\n",
      " 1292 1297 1298 1299 1300 1312 1313 1314 1316 1324 1327 1329 1332 1334\n",
      " 1344 1345 1359 1362 1365 1366 1367 1378 1380 1381 1383 1384 1390 1392\n",
      " 1393 1395 1396 1406 1409 1417 1425]\n"
     ]
    }
   ],
   "source": [
    "for train_index, test_index in kf.split(X):\n",
    "    print(\"TRAIN:\", train_index, \"TEST:\", test_index)\n",
    "    X_train, X_test = X[train_index], X[test_index]\n",
    "    y_train, y_test = Y[train_index], Y[test_index]"
   ]
  },
  {
   "cell_type": "markdown",
   "metadata": {},
   "source": [
    "## XGBoost"
   ]
  },
  {
   "cell_type": "code",
   "execution_count": 7,
   "metadata": {},
   "outputs": [],
   "source": [
    "XGB_model = xgb.XGBClassifier(seed = 82)\n",
    "XGB_model.fit(X_train, y_train)\n",
    "y_pred = XGB_model.predict(X_test)\n",
    "y_pred_train = XGB_model.predict(X_train)\n",
    "accuracy = accuracy_score(y_test, y_pred)\n",
    "accuracy_train = accuracy_score(y_train, y_pred_train)"
   ]
  },
  {
   "cell_type": "markdown",
   "metadata": {},
   "source": [
    "## LogisticRegression"
   ]
  },
  {
   "cell_type": "code",
   "execution_count": 8,
   "metadata": {},
   "outputs": [],
   "source": [
    "LR = LogisticRegression(random_state = 42)\n",
    "LR.fit(X_train, y_train)\n",
    "LR_y_pred = LR.predict(X_test)\n",
    "LR_y_pred_train = LR.predict(X_train)\n",
    "LR_accuracy = accuracy_score(y_test, LR_y_pred)\n",
    "LR_accuracy_train = accuracy_score(y_train, LR_y_pred_train)\n"
   ]
  },
  {
   "cell_type": "markdown",
   "metadata": {},
   "source": [
    "## Comparassion"
   ]
  },
  {
   "cell_type": "code",
   "execution_count": 9,
   "metadata": {
    "scrolled": false
   },
   "outputs": [
    {
     "name": "stdout",
     "output_type": "stream",
     "text": [
      "XGB train Accuracy: 90.21%\n",
      "XGB Accuracy: 64.71%\n",
      "LR train Accuracy: 69.71%\n",
      "LR Accuracy: 66.95%\n"
     ]
    }
   ],
   "source": [
    "# OVERFITTING\n",
    "print(\"XGB train Accuracy: %.2f%%\" % (accuracy_train * 100.0))\n",
    "print(\"XGB Accuracy: %.2f%%\" % (accuracy * 100.0))\n",
    "print(\"LR train Accuracy: %.2f%%\" % (LR_accuracy_train * 100.0))\n",
    "print(\"LR Accuracy: %.2f%%\" % (LR_accuracy * 100.0))"
   ]
  },
  {
   "cell_type": "code",
   "execution_count": 10,
   "metadata": {},
   "outputs": [],
   "source": [
    "# F1 SCORE"
   ]
  },
  {
   "cell_type": "code",
   "execution_count": 11,
   "metadata": {},
   "outputs": [
    {
     "name": "stdout",
     "output_type": "stream",
     "text": [
      "Feature Importance=0.013, n=40, Accuracy: 64.71%\n",
      "Feature Importance=0.013, n=39, Accuracy: 65.27%\n",
      "Feature Importance=0.013, n=38, Accuracy: 65.83%\n",
      "Feature Importance=0.014, n=37, Accuracy: 65.27%\n",
      "Feature Importance=0.016, n=36, Accuracy: 64.43%\n",
      "Feature Importance=0.016, n=35, Accuracy: 66.67%\n",
      "Feature Importance=0.016, n=34, Accuracy: 66.67%\n",
      "Feature Importance=0.017, n=33, Accuracy: 65.55%\n",
      "Feature Importance=0.017, n=32, Accuracy: 66.39%\n",
      "Feature Importance=0.018, n=31, Accuracy: 65.55%\n",
      "Feature Importance=0.018, n=30, Accuracy: 65.55%\n",
      "Feature Importance=0.018, n=29, Accuracy: 66.11%\n",
      "Feature Importance=0.019, n=28, Accuracy: 66.11%\n",
      "Feature Importance=0.019, n=27, Accuracy: 66.11%\n",
      "Feature Importance=0.019, n=26, Accuracy: 65.27%\n",
      "Feature Importance=0.020, n=25, Accuracy: 66.11%\n",
      "Feature Importance=0.021, n=24, Accuracy: 67.23%\n",
      "Feature Importance=0.021, n=23, Accuracy: 66.39%\n",
      "Feature Importance=0.021, n=22, Accuracy: 66.67%\n",
      "Feature Importance=0.022, n=21, Accuracy: 68.35%\n",
      "Feature Importance=0.022, n=20, Accuracy: 67.51%\n",
      "Feature Importance=0.023, n=19, Accuracy: 66.67%\n",
      "Feature Importance=0.023, n=18, Accuracy: 65.55%\n",
      "Feature Importance=0.023, n=17, Accuracy: 66.11%\n",
      "Feature Importance=0.023, n=16, Accuracy: 64.43%\n",
      "Feature Importance=0.023, n=15, Accuracy: 65.83%\n",
      "Feature Importance=0.024, n=14, Accuracy: 66.11%\n",
      "Feature Importance=0.024, n=13, Accuracy: 65.55%\n",
      "Feature Importance=0.025, n=12, Accuracy: 67.23%\n",
      "Feature Importance=0.025, n=11, Accuracy: 66.11%\n",
      "Feature Importance=0.025, n=10, Accuracy: 65.55%\n",
      "Feature Importance=0.028, n=9, Accuracy: 65.83%\n",
      "Feature Importance=0.030, n=8, Accuracy: 65.55%\n",
      "Feature Importance=0.032, n=7, Accuracy: 65.83%\n",
      "Feature Importance=0.034, n=6, Accuracy: 65.27%\n",
      "Feature Importance=0.036, n=5, Accuracy: 65.55%\n",
      "Feature Importance=0.037, n=4, Accuracy: 66.67%\n",
      "Feature Importance=0.042, n=3, Accuracy: 61.90%\n",
      "Feature Importance=0.067, n=2, Accuracy: 61.06%\n",
      "Feature Importance=0.085, n=1, Accuracy: 57.14%\n"
     ]
    }
   ],
   "source": [
    "feature_importances = sort(XGB_model.feature_importances_)\n",
    "for feature_importance in feature_importances:\n",
    "    # select features using threshold\n",
    "    selection = SelectFromModel(XGB_model, threshold=feature_importance, prefit=True)\n",
    "    select_X_train = selection.transform(X_train)\n",
    "    # train model\n",
    "    selection_model = xgb.XGBClassifier()\n",
    "    selection_model.fit(select_X_train, y_train)\n",
    "    # eval model\n",
    "    select_X_test = selection.transform(X_test)\n",
    "    y_pred = selection_model.predict(select_X_test)\n",
    "    predictions = [round(value) for value in y_pred]\n",
    "    accuracy = accuracy_score(y_test, predictions)\n",
    "    print(\"Feature Importance=%.3f, n=%d, Accuracy: %.2f%%\" % (feature_importance, select_X_train.shape[1], accuracy*100.0))"
   ]
  },
  {
   "cell_type": "code",
   "execution_count": 12,
   "metadata": {},
   "outputs": [],
   "source": [
    "features_names = list(X_with_columns.columns)"
   ]
  },
  {
   "cell_type": "code",
   "execution_count": 13,
   "metadata": {},
   "outputs": [
    {
     "name": "stdout",
     "output_type": "stream",
     "text": [
      "Feature Importance: AVGFTHG                             8.5%\n",
      "Feature Importance: AVGFTAG                             6.71%\n",
      "Feature Importance: H_AVGFTHG_1                         4.18%\n",
      "Feature Importance: A_AVGFTAG_1                         3.65%\n",
      "Feature Importance: A_ATGDIFF_1                         3.62%\n",
      "Feature Importance: away_ppg                            3.43%\n",
      "Feature Importance: home_ppg                            3.16%\n",
      "Feature Importance: odds_ft_away_team_win               3.01%\n",
      "Feature Importance: Pre-Match PPG (Away)                2.8%\n",
      "Feature Importance: average_goals_per_match_pre_match   2.5%\n",
      "Feature Importance: H_result_1                          2.48%\n",
      "Feature Importance: odds_ft_over45                      2.47%\n",
      "Feature Importance: odds_ft_over25                      2.44%\n",
      "Feature Importance: A_ATGDIFF_2                         2.37%\n",
      "Feature Importance: A_result_1                          2.35%\n",
      "Feature Importance: over_25_percentage_pre_match        2.34%\n",
      "Feature Importance: H_HTGDIFF_1                         2.33%\n",
      "Feature Importance: Pre-Match PPG (Home)                2.32%\n",
      "Feature Importance: A_result_2                          2.28%\n",
      "Feature Importance: odds_ft_draw                        2.18%\n",
      "Feature Importance: ht_0                                2.16%\n",
      "Feature Importance: odds_ft_home_team_win               2.09%\n",
      "Feature Importance: over_15_percentage_pre_match        2.05%\n",
      "Feature Importance: H_HTGDIFF_2                         2.05%\n",
      "Feature Importance: over_45_percentage_pre_match        1.98%\n",
      "Feature Importance: btts_percentage_pre_match           1.94%\n",
      "Feature Importance: odds_btts_yes                       1.94%\n",
      "Feature Importance: awt_1                               1.91%\n",
      "Feature Importance: over_05_HT_FHG_percentage_pre_match 1.78%\n",
      "Feature Importance: H_result_2                          1.78%\n",
      "Feature Importance: average_corners_per_match_pre_match 1.76%\n",
      "Feature Importance: ht_3                                1.71%\n",
      "Feature Importance: over_35_percentage_pre_match        1.68%\n",
      "Feature Importance: odds_ft_over35                      1.63%\n",
      "Feature Importance: odds_ft_over15                      1.58%\n",
      "Feature Importance: average_cards_per_match_pre_match   1.55%\n",
      "Feature Importance: over_15_HT_FHG_percentage_pre_match 1.42%\n",
      "Feature Importance: awt_3                               1.32%\n",
      "Feature Importance: odds_btts_no                        1.29%\n",
      "Feature Importance: awt_0                               1.26%\n"
     ]
    }
   ],
   "source": [
    "importance = np.round(XGB_model.feature_importances_,4)\n",
    "dictionary = dict(zip(features_names, importance))\n",
    "sorted_dictionary=sorted(dictionary.items(), key=lambda x:x[1], reverse=True)\n",
    "names=[]\n",
    "values=[]\n",
    "for i in range(0, len(importance)):\n",
    "    print('Feature Importance: {:35} {}%'.format(\n",
    "        sorted_dictionary[i][0], np.round(sorted_dictionary[i][1]*100,4))\n",
    "         )\n",
    "    names.append(sorted_dictionary[i][0])\n",
    "    values.append(np.round(sorted_dictionary[i][1]*100,4))"
   ]
  },
  {
   "cell_type": "code",
   "execution_count": 14,
   "metadata": {},
   "outputs": [
    {
     "data": {
      "text/plain": [
       "['over_15_HT_FHG_percentage_pre_match', 'awt_3', 'odds_btts_no', 'awt_0']"
      ]
     },
     "execution_count": 14,
     "metadata": {},
     "output_type": "execute_result"
    }
   ],
   "source": [
    "cum_values = np.cumsum(values)\n",
    "values_over_95 = (cum_values > 95).sum()\n",
    "columns_over_95 = names[-values_over_95:]\n",
    "columns_over_95"
   ]
  },
  {
   "cell_type": "code",
   "execution_count": 15,
   "metadata": {},
   "outputs": [
    {
     "data": {
      "image/png": "[encoded data removed]",
      "text/plain": [
       "<Figure size 842.4x595.44 with 1 Axes>"
      ]
     },
     "metadata": {},
     "output_type": "display_data"
    }
   ],
   "source": [
    "import seaborn as sns; sns.set()\n",
    "import matplotlib.pyplot as plt\n",
    "bottom, top = ylim()\n",
    "bottom = 0\n",
    "plt.plot(names,cum_values, '--bo', color='r')\n",
    "# set importance at 95%\n",
    "plt.axhline(95,color='black')\n",
    "plt.xticks(rotation=90);\n",
    "plt.xlabel('Feature'); \n",
    "plt.ylabel('Percentage'); \n",
    "plt.title('Cumulative Feature Importance');"
   ]
  },
  {
   "cell_type": "markdown",
   "metadata": {},
   "source": [
    "## Predict Result for Next Games"
   ]
  },
  {
   "cell_type": "code",
   "execution_count": 16,
   "metadata": {},
   "outputs": [],
   "source": [
    "z_pred = XGB_model.predict(Z)"
   ]
  },
  {
   "cell_type": "code",
   "execution_count": 17,
   "metadata": {},
   "outputs": [],
   "source": [
    "xgb_df_next_games = df_next_games.copy()"
   ]
  },
  {
   "cell_type": "code",
   "execution_count": 18,
   "metadata": {},
   "outputs": [],
   "source": [
    "xgb_df_next_games['predicted_result'] = z_pred"
   ]
  },
  {
   "cell_type": "code",
   "execution_count": 19,
   "metadata": {},
   "outputs": [
    {
     "data": {
      "text/html": [
       "<div>\n",
       "<style scoped>\n",
       "    .dataframe tbody tr th:only-of-type {\n",
       "        vertical-align: middle;\n",
       "    }\n",
       "\n",
       "    .dataframe tbody tr th {\n",
       "        vertical-align: top;\n",
       "    }\n",
       "\n",
       "    .dataframe thead th {\n",
       "        text-align: right;\n",
       "    }\n",
       "</style>\n",
       "<table border=\"1\" class=\"dataframe\">\n",
       "  <thead>\n",
       "    <tr style=\"text-align: right;\">\n",
       "      <th></th>\n",
       "      <th>home_team_name</th>\n",
       "      <th>away_team_name</th>\n",
       "      <th>predicted_result</th>\n",
       "    </tr>\n",
       "  </thead>\n",
       "  <tbody>\n",
       "    <tr>\n",
       "      <td>1447</td>\n",
       "      <td>Borussia M'gladbach</td>\n",
       "      <td>Köln</td>\n",
       "      <td>3.0</td>\n",
       "    </tr>\n",
       "    <tr>\n",
       "      <td>1448</td>\n",
       "      <td>Fortuna Düsseldorf</td>\n",
       "      <td>Paderborn</td>\n",
       "      <td>2.0</td>\n",
       "    </tr>\n",
       "    <tr>\n",
       "      <td>1449</td>\n",
       "      <td>Werder Bremen</td>\n",
       "      <td>Bayer Leverkusen</td>\n",
       "      <td>1.0</td>\n",
       "    </tr>\n",
       "    <tr>\n",
       "      <td>1450</td>\n",
       "      <td>Hoffenheim</td>\n",
       "      <td>Hertha BSC</td>\n",
       "      <td>1.0</td>\n",
       "    </tr>\n",
       "    <tr>\n",
       "      <td>1451</td>\n",
       "      <td>RB Leipzig</td>\n",
       "      <td>Freiburg</td>\n",
       "      <td>3.0</td>\n",
       "    </tr>\n",
       "    <tr>\n",
       "      <td>1452</td>\n",
       "      <td>Borussia Dortmund</td>\n",
       "      <td>Schalke 04</td>\n",
       "      <td>3.0</td>\n",
       "    </tr>\n",
       "    <tr>\n",
       "      <td>1453</td>\n",
       "      <td>Köln</td>\n",
       "      <td>Mainz 05</td>\n",
       "      <td>3.0</td>\n",
       "    </tr>\n",
       "    <tr>\n",
       "      <td>1454</td>\n",
       "      <td>Union Berlin</td>\n",
       "      <td>Bayern München</td>\n",
       "      <td>3.0</td>\n",
       "    </tr>\n",
       "    <tr>\n",
       "      <td>1455</td>\n",
       "      <td>Eintracht Frankfurt</td>\n",
       "      <td>Borussia M'gladbach</td>\n",
       "      <td>1.0</td>\n",
       "    </tr>\n",
       "    <tr>\n",
       "      <td>1456</td>\n",
       "      <td>Augsburg</td>\n",
       "      <td>Wolfsburg</td>\n",
       "      <td>1.0</td>\n",
       "    </tr>\n",
       "  </tbody>\n",
       "</table>\n",
       "</div>"
      ],
      "text/plain": [
       "           home_team_name       away_team_name  predicted_result\n",
       "1447  Borussia M'gladbach                 Köln               3.0\n",
       "1448   Fortuna Düsseldorf            Paderborn               2.0\n",
       "1449        Werder Bremen     Bayer Leverkusen               1.0\n",
       "1450           Hoffenheim           Hertha BSC               1.0\n",
       "1451           RB Leipzig             Freiburg               3.0\n",
       "1452    Borussia Dortmund           Schalke 04               3.0\n",
       "1453                 Köln             Mainz 05               3.0\n",
       "1454         Union Berlin       Bayern München               3.0\n",
       "1455  Eintracht Frankfurt  Borussia M'gladbach               1.0\n",
       "1456             Augsburg            Wolfsburg               1.0"
      ]
     },
     "execution_count": 19,
     "metadata": {},
     "output_type": "execute_result"
    }
   ],
   "source": [
    "xgb_df_next_games"
   ]
  },
  {
   "cell_type": "code",
   "execution_count": 20,
   "metadata": {},
   "outputs": [],
   "source": [
    "lr_z_pred = LR.predict(Z)"
   ]
  },
  {
   "cell_type": "code",
   "execution_count": 21,
   "metadata": {},
   "outputs": [],
   "source": [
    "lr_df_next_games = df_next_games.copy()"
   ]
  },
  {
   "cell_type": "code",
   "execution_count": 22,
   "metadata": {},
   "outputs": [],
   "source": [
    "lr_df_next_games['predicted_result'] = lr_z_pred"
   ]
  },
  {
   "cell_type": "code",
   "execution_count": 23,
   "metadata": {},
   "outputs": [
    {
     "data": {
      "text/html": [
       "<div>\n",
       "<style scoped>\n",
       "    .dataframe tbody tr th:only-of-type {\n",
       "        vertical-align: middle;\n",
       "    }\n",
       "\n",
       "    .dataframe tbody tr th {\n",
       "        vertical-align: top;\n",
       "    }\n",
       "\n",
       "    .dataframe thead th {\n",
       "        text-align: right;\n",
       "    }\n",
       "</style>\n",
       "<table border=\"1\" class=\"dataframe\">\n",
       "  <thead>\n",
       "    <tr style=\"text-align: right;\">\n",
       "      <th></th>\n",
       "      <th>home_team_name</th>\n",
       "      <th>away_team_name</th>\n",
       "      <th>predicted_result</th>\n",
       "    </tr>\n",
       "  </thead>\n",
       "  <tbody>\n",
       "    <tr>\n",
       "      <td>1447</td>\n",
       "      <td>Borussia M'gladbach</td>\n",
       "      <td>Köln</td>\n",
       "      <td>3.0</td>\n",
       "    </tr>\n",
       "    <tr>\n",
       "      <td>1448</td>\n",
       "      <td>Fortuna Düsseldorf</td>\n",
       "      <td>Paderborn</td>\n",
       "      <td>1.0</td>\n",
       "    </tr>\n",
       "    <tr>\n",
       "      <td>1449</td>\n",
       "      <td>Werder Bremen</td>\n",
       "      <td>Bayer Leverkusen</td>\n",
       "      <td>1.0</td>\n",
       "    </tr>\n",
       "    <tr>\n",
       "      <td>1450</td>\n",
       "      <td>Hoffenheim</td>\n",
       "      <td>Hertha BSC</td>\n",
       "      <td>1.0</td>\n",
       "    </tr>\n",
       "    <tr>\n",
       "      <td>1451</td>\n",
       "      <td>RB Leipzig</td>\n",
       "      <td>Freiburg</td>\n",
       "      <td>3.0</td>\n",
       "    </tr>\n",
       "    <tr>\n",
       "      <td>1452</td>\n",
       "      <td>Borussia Dortmund</td>\n",
       "      <td>Schalke 04</td>\n",
       "      <td>3.0</td>\n",
       "    </tr>\n",
       "    <tr>\n",
       "      <td>1453</td>\n",
       "      <td>Köln</td>\n",
       "      <td>Mainz 05</td>\n",
       "      <td>3.0</td>\n",
       "    </tr>\n",
       "    <tr>\n",
       "      <td>1454</td>\n",
       "      <td>Union Berlin</td>\n",
       "      <td>Bayern München</td>\n",
       "      <td>1.0</td>\n",
       "    </tr>\n",
       "    <tr>\n",
       "      <td>1455</td>\n",
       "      <td>Eintracht Frankfurt</td>\n",
       "      <td>Borussia M'gladbach</td>\n",
       "      <td>3.0</td>\n",
       "    </tr>\n",
       "    <tr>\n",
       "      <td>1456</td>\n",
       "      <td>Augsburg</td>\n",
       "      <td>Wolfsburg</td>\n",
       "      <td>1.0</td>\n",
       "    </tr>\n",
       "  </tbody>\n",
       "</table>\n",
       "</div>"
      ],
      "text/plain": [
       "           home_team_name       away_team_name  predicted_result\n",
       "1447  Borussia M'gladbach                 Köln               3.0\n",
       "1448   Fortuna Düsseldorf            Paderborn               1.0\n",
       "1449        Werder Bremen     Bayer Leverkusen               1.0\n",
       "1450           Hoffenheim           Hertha BSC               1.0\n",
       "1451           RB Leipzig             Freiburg               3.0\n",
       "1452    Borussia Dortmund           Schalke 04               3.0\n",
       "1453                 Köln             Mainz 05               3.0\n",
       "1454         Union Berlin       Bayern München               1.0\n",
       "1455  Eintracht Frankfurt  Borussia M'gladbach               3.0\n",
       "1456             Augsburg            Wolfsburg               1.0"
      ]
     },
     "execution_count": 23,
     "metadata": {},
     "output_type": "execute_result"
    }
   ],
   "source": [
    "lr_df_next_games"
   ]
  },
  {
   "cell_type": "code",
   "execution_count": null,
   "metadata": {},
   "outputs": [],
   "source": []
  }
 ],
 "metadata": {
  "kernelspec": {
   "display_name": "Python 3",
   "language": "python",
   "name": "python3"
  },
  "language_info": {
   "codemirror_mode": {
    "name": "ipython",
    "version": 3
   },
   "file_extension": ".py",
   "mimetype": "text/x-python",
   "name": "python",
   "nbconvert_exporter": "python",
   "pygments_lexer": "ipython3",
   "version": "3.7.4"
  }
 },
 "nbformat": 4,
 "nbformat_minor": 2
}
