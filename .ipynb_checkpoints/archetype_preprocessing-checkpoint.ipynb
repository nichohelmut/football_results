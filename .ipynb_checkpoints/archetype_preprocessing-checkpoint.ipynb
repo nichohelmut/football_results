{
 "cells": [
  {
   "cell_type": "code",
   "execution_count": 61,
   "metadata": {},
   "outputs": [
    {
     "name": "stdout",
     "output_type": "stream",
     "text": [
      "Populating the interactive namespace from numpy and matplotlib\n"
     ]
    }
   ],
   "source": [
    "%pylab inline\n",
    "import pandas as pd\n",
    "import seaborn as sns\n",
    "import numpy as np\n",
    "import scipy \n",
    "import matplotlib.pyplot as plt\n",
    "import matplotlib.style as style\n",
    "from sklearn.ensemble import RandomForestRegressor\n",
    "import sys\n",
    "from sklearn.model_selection import train_test_split\n",
    "import pydot\n",
    "#imports the own created package\n",
    "from sklearn.tree import export_graphviz\n",
    "import clustering as cl\n",
    "import warnings\n",
    "warnings.filterwarnings('ignore')\n"
   ]
  },
  {
   "cell_type": "code",
   "execution_count": 62,
   "metadata": {},
   "outputs": [],
   "source": [
    "sns.set(style='whitegrid', rc={'figure.figsize':(11.7,8.27)})\n",
    "sns.set_context('talk', rc={ 'lines.linewidth': 6}, font_scale=1.5)"
   ]
  },
  {
   "cell_type": "markdown",
   "metadata": {},
   "source": [
    "## Team Results of actual Season"
   ]
  },
  {
   "cell_type": "code",
   "execution_count": 63,
   "metadata": {},
   "outputs": [],
   "source": [
    "df_teams = pd.read_csv(\"germany-bundesliga-teams-2019-to-2020-stats.csv\")"
   ]
  },
  {
   "cell_type": "code",
   "execution_count": 64,
   "metadata": {},
   "outputs": [],
   "source": [
    "df_teams.to_excel(\"teams.xlsx\")"
   ]
  },
  {
   "cell_type": "code",
   "execution_count": 65,
   "metadata": {},
   "outputs": [],
   "source": [
    "df_teams.sort_values('team_name', inplace=True)"
   ]
  },
  {
   "cell_type": "code",
   "execution_count": 66,
   "metadata": {},
   "outputs": [],
   "source": [
    "df_teams.reset_index(inplace=True)"
   ]
  },
  {
   "cell_type": "code",
   "execution_count": 67,
   "metadata": {},
   "outputs": [],
   "source": [
    "df_teams.drop(\"index\", axis=1, inplace=True)"
   ]
  },
  {
   "cell_type": "markdown",
   "metadata": {},
   "source": [
    "## Team Results of last Season"
   ]
  },
  {
   "cell_type": "code",
   "execution_count": 68,
   "metadata": {},
   "outputs": [],
   "source": [
    "df_teams_last_first = pd.read_csv(\"germany-bundesliga-teams-2018-to-2019-stats.csv\")\n",
    "df_teams_last_first.drop([14, 15, 16], inplace = True)"
   ]
  },
  {
   "cell_type": "code",
   "execution_count": 69,
   "metadata": {},
   "outputs": [],
   "source": [
    "df_teams_last_second = pd.read_csv(\"germany-2-bundesliga-teams-2018-to-2019-stats.csv\")\n",
    "df_teams_last_second = df_teams_last_second.loc[[1,4,7]]"
   ]
  },
  {
   "cell_type": "code",
   "execution_count": 70,
   "metadata": {},
   "outputs": [],
   "source": [
    "df_teams_last_year = pd.concat([df_teams_last_first, df_teams_last_second], axis=0)"
   ]
  },
  {
   "cell_type": "code",
   "execution_count": 71,
   "metadata": {
    "scrolled": true
   },
   "outputs": [],
   "source": [
    "df_teams_last_year.sort_values('team_name', inplace=True)"
   ]
  },
  {
   "cell_type": "code",
   "execution_count": 72,
   "metadata": {},
   "outputs": [],
   "source": [
    "df_teams_last_year.reset_index(inplace=True)"
   ]
  },
  {
   "cell_type": "code",
   "execution_count": 73,
   "metadata": {},
   "outputs": [],
   "source": [
    "df_teams_last_year.drop(\"index\", axis=1, inplace=True)"
   ]
  },
  {
   "cell_type": "markdown",
   "metadata": {},
   "source": [
    "## Merge both DF's"
   ]
  },
  {
   "cell_type": "markdown",
   "metadata": {},
   "source": [
    "Take the mean of columns that cotain averages"
   ]
  },
  {
   "cell_type": "code",
   "execution_count": 74,
   "metadata": {},
   "outputs": [],
   "source": [
    "per_cols = [col for col in df_teams.columns if '_per_' in col]"
   ]
  },
  {
   "cell_type": "code",
   "execution_count": 75,
   "metadata": {},
   "outputs": [],
   "source": [
    "df_per_actual = df_teams[per_cols]\n",
    "df_per_last = df_teams_last_year[per_cols]\n",
    "df_per_both = (df_per_actual + df_per_last) / 2"
   ]
  },
  {
   "cell_type": "code",
   "execution_count": 76,
   "metadata": {},
   "outputs": [],
   "source": [
    "df_actual = df_teams.drop(per_cols, axis=1)\n",
    "df_last = df_teams_last_year.drop(per_cols, axis=1)\n",
    "df_sum = df_actual.iloc[:,4:] + df_last.iloc[:,4:]"
   ]
  },
  {
   "cell_type": "code",
   "execution_count": 77,
   "metadata": {
    "scrolled": true
   },
   "outputs": [],
   "source": [
    "df_both = pd.concat([df_teams.iloc[:,:4], df_sum, df_per_both], axis=1, sort=False)"
   ]
  },
  {
   "cell_type": "code",
   "execution_count": 78,
   "metadata": {},
   "outputs": [
    {
     "data": {
      "text/html": [
       "<div>\n",
       "<style scoped>\n",
       "    .dataframe tbody tr th:only-of-type {\n",
       "        vertical-align: middle;\n",
       "    }\n",
       "\n",
       "    .dataframe tbody tr th {\n",
       "        vertical-align: top;\n",
       "    }\n",
       "\n",
       "    .dataframe thead th {\n",
       "        text-align: right;\n",
       "    }\n",
       "</style>\n",
       "<table border=\"1\" class=\"dataframe\">\n",
       "  <thead>\n",
       "    <tr style=\"text-align: right;\">\n",
       "      <th></th>\n",
       "      <th>team_name</th>\n",
       "      <th>common_name</th>\n",
       "      <th>season</th>\n",
       "      <th>country</th>\n",
       "      <th>matches_played</th>\n",
       "      <th>matches_played_home</th>\n",
       "      <th>matches_played_away</th>\n",
       "      <th>suspended_matches</th>\n",
       "      <th>wins</th>\n",
       "      <th>wins_home</th>\n",
       "      <th>...</th>\n",
       "      <th>goals_scored_per_match_half_time_away</th>\n",
       "      <th>goals_conceded_per_match_half_time</th>\n",
       "      <th>goals_conceded_per_match_half_time_home</th>\n",
       "      <th>goals_conceded_per_match_half_time_away</th>\n",
       "      <th>corners_per_match</th>\n",
       "      <th>corners_per_match_home</th>\n",
       "      <th>corners_per_match_away</th>\n",
       "      <th>cards_per_match</th>\n",
       "      <th>cards_per_match_home</th>\n",
       "      <th>cards_per_match_away</th>\n",
       "    </tr>\n",
       "  </thead>\n",
       "  <tbody>\n",
       "    <tr>\n",
       "      <th>0</th>\n",
       "      <td>1. FC Köln</td>\n",
       "      <td>Köln</td>\n",
       "      <td>2019/2020</td>\n",
       "      <td>Germany</td>\n",
       "      <td>58</td>\n",
       "      <td>29</td>\n",
       "      <td>29</td>\n",
       "      <td>0</td>\n",
       "      <td>29</td>\n",
       "      <td>15</td>\n",
       "      <td>...</td>\n",
       "      <td>0.865</td>\n",
       "      <td>0.675</td>\n",
       "      <td>0.575</td>\n",
       "      <td>0.775</td>\n",
       "      <td>5.680</td>\n",
       "      <td>6.510</td>\n",
       "      <td>4.850</td>\n",
       "      <td>2.475</td>\n",
       "      <td>2.250</td>\n",
       "      <td>2.700</td>\n",
       "    </tr>\n",
       "    <tr>\n",
       "      <th>1</th>\n",
       "      <td>1. FC Union Berlin</td>\n",
       "      <td>Union Berlin</td>\n",
       "      <td>2019/2020</td>\n",
       "      <td>Germany</td>\n",
       "      <td>59</td>\n",
       "      <td>29</td>\n",
       "      <td>30</td>\n",
       "      <td>0</td>\n",
       "      <td>23</td>\n",
       "      <td>17</td>\n",
       "      <td>...</td>\n",
       "      <td>0.425</td>\n",
       "      <td>0.445</td>\n",
       "      <td>0.310</td>\n",
       "      <td>0.580</td>\n",
       "      <td>4.340</td>\n",
       "      <td>4.550</td>\n",
       "      <td>4.140</td>\n",
       "      <td>2.300</td>\n",
       "      <td>1.775</td>\n",
       "      <td>2.795</td>\n",
       "    </tr>\n",
       "    <tr>\n",
       "      <th>2</th>\n",
       "      <td>1. FSV Mainz 05</td>\n",
       "      <td>Mainz 05</td>\n",
       "      <td>2019/2020</td>\n",
       "      <td>Germany</td>\n",
       "      <td>59</td>\n",
       "      <td>30</td>\n",
       "      <td>29</td>\n",
       "      <td>0</td>\n",
       "      <td>20</td>\n",
       "      <td>12</td>\n",
       "      <td>...</td>\n",
       "      <td>0.665</td>\n",
       "      <td>0.925</td>\n",
       "      <td>0.870</td>\n",
       "      <td>0.980</td>\n",
       "      <td>4.605</td>\n",
       "      <td>4.745</td>\n",
       "      <td>4.455</td>\n",
       "      <td>1.925</td>\n",
       "      <td>1.895</td>\n",
       "      <td>1.965</td>\n",
       "    </tr>\n",
       "    <tr>\n",
       "      <th>3</th>\n",
       "      <td>BVB 09 Borussia Dortmund</td>\n",
       "      <td>Borussia Dortmund</td>\n",
       "      <td>2019/2020</td>\n",
       "      <td>Germany</td>\n",
       "      <td>59</td>\n",
       "      <td>29</td>\n",
       "      <td>30</td>\n",
       "      <td>0</td>\n",
       "      <td>38</td>\n",
       "      <td>23</td>\n",
       "      <td>...</td>\n",
       "      <td>0.740</td>\n",
       "      <td>0.570</td>\n",
       "      <td>0.475</td>\n",
       "      <td>0.665</td>\n",
       "      <td>5.570</td>\n",
       "      <td>5.880</td>\n",
       "      <td>5.290</td>\n",
       "      <td>1.215</td>\n",
       "      <td>0.925</td>\n",
       "      <td>1.495</td>\n",
       "    </tr>\n",
       "    <tr>\n",
       "      <th>4</th>\n",
       "      <td>Bayer 04 Leverkusen</td>\n",
       "      <td>Bayer Leverkusen</td>\n",
       "      <td>2019/2020</td>\n",
       "      <td>Germany</td>\n",
       "      <td>59</td>\n",
       "      <td>30</td>\n",
       "      <td>29</td>\n",
       "      <td>0</td>\n",
       "      <td>32</td>\n",
       "      <td>16</td>\n",
       "      <td>...</td>\n",
       "      <td>1.100</td>\n",
       "      <td>0.625</td>\n",
       "      <td>0.635</td>\n",
       "      <td>0.615</td>\n",
       "      <td>5.740</td>\n",
       "      <td>7.060</td>\n",
       "      <td>4.340</td>\n",
       "      <td>1.765</td>\n",
       "      <td>1.485</td>\n",
       "      <td>2.065</td>\n",
       "    </tr>\n",
       "  </tbody>\n",
       "</table>\n",
       "<p>5 rows × 280 columns</p>\n",
       "</div>"
      ],
      "text/plain": [
       "                  team_name        common_name     season  country  \\\n",
       "0                1. FC Köln               Köln  2019/2020  Germany   \n",
       "1        1. FC Union Berlin       Union Berlin  2019/2020  Germany   \n",
       "2           1. FSV Mainz 05           Mainz 05  2019/2020  Germany   \n",
       "3  BVB 09 Borussia Dortmund  Borussia Dortmund  2019/2020  Germany   \n",
       "4       Bayer 04 Leverkusen   Bayer Leverkusen  2019/2020  Germany   \n",
       "\n",
       "   matches_played  matches_played_home  matches_played_away  \\\n",
       "0              58                   29                   29   \n",
       "1              59                   29                   30   \n",
       "2              59                   30                   29   \n",
       "3              59                   29                   30   \n",
       "4              59                   30                   29   \n",
       "\n",
       "   suspended_matches  wins  wins_home  ...  \\\n",
       "0                  0    29         15  ...   \n",
       "1                  0    23         17  ...   \n",
       "2                  0    20         12  ...   \n",
       "3                  0    38         23  ...   \n",
       "4                  0    32         16  ...   \n",
       "\n",
       "   goals_scored_per_match_half_time_away  goals_conceded_per_match_half_time  \\\n",
       "0                                  0.865                               0.675   \n",
       "1                                  0.425                               0.445   \n",
       "2                                  0.665                               0.925   \n",
       "3                                  0.740                               0.570   \n",
       "4                                  1.100                               0.625   \n",
       "\n",
       "   goals_conceded_per_match_half_time_home  \\\n",
       "0                                    0.575   \n",
       "1                                    0.310   \n",
       "2                                    0.870   \n",
       "3                                    0.475   \n",
       "4                                    0.635   \n",
       "\n",
       "   goals_conceded_per_match_half_time_away  corners_per_match  \\\n",
       "0                                    0.775              5.680   \n",
       "1                                    0.580              4.340   \n",
       "2                                    0.980              4.605   \n",
       "3                                    0.665              5.570   \n",
       "4                                    0.615              5.740   \n",
       "\n",
       "   corners_per_match_home  corners_per_match_away  cards_per_match  \\\n",
       "0                   6.510                   4.850            2.475   \n",
       "1                   4.550                   4.140            2.300   \n",
       "2                   4.745                   4.455            1.925   \n",
       "3                   5.880                   5.290            1.215   \n",
       "4                   7.060                   4.340            1.765   \n",
       "\n",
       "   cards_per_match_home  cards_per_match_away  \n",
       "0                 2.250                 2.700  \n",
       "1                 1.775                 2.795  \n",
       "2                 1.895                 1.965  \n",
       "3                 0.925                 1.495  \n",
       "4                 1.485                 2.065  \n",
       "\n",
       "[5 rows x 280 columns]"
      ]
     },
     "execution_count": 78,
     "metadata": {},
     "output_type": "execute_result"
    }
   ],
   "source": [
    "df_both.head()"
   ]
  },
  {
   "cell_type": "markdown",
   "metadata": {},
   "source": [
    "## build the matrix"
   ]
  },
  {
   "cell_type": "code",
   "execution_count": 79,
   "metadata": {},
   "outputs": [
    {
     "data": {
      "text/plain": [
       "(18, 280)"
      ]
     },
     "execution_count": 79,
     "metadata": {},
     "output_type": "execute_result"
    }
   ],
   "source": [
    "df_both.shape"
   ]
  },
  {
   "cell_type": "code",
   "execution_count": 80,
   "metadata": {},
   "outputs": [],
   "source": [
    "df_teams_numerical = df_both.iloc[:,8:]"
   ]
  },
  {
   "cell_type": "code",
   "execution_count": 81,
   "metadata": {},
   "outputs": [],
   "source": [
    "columns = df_both[df_teams_numerical.columns.values]"
   ]
  },
  {
   "cell_type": "code",
   "execution_count": 82,
   "metadata": {},
   "outputs": [],
   "source": [
    "df_norm = (columns - columns.min())/ (columns.max() - columns.min())"
   ]
  },
  {
   "cell_type": "code",
   "execution_count": 83,
   "metadata": {},
   "outputs": [],
   "source": [
    "X = df_norm.as_matrix()"
   ]
  },
  {
   "cell_type": "markdown",
   "metadata": {},
   "source": [
    "## Yunar Approach"
   ]
  },
  {
   "cell_type": "code",
   "execution_count": 84,
   "metadata": {},
   "outputs": [
    {
     "name": "stdout",
     "output_type": "stream",
     "text": [
      "RSS = 15.182352447574932\n",
      "RSS = 13.801669607158745\n",
      "RSS = 13.536986960466924\n",
      "RSS = 13.429927055465566\n",
      "RSS = 13.361939347307983\n",
      "RSS = 13.310426830008515\n",
      "RSS = 13.270082761188853\n",
      "RSS = 13.240771764166116\n",
      "RSS = 13.210365026569937\n",
      "RSS = 13.189004141578925\n",
      "RSS = 13.172841912341855\n",
      "RSS = 13.158367119835901\n",
      "RSS = 13.1471584543473\n",
      "RSS = 13.136295897622084\n",
      "RSS = 13.128026647636032\n",
      "RSS = 13.122067455119891\n",
      "RSS = 13.117521374122656\n",
      "RSS = 13.113006676005142\n",
      "RSS = 13.10889718259901\n",
      "RSS = 13.105181854884645\n",
      "RSS = 13.102224547833897\n",
      "RSS = 13.100077287275173\n",
      "RSS = 13.098535948220068\n",
      "RSS = 13.096698128290452\n",
      "RSS = 13.095493127867181\n",
      "RSS = 13.094278271505594\n",
      "RSS = 13.093095923924674\n",
      "RSS = 13.092450212157619\n",
      "RSS = 13.091438856087244\n",
      "RSS = 13.090559678172024\n"
     ]
    }
   ],
   "source": [
    "archetypal=cl.clustering.ArchetypalAnalysis(n_archetypes=5,iterations=30,tmax=200)\n",
    "archetypal.fit(X)\n",
    "\n",
    "Z=(archetypal.archetypes())"
   ]
  },
  {
   "cell_type": "markdown",
   "metadata": {},
   "source": [
    "## Create Labels"
   ]
  },
  {
   "cell_type": "markdown",
   "metadata": {},
   "source": [
    "This is the team column index"
   ]
  },
  {
   "cell_type": "code",
   "execution_count": 85,
   "metadata": {},
   "outputs": [],
   "source": [
    "teamsList = df_teams['team_name']"
   ]
  },
  {
   "cell_type": "code",
   "execution_count": 86,
   "metadata": {},
   "outputs": [],
   "source": [
    "nTeams=df_both.shape[0]\n",
    "temasColumnOrdering={x:y for y,x in enumerate(teamsList)}"
   ]
  },
  {
   "cell_type": "code",
   "execution_count": 87,
   "metadata": {},
   "outputs": [
    {
     "data": {
      "text/plain": [
       "{'1. FC Köln': 0,\n",
       " '1. FC Union Berlin': 1,\n",
       " '1. FSV Mainz 05': 2,\n",
       " 'BVB 09 Borussia Dortmund': 3,\n",
       " 'Bayer 04 Leverkusen': 4,\n",
       " 'Borussia VfL Mönchengladbach': 5,\n",
       " 'Düsseldorfer TuS Fortuna 1895': 6,\n",
       " 'Eintracht Frankfurt': 7,\n",
       " 'FC Augsburg': 8,\n",
       " 'FC Bayern München': 9,\n",
       " 'FC Schalke 04': 10,\n",
       " 'Hertha BSC': 11,\n",
       " 'Rasen Ballsport Leipzig': 12,\n",
       " 'SC Freiburg': 13,\n",
       " 'SC Paderborn 07': 14,\n",
       " 'SV Werder Bremen': 15,\n",
       " 'TSG 1899 Hoffenheim': 16,\n",
       " 'VfL Wolfsburg': 17}"
      ]
     },
     "execution_count": 87,
     "metadata": {},
     "output_type": "execute_result"
    }
   ],
   "source": [
    "temasColumnOrdering"
   ]
  },
  {
   "cell_type": "code",
   "execution_count": 88,
   "metadata": {},
   "outputs": [],
   "source": [
    "labels={v: k for k, v in temasColumnOrdering.items()}"
   ]
  },
  {
   "cell_type": "code",
   "execution_count": 89,
   "metadata": {
    "scrolled": true
   },
   "outputs": [
    {
     "data": {
      "text/plain": [
       "{0: '1. FC Köln',\n",
       " 1: '1. FC Union Berlin',\n",
       " 2: '1. FSV Mainz 05',\n",
       " 3: 'BVB 09 Borussia Dortmund',\n",
       " 4: 'Bayer 04 Leverkusen',\n",
       " 5: 'Borussia VfL Mönchengladbach',\n",
       " 6: 'Düsseldorfer TuS Fortuna 1895',\n",
       " 7: 'Eintracht Frankfurt',\n",
       " 8: 'FC Augsburg',\n",
       " 9: 'FC Bayern München',\n",
       " 10: 'FC Schalke 04',\n",
       " 11: 'Hertha BSC',\n",
       " 12: 'Rasen Ballsport Leipzig',\n",
       " 13: 'SC Freiburg',\n",
       " 14: 'SC Paderborn 07',\n",
       " 15: 'SV Werder Bremen',\n",
       " 16: 'TSG 1899 Hoffenheim',\n",
       " 17: 'VfL Wolfsburg'}"
      ]
     },
     "execution_count": 89,
     "metadata": {},
     "output_type": "execute_result"
    }
   ],
   "source": [
    "labels"
   ]
  },
  {
   "cell_type": "code",
   "execution_count": 90,
   "metadata": {},
   "outputs": [
    {
     "data": {
      "text/plain": [
       "(18, 5)"
      ]
     },
     "execution_count": 90,
     "metadata": {},
     "output_type": "execute_result"
    }
   ],
   "source": [
    "Z.shape"
   ]
  },
  {
   "cell_type": "code",
   "execution_count": 91,
   "metadata": {
    "scrolled": true
   },
   "outputs": [
    {
     "name": "stdout",
     "output_type": "stream",
     "text": [
      "1. FC Köln                    0.46 0.55 0.93 0.28 0.54 \n",
      "1. FC Union Berlin            0.06 0.48 0.57 0.85 0.18 \n",
      "1. FSV Mainz 05               0.28 0.11 0.66 0.58 0.83 \n",
      "BVB 09 Borussia Dortmund      0.46 0.92 0.76 0.10 0.31 \n",
      "Bayer 04 Leverkusen           0.72 0.41 0.85 0.45 0.40 \n",
      "Borussia VfL Mönchengladbach  0.31 0.38 0.51 0.65 0.29 \n",
      "Düsseldorfer TuS Fortuna 1895 0.08 0.17 0.92 0.58 0.76 \n",
      "Eintracht Frankfurt           0.13 0.47 0.65 0.57 0.50 \n",
      "FC Augsburg                   0.06 0.42 0.62 0.37 0.84 \n",
      "FC Bayern München             0.96 0.88 0.90 0.11 0.04 \n",
      "FC Schalke 04                 0.15 0.10 0.02 0.94 0.52 \n",
      "Hertha BSC                    0.18 0.14 0.49 0.57 0.83 \n",
      "Rasen Ballsport Leipzig       0.57 0.67 0.27 0.60 0.05 \n",
      "SC Freiburg                   0.16 0.20 0.75 0.72 0.54 \n",
      "SC Paderborn 07               0.25 0.32 0.96 0.43 0.84 \n",
      "SV Werder Bremen              0.32 0.12 0.94 0.48 0.82 \n",
      "TSG 1899 Hoffenheim           0.37 0.16 0.82 0.45 0.67 \n",
      "VfL Wolfsburg                 0.28 0.26 0.66 0.77 0.34 \n"
     ]
    }
   ],
   "source": [
    "for i in range(Z.shape[0]):\n",
    "    print(\"{:30}\".format(labels[i]),end='')\n",
    "    for j in Z[i,:]:\n",
    "        print(\"{:.2f} \".format(j),end='')\n",
    "    print(\"\")"
   ]
  },
  {
   "cell_type": "code",
   "execution_count": 92,
   "metadata": {
    "scrolled": true
   },
   "outputs": [
    {
     "data": {
      "image/png": "[encoded data removed]",
      "text/plain": [
       "<Figure size 1440x720 with 1 Axes>"
      ]
     },
     "metadata": {},
     "output_type": "display_data"
    }
   ],
   "source": [
    "A=archetypal.transform(X)\n",
    "dp=archetypal.map2D\n",
    "dat=dp @ A\n",
    "\n",
    "f, ax = plt.subplots(figsize=(20, 10))\n",
    "ax=cl.clustering.archetypal_plot(ax,dat,dp,epsilon=0.1)\n",
    "ax.set_aspect('equal')\n",
    "plt.show()"
   ]
  },
  {
   "cell_type": "code",
   "execution_count": 99,
   "metadata": {
    "scrolled": true
   },
   "outputs": [
    {
     "data": {
      "text/plain": [
       "(18, 272)"
      ]
     },
     "execution_count": 99,
     "metadata": {},
     "output_type": "execute_result"
    }
   ],
   "source": [
    "X.shape"
   ]
  },
  {
   "cell_type": "code",
   "execution_count": 102,
   "metadata": {
    "collapsed": true
   },
   "outputs": [
    {
     "data": {
      "text/plain": [
       "array([0.53846154, 0.42857143, 0.64285714, 0.        , 0.125     ,\n",
       "       0.2       , 0.59090909, 0.69230769, 0.42857143, 0.33333333,\n",
       "       0.40740741, 0.34482759, 0.33333333, 0.57142857, 0.51470588,\n",
       "       0.5       , 0.78787879, 0.65306122, 0.8       , 0.59322034,\n",
       "       0.53333333, 0.60606061, 0.41666667, 0.54545455, 0.55555556,\n",
       "       0.5       , 0.46153846, 0.5       , 0.38461538, 0.7       ,\n",
       "       0.3       , 0.22222222, 0.16666667, 0.4       , 0.52      ,\n",
       "       0.61538462, 0.5       , 0.42677824, 0.51282051, 0.26506024,\n",
       "       1.        , 0.9       , 0.86842105, 0.35135135, 0.36111111,\n",
       "       0.38636364, 0.82188295, 0.91101695, 0.65060241, 0.72      ,\n",
       "       0.85714286, 0.57333333, 0.77559055, 0.8590604 , 0.62686567,\n",
       "       0.69823789, 0.56722689, 0.84259259, 0.53191489, 0.54545455,\n",
       "       0.53846154, 0.44827586, 0.47368421, 0.5625    , 0.46969697,\n",
       "       0.53333333, 0.44736842, 0.68181818, 0.69230769, 0.61538462,\n",
       "       0.        , 0.        , 0.        , 0.77777778, 0.6       ,\n",
       "       0.81818182, 1.        , 1.        , 0.64705882, 0.57894737,\n",
       "       0.57142857, 0.66666667, 1.        , 0.8       , 0.75      ,\n",
       "       0.57142857, 0.38461538, 0.44444444, 0.8       , 0.85714286,\n",
       "       0.375     , 0.44444444, 0.66666667, 0.66666667, 0.        ,\n",
       "       0.        , 0.29411765, 0.36842105, 0.35714286, 0.25      ,\n",
       "       0.        , 0.16666667, 0.25      , 0.4       , 0.61538462,\n",
       "       0.55555556, 0.        , 0.14285714, 0.625     , 0.5       ,\n",
       "       0.28571429, 0.16666667, 1.        , 1.        , 0.67241379,\n",
       "       0.58208955, 0.56521739, 0.61904762, 1.        , 0.73170732,\n",
       "       0.725     , 0.54545455, 0.3258427 , 0.38709677, 1.        ,\n",
       "       0.875     , 0.39655172, 0.45588235, 0.81578947, 0.70731707,\n",
       "       0.        , 0.        , 0.32758621, 0.41791045, 0.43478261,\n",
       "       0.38095238, 0.        , 0.26829268, 0.275     , 0.45454545,\n",
       "       0.6741573 , 0.61290323, 0.        , 0.125     , 0.60344828,\n",
       "       0.54411765, 0.18421053, 0.29268293, 1.        , 0.625     ,\n",
       "       0.42857143, 1.        , 0.6       , 0.1       , 1.        ,\n",
       "       0.625     , 0.66666667, 1.        , 0.625     , 0.44      ,\n",
       "       1.        , 0.60294118, 0.11940299, 1.        , 0.67741935,\n",
       "       0.71666667, 0.52873563, 0.46534653, 0.5959596 , 0.53968254,\n",
       "       0.53333333, 0.53932584, 0.40625   , 0.35      , 0.60294118,\n",
       "       0.37096774, 0.27868852, 0.22368421, 0.46268657, 0.52941176,\n",
       "       0.66666667, 0.43137255, 0.42857143, 0.3       , 0.55555556,\n",
       "       0.46      , 0.45333333, 0.45588235, 0.26086957, 0.25      ,\n",
       "       0.42857143, 0.33333333, 0.28947368, 0.46534653, 0.14285714,\n",
       "       0.125     , 0.14285714, 0.11111111, 0.        , 0.26      ,\n",
       "       0.68055556, 0.70967742, 0.53409091, 0.        , 0.        ,\n",
       "       0.        , 0.84126984, 0.5890411 , 0.94666667, 0.7254902 ,\n",
       "       0.41860465, 0.50980392, 0.65714286, 0.75324675, 0.77631579,\n",
       "       0.8490566 , 1.        , 0.4964539 , 0.33333333, 0.125     ,\n",
       "       0.61538462, 0.83333333, 0.8125    , 1.        , 0.52941176,\n",
       "       0.25      , 0.52380952, 0.90909091, 0.28571429, 0.85714286,\n",
       "       0.5       , 0.        , 0.28571429, 0.55555556, 0.66666667,\n",
       "       0.35294118, 0.46963563, 0.39236111, 0.5528169 , 0.31764706,\n",
       "       0.26785714, 0.28813559, 0.27102804, 0.19230769, 0.39772727,\n",
       "       0.51219512, 0.64529915, 0.32300885, 0.78222222, 0.5994152 ,\n",
       "       0.77981651, 0.52903226, 0.53605769, 0.49848024, 0.56140351,\n",
       "       0.54824561, 0.51372549, 0.73287671, 0.60248447, 0.83443709,\n",
       "       0.51875   , 0.55405405, 0.5       , 0.49494949, 0.424     ,\n",
       "       0.63716814, 0.45137157, 0.50573614, 0.36446886, 1.        ,\n",
       "       0.96363636, 0.92692308])"
      ]
     },
     "execution_count": 102,
     "metadata": {},
     "output_type": "execute_result"
    }
   ],
   "source": [
    "X[0,:]"
   ]
  },
  {
   "cell_type": "code",
   "execution_count": 103,
   "metadata": {
    "scrolled": true
   },
   "outputs": [
    {
     "data": {
      "text/plain": [
       "array([[0.46250384, 0.54520318, 0.9322155 , 0.27571554, 0.54263095],\n",
       "       [0.06119298, 0.48174004, 0.56651782, 0.85144543, 0.18437984],\n",
       "       [0.27520803, 0.10525465, 0.65620009, 0.5805511 , 0.83256951],\n",
       "       [0.4579415 , 0.92466341, 0.75722791, 0.09653319, 0.31367793],\n",
       "       [0.7153417 , 0.40868492, 0.85345531, 0.44628655, 0.40424819],\n",
       "       [0.31060104, 0.37728348, 0.50804239, 0.65396682, 0.29273336],\n",
       "       [0.07623505, 0.17416221, 0.91577067, 0.58081916, 0.76429031],\n",
       "       [0.13450139, 0.46589742, 0.6499204 , 0.56642149, 0.50081551],\n",
       "       [0.06103435, 0.42003313, 0.61767569, 0.37317111, 0.84306988],\n",
       "       [0.96260476, 0.87875133, 0.90005764, 0.11387161, 0.04489697],\n",
       "       [0.15252194, 0.09987996, 0.01507318, 0.93759349, 0.52054186],\n",
       "       [0.1759574 , 0.13794272, 0.48646963, 0.57053411, 0.83040049],\n",
       "       [0.57124278, 0.67149916, 0.27478978, 0.60080283, 0.04826136],\n",
       "       [0.1552907 , 0.20271305, 0.74811994, 0.72179483, 0.54465357],\n",
       "       [0.24514274, 0.31964788, 0.9609877 , 0.4329364 , 0.83993854],\n",
       "       [0.32155931, 0.1161027 , 0.93608105, 0.47649225, 0.82099549],\n",
       "       [0.3700387 , 0.16194577, 0.8245123 , 0.45387592, 0.67405849],\n",
       "       [0.27843529, 0.26291453, 0.65826717, 0.77168618, 0.34285773]])"
      ]
     },
     "execution_count": 103,
     "metadata": {},
     "output_type": "execute_result"
    }
   ],
   "source": [
    "Z"
   ]
  },
  {
   "cell_type": "code",
   "execution_count": 101,
   "metadata": {},
   "outputs": [
    {
     "data": {
      "image/png": "[encoded data removed]",
      "text/plain": [
       "<Figure size 842.4x595.44 with 1 Axes>"
      ]
     },
     "metadata": {},
     "output_type": "display_data"
    }
   ],
   "source": [
    "plt.scatter(X[0,:],X[1,:])\n",
    "# plt.scatter(np.array(Z[0,:]),np.array(Z[1,:]))\n",
    "plt.show()"
   ]
  },
  {
   "cell_type": "markdown",
   "metadata": {},
   "source": [
    "## Create columns with Archetype Values"
   ]
  },
  {
   "cell_type": "code",
   "execution_count": null,
   "metadata": {},
   "outputs": [],
   "source": []
  }
 ],
 "metadata": {
  "kernelspec": {
   "display_name": "Python 3",
   "language": "python",
   "name": "python3"
  },
  "language_info": {
   "codemirror_mode": {
    "name": "ipython",
    "version": 3
   },
   "file_extension": ".py",
   "mimetype": "text/x-python",
   "name": "python",
   "nbconvert_exporter": "python",
   "pygments_lexer": "ipython3",
   "version": "3.7.5"
  }
 },
 "nbformat": 4,
 "nbformat_minor": 2
}
